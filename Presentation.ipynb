{
 "cells": [
  {
   "cell_type": "markdown",
   "id": "026cbe7c-adc4-4e59-8191-60ac1d714442",
   "metadata": {},
   "source": [
    "# Panorama des bibliothèques pour la dataviz avec Python"
   ]
  },
  {
   "cell_type": "markdown",
   "id": "9295b6f9-74a7-415f-b8b4-ddd80a2daeaf",
   "metadata": {
    "jp-MarkdownHeadingCollapsed": true,
    "tags": []
   },
   "source": [
    "## 1. Remarques préalables"
   ]
  },
  {
   "cell_type": "markdown",
   "id": "f0d4eebe-3a9a-4d13-b2c7-72f390204369",
   "metadata": {},
   "source": [
    "Ce document, quelque peu expérimental, vise à dresser un panorama des différentes bibliothèques Python pour la **visualisation de données**. Il s'organise sous la forme d'une quasi liste de course qui tente de cerner les cas d'usages propres à chaque bibliothèque et d'en identifier potentiellement quelques unes qui peuvent se distinguer du lot.\n",
    "\n",
    "Il ne s'agira pas d'explorer ici d'autres bibliothèques sur lesquelles il est quasiment impossible de faire l'impasse lorsqu'on souhaite manipuler et visualiser des données. La liste peut être alongée, mais à minima, elle compte :\n",
    "* [`numpy`](https://numpy.org/) : bibliothèque destinée au calcul numérique optimisé\n",
    "* [`pandas`](https://pandas.pydata.org/) : bibliothèque destinée à la manipulation de données tabulaires"
   ]
  },
  {
   "cell_type": "markdown",
   "id": "4c09b56e-06d1-4e31-b28e-ebaa7c82e98e",
   "metadata": {
    "tags": []
   },
   "source": [
    "## 2. Mise en forme des données"
   ]
  },
  {
   "cell_type": "code",
   "execution_count": 1,
   "id": "2c900ef5-fe7b-4b1c-b3b0-3c06d7423680",
   "metadata": {},
   "outputs": [],
   "source": [
    "import pandas as pd\n",
    "import numpy as np"
   ]
  },
  {
   "cell_type": "markdown",
   "id": "396afd04-5901-41bc-851e-9c9c01f63cb1",
   "metadata": {},
   "source": [
    "Nous travaillerons ici à partir de deux jeux de données relativement simple à explorer et prendre en main. Il est possible de les télécharger directement [ici](https://www.data.gouv.fr/fr/datasets/liste-et-localisation-des-musees-de-france/) et [ici](https://www.data.gouv.fr/fr/datasets/frequentation-des-musees-de-france-1/).\n",
    "\n",
    "Dans un premier temps, nous allons simplement ouvrir les fichiers CSV à l'aide de `pandas`."
   ]
  },
  {
   "cell_type": "code",
   "execution_count": 2,
   "id": "4a9d0def-5221-45e5-a7c4-ac2d6dbdea4a",
   "metadata": {},
   "outputs": [],
   "source": [
    "df_freq = pd.read_csv(\"data/frequentations.csv\", sep=\";\")\n",
    "df_musees = pd.read_csv(\"data/musees.csv\", sep=\";\")"
   ]
  },
  {
   "cell_type": "markdown",
   "id": "5c48a363-fa55-4098-a2de-fe2c1ea430c8",
   "metadata": {},
   "source": [
    "Pour notre travail, nous allons exclure un certain nombre de colonnes de ces tableaux qui ne nous intéresserons pas."
   ]
  },
  {
   "cell_type": "code",
   "execution_count": 3,
   "id": "27516199-d747-42a9-af3d-0cd05fd1cf13",
   "metadata": {},
   "outputs": [],
   "source": [
    "df_freq.drop(columns=[\n",
    "    \"date_appellation\",\n",
    "    \"note\",\n",
    "    \"commentaire\",\n",
    "    \"id_museofile\",\n",
    "    \"observations\",\n",
    "    \"regions\",\n",
    "    \"ville\",\n",
    "    \"nomdep\"\n",
    "], inplace=True)\n",
    "\n",
    "df_musees.drop(columns=[\n",
    "    \"cp\",\n",
    "    \"telephone1\",\n",
    "    \"fax\",\n",
    "    \"fermeture_annuelle\",\n",
    "    \"periode_ouverture\",\n",
    "    \"jours_nocturnes\",\n",
    "    \"date_appellation\",\n",
    "    \"date_retrait_appellation_par_haut_conseil\"\n",
    "], inplace=True)"
   ]
  },
  {
   "cell_type": "markdown",
   "id": "c598315e-2059-46e7-bedc-532a6e7b8698",
   "metadata": {},
   "source": [
    "On peut rapidement visualiser les deux premières lignes de chaque fichier que l'on vient d'ouvrir et d'élaguer. Pour la suite de notre travail, nous récupérerons donc souvent les données à partir de ces deux variables `df_freq` (qui contient les données de fréquentation des musées) et `df_musees` (qui contient les métadonnées associées à chaque musée)."
   ]
  },
  {
   "cell_type": "code",
   "execution_count": 4,
   "id": "4d84406b-11cb-4f62-8458-8e882e91af5d",
   "metadata": {},
   "outputs": [
    {
     "data": {
      "text/html": [
       "<div>\n",
       "<style scoped>\n",
       "    .dataframe tbody tr th:only-of-type {\n",
       "        vertical-align: middle;\n",
       "    }\n",
       "\n",
       "    .dataframe tbody tr th {\n",
       "        vertical-align: top;\n",
       "    }\n",
       "\n",
       "    .dataframe thead th {\n",
       "        text-align: right;\n",
       "    }\n",
       "</style>\n",
       "<table border=\"1\" class=\"dataframe\">\n",
       "  <thead>\n",
       "    <tr style=\"text-align: right;\">\n",
       "      <th></th>\n",
       "      <th>ref_musee</th>\n",
       "      <th>nom_du_musee</th>\n",
       "      <th>annee</th>\n",
       "      <th>payant</th>\n",
       "      <th>gratuit</th>\n",
       "      <th>total</th>\n",
       "    </tr>\n",
       "  </thead>\n",
       "  <tbody>\n",
       "    <tr>\n",
       "      <th>0</th>\n",
       "      <td>8109902</td>\n",
       "      <td>Muséum d'histoire naturelle Philadelphe Thomas</td>\n",
       "      <td>2009</td>\n",
       "      <td>789.0</td>\n",
       "      <td>3683.0</td>\n",
       "      <td>4472.0</td>\n",
       "    </tr>\n",
       "    <tr>\n",
       "      <th>1</th>\n",
       "      <td>8109903</td>\n",
       "      <td>Musée de l'Abbaye Saint-Michel</td>\n",
       "      <td>2009</td>\n",
       "      <td>2613.0</td>\n",
       "      <td>669.0</td>\n",
       "      <td>3282.0</td>\n",
       "    </tr>\n",
       "  </tbody>\n",
       "</table>\n",
       "</div>"
      ],
      "text/plain": [
       "  ref_musee                                    nom_du_musee  annee  payant  \\\n",
       "0   8109902  Muséum d'histoire naturelle Philadelphe Thomas   2009   789.0   \n",
       "1   8109903                  Musée de l'Abbaye Saint-Michel   2009  2613.0   \n",
       "\n",
       "   gratuit   total  \n",
       "0   3683.0  4472.0  \n",
       "1    669.0  3282.0  "
      ]
     },
     "execution_count": 4,
     "metadata": {},
     "output_type": "execute_result"
    }
   ],
   "source": [
    "df_freq.head(2)"
   ]
  },
  {
   "cell_type": "code",
   "execution_count": 5,
   "id": "09168f1e-f520-419c-9518-9e1af3f6394b",
   "metadata": {},
   "outputs": [
    {
     "data": {
      "text/html": [
       "<div>\n",
       "<style scoped>\n",
       "    .dataframe tbody tr th:only-of-type {\n",
       "        vertical-align: middle;\n",
       "    }\n",
       "\n",
       "    .dataframe tbody tr th {\n",
       "        vertical-align: top;\n",
       "    }\n",
       "\n",
       "    .dataframe thead th {\n",
       "        text-align: right;\n",
       "    }\n",
       "</style>\n",
       "<table border=\"1\" class=\"dataframe\">\n",
       "  <thead>\n",
       "    <tr style=\"text-align: right;\">\n",
       "      <th></th>\n",
       "      <th>nom_du_musee</th>\n",
       "      <th>ref_musee</th>\n",
       "      <th>adr</th>\n",
       "      <th>ville</th>\n",
       "      <th>sitweb</th>\n",
       "      <th>region</th>\n",
       "      <th>departement</th>\n",
       "      <th>coordonnees_finales</th>\n",
       "    </tr>\n",
       "  </thead>\n",
       "  <tbody>\n",
       "    <tr>\n",
       "      <th>0</th>\n",
       "      <td>Musée de la Résistance et de la Déportation de...</td>\n",
       "      <td>0126901</td>\n",
       "      <td>3, Montée de l'Abbaye</td>\n",
       "      <td>NANTUA</td>\n",
       "      <td>www.musees.ain.fr</td>\n",
       "      <td>AUVERGNE-RHÔNE-ALPES</td>\n",
       "      <td>AIN</td>\n",
       "      <td>46.152378,5.608744</td>\n",
       "    </tr>\n",
       "    <tr>\n",
       "      <th>1</th>\n",
       "      <td>Musée des Manufactures de Dentelles</td>\n",
       "      <td>4316201</td>\n",
       "      <td>14, avenue de la Gare</td>\n",
       "      <td>RETOURNAC</td>\n",
       "      <td>www.ville-retournac.fr/musee</td>\n",
       "      <td>AUVERGNE-RHÔNE-ALPES</td>\n",
       "      <td>HAUTE-LOIRE</td>\n",
       "      <td>45.202545,4.035302</td>\n",
       "    </tr>\n",
       "  </tbody>\n",
       "</table>\n",
       "</div>"
      ],
      "text/plain": [
       "                                        nom_du_musee ref_musee  \\\n",
       "0  Musée de la Résistance et de la Déportation de...   0126901   \n",
       "1                Musée des Manufactures de Dentelles   4316201   \n",
       "\n",
       "                     adr      ville                        sitweb  \\\n",
       "0  3, Montée de l'Abbaye     NANTUA             www.musees.ain.fr   \n",
       "1  14, avenue de la Gare  RETOURNAC  www.ville-retournac.fr/musee   \n",
       "\n",
       "                 region  departement coordonnees_finales  \n",
       "0  AUVERGNE-RHÔNE-ALPES          AIN  46.152378,5.608744  \n",
       "1  AUVERGNE-RHÔNE-ALPES  HAUTE-LOIRE  45.202545,4.035302  "
      ]
     },
     "execution_count": 5,
     "metadata": {},
     "output_type": "execute_result"
    }
   ],
   "source": [
    "df_musees.head(2)"
   ]
  },
  {
   "cell_type": "markdown",
   "id": "6c937b88-f317-4fb9-a04a-f0f5c736a00f",
   "metadata": {
    "tags": []
   },
   "source": [
    "## 3. Quelques éléments méthodologiques et pratiques"
   ]
  },
  {
   "cell_type": "markdown",
   "id": "124edf35-87f4-402e-8498-3d03444e7cda",
   "metadata": {},
   "source": [
    "Il existe de nombreux ouvrages, de nombreuses règles ou principes de sémiologie graphique qu'il est souvent utile d'avoir à l'esprit pour réaliser des graphiques lisibles, pertinents et honnêtes (dans le sens où ils ne cherchent pas à tromper leur public).\n",
    "\n",
    "Ici, je propose de m'appuyer sur l'article de Nicolas Rougier, [*\"Tne simple rules for better figures\"* (2014)](https://journals.plos.org/ploscompbiol/article?id=10.1371/journal.pcbi.1003833) car il aborde ces questions souvent rebattues pour les poser du point de vue du praticien, de celui qui, face à son outil informatique de visualisation de données préféré, doit effectuer des choix (celui de l'outil dans un premier temps) pour traduire le propos qu'il souhaite véhiculer à travers l'analyse et l'interprétation graphique d'un jeu de données spécifique.\n",
    "\n",
    "Je tente ici d'en résumer, sous forme de liste, les points qui me paraissent les plus importants au regard de notre exploration des bibliothèques pour la visualisation de données avec Python :\n",
    "* Quel est notre message ?\n",
    "* Quel est notre public ?\n",
    "* Il faut adapter le graphique à son support de communication\n",
    "* Il ne faut pas se limiter aux paramètres par défaut de l'outil"
   ]
  },
  {
   "cell_type": "markdown",
   "id": "1d8fce11-9d27-4166-b62c-01a9873c18d6",
   "metadata": {
    "tags": []
   },
   "source": [
    "## 4. Approche brutale avec Autoviz"
   ]
  },
  {
   "cell_type": "markdown",
   "id": "12b058a4-85aa-47e7-a5cf-b95a0db8b3d8",
   "metadata": {
    "tags": []
   },
   "source": [
    "### 4. 1. Présentation de l'outil"
   ]
  },
  {
   "cell_type": "markdown",
   "id": "e22d39c2-3ce1-4db3-a414-1dcca8738b21",
   "metadata": {},
   "source": [
    "`AutoViz` est une bibliothèque de visualisation de données Python qui permet de réaliser toute une batterie de visualisation de données automatiques à partir de n'importe quel jeu de données.\n",
    "\n",
    "L'**approche est néanmoins vraiment brutale** puisqu'elle consiste à s'appuyer, à la fois sur le **typage des colonnes** mais aussi sur un **modèle d'apprentissage statistique** pour adapter les sorties visuelles aux motifs identifiés dans chaque colonne et aux relations entre les colonnes elles-mêmes pour tenter de réaliser les visualisations les plus pertinentes pour chaque cas.\n",
    "\n",
    "Cela nécessite donc, au préalable, d'effectuer ce travail de typage rigoureux et de comprendre les tests automatiques (XGBoost) réalisés par la bibliothèque pour l'exploiter au mieux.\n",
    "\n",
    "`Autoviz` est vraiment tournée vers la pratique de la **science des données** (*data science*) et en particulier l'idée d'identifier des **motifs spécifiques dans de grands jeux de données**. "
   ]
  },
  {
   "cell_type": "markdown",
   "id": "44404384-d9e0-4159-985f-eff4eac995a7",
   "metadata": {
    "tags": []
   },
   "source": [
    "### 4. 2. Documentation"
   ]
  },
  {
   "cell_type": "markdown",
   "id": "091326d5-5d6d-452e-8d63-aaa5a974e023",
   "metadata": {},
   "source": [
    "On peut retrouver toute la documentation à [cette adresse](https://github.com/AutoViML/AutoViz). A cela peut-on ajouter [cet article](https://towardsdatascience.com/autoviz-a-new-tool-for-automated-visualization-ec9c1744a6ad) qui détaille la philosophie de l'outil."
   ]
  },
  {
   "cell_type": "markdown",
   "id": "ebf696c0-4e19-4a41-9cec-c58f5973df81",
   "metadata": {
    "tags": []
   },
   "source": [
    "### 4. 3. En somme"
   ]
  },
  {
   "cell_type": "markdown",
   "id": "cba389e7-f7dc-4c39-a887-f999de81290c",
   "metadata": {
    "jp-MarkdownHeadingCollapsed": true,
    "tags": []
   },
   "source": [
    "* Prêt à l'emploi\n",
    "* Orienté *data science*\n",
    "* Utile pour les grands jeux de données\n",
    "* Visualiser plus pour l'interprétation et la phase de recherche que pour la communication de résultats\n",
    "* Peu d'options de paramétrage (automatique, comme son nom l'indique)\n",
    "* N'est pas adapté à tous les jeux de données"
   ]
  },
  {
   "cell_type": "code",
   "execution_count": 6,
   "id": "08b8f6d7-7fc5-4d2a-a918-d41f55b5a520",
   "metadata": {},
   "outputs": [
    {
     "name": "stdout",
     "output_type": "stream",
     "text": [
      "Imported AutoViz_Class version: 0.0.84. Call using:\n",
      "    AV = AutoViz_Class()\n",
      "    AV.AutoViz(filename, sep=',', depVar='', dfte=None, header=0, verbose=0,\n",
      "                            lowess=False,chart_format='svg',max_rows_analyzed=150000,max_cols_analyzed=30)\n",
      "Note: verbose=0 or 1 generates charts and displays them in your local Jupyter notebook.\n",
      "      verbose=2 does not show plot but creates them and saves them in AutoViz_Plots directory in your local machine.\n"
     ]
    }
   ],
   "source": [
    "from autoviz.AutoViz_Class import AutoViz_Class"
   ]
  },
  {
   "cell_type": "code",
   "execution_count": 7,
   "id": "d561b930-4c99-440f-b661-98ee69d78906",
   "metadata": {},
   "outputs": [
    {
     "name": "stdout",
     "output_type": "stream",
     "text": [
      "Shape of your Data Set loaded: (22447, 14)\n",
      "############## C L A S S I F Y I N G  V A R I A B L E S  ####################\n",
      "Classifying variables in data set...\n",
      "    Number of Numeric Columns =  3\n",
      "    Number of Integer-Categorical Columns =  0\n",
      "    Number of String-Categorical Columns =  1\n",
      "    Number of Factor-Categorical Columns =  0\n",
      "    Number of String-Boolean Columns =  0\n",
      "    Number of Numeric-Boolean Columns =  0\n",
      "    Number of Discrete String Columns =  6\n",
      "    Number of NLP String Columns =  0\n",
      "    Number of Date Time Columns =  1\n",
      "    Number of ID Columns =  0\n",
      "    Number of Columns to Delete =  3\n",
      "    14 Predictors classified...\n",
      "        This does not include the Target column(s)\n",
      "        9 variables removed since they were ID or low-information variables\n",
      "Number of All Scatter Plots = 6\n"
     ]
    },
    {
     "data": {
      "image/png": "[encoded data removed]",
      "text/plain": [
       "<Figure size 1080x576 with 3 Axes>"
      ]
     },
     "metadata": {
      "needs_background": "light"
     },
     "output_type": "display_data"
    },
    {
     "data": {
      "image/png": "[encoded data removed]",
      "text/plain": [
       "<Figure size 1080x1080 with 9 Axes>"
      ]
     },
     "metadata": {
      "needs_background": "light"
     },
     "output_type": "display_data"
    },
    {
     "data": {
      "image/png": "[encoded data removed]",
      "text/plain": [
       "<Figure size 1080x360 with 1 Axes>"
      ]
     },
     "metadata": {
      "needs_background": "light"
     },
     "output_type": "display_data"
    },
    {
     "data": {
      "image/png": "[encoded data removed]",
      "text/plain": [
       "<Figure size 1080x288 with 1 Axes>"
      ]
     },
     "metadata": {
      "needs_background": "light"
     },
     "output_type": "display_data"
    },
    {
     "data": {
      "image/png": "[encoded data removed]",
      "text/plain": [
       "<Figure size 648x432 with 2 Axes>"
      ]
     },
     "metadata": {
      "needs_background": "light"
     },
     "output_type": "display_data"
    },
    {
     "data": {
      "image/png": "[encoded data removed]",
      "text/plain": [
       "<Figure size 1080x576 with 6 Axes>"
      ]
     },
     "metadata": {
      "needs_background": "light"
     },
     "output_type": "display_data"
    },
    {
     "data": {
      "image/png": "[encoded data removed]",
      "text/plain": [
       "<Figure size 1440x720 with 3 Axes>"
      ]
     },
     "metadata": {
      "needs_background": "light"
     },
     "output_type": "display_data"
    },
    {
     "name": "stdout",
     "output_type": "stream",
     "text": [
      "Time to run AutoViz (in seconds) = 13.992\n",
      "\n",
      " ###################### VISUALIZATION Completed ########################\n"
     ]
    }
   ],
   "source": [
    "AV = AutoViz_Class()\n",
    "dft = AV.AutoViz(\n",
    "    filename=\"data/frequentations.csv\",\n",
    "    sep=\";\",\n",
    "    chart_format=\"svg\"\n",
    ")"
   ]
  },
  {
   "cell_type": "markdown",
   "id": "8bd49881-259e-4109-9b5e-53198c06604f",
   "metadata": {
    "tags": []
   },
   "source": [
    "## 5. La bibliothèque classique : Matplotlib"
   ]
  },
  {
   "cell_type": "markdown",
   "id": "551206c3-e4d0-4076-adfd-c692d2138327",
   "metadata": {
    "tags": []
   },
   "source": [
    "### 5. 1. Présentation de l'outil"
   ]
  },
  {
   "cell_type": "markdown",
   "id": "f46e54f1-e7a3-499d-9932-b4b365af2338",
   "metadata": {},
   "source": [
    "`Matplotlib` s'appuie sur **deux philosophies sous-jacentes** qui permettent d'interagir avec la bibliothèque :\n",
    "- L'approche **orientée objet** : il s'agit ici de créer explicitement les objets qui décrivent le graphique et d'appeler les méthodes de l'objet pour y ajouter les données et les éléments de légende\n",
    "- L'approche **pyplot** : plus interactive, cette approche est plus simple et plus rapide et permet de prototyper rapidement des représentations graphiques"
   ]
  },
  {
   "cell_type": "markdown",
   "id": "5fe4f7a7-ae3a-4985-a9d4-8e51c74a961c",
   "metadata": {
    "tags": []
   },
   "source": [
    "#### 5. 1. 1. Approche orientée objet"
   ]
  },
  {
   "cell_type": "code",
   "execution_count": 8,
   "id": "b2f4aefb-a7dd-498c-811a-df9101298134",
   "metadata": {},
   "outputs": [],
   "source": [
    "import matplotlib.pyplot as plt\n",
    "import numpy as np\n",
    "import pandas as pd"
   ]
  },
  {
   "cell_type": "markdown",
   "id": "b8045ed8-dc44-4d30-9a69-c1c10301dc6d",
   "metadata": {},
   "source": [
    "Après avoir importé les bibliothèques nécessaires à la manipulation de nos données, affichons rapidement leur contenu pour en garder une trame générale en tête."
   ]
  },
  {
   "cell_type": "code",
   "execution_count": 9,
   "id": "a733f9ac-61f2-4015-988d-936c5c9819f6",
   "metadata": {},
   "outputs": [
    {
     "data": {
      "text/html": [
       "<div>\n",
       "<style scoped>\n",
       "    .dataframe tbody tr th:only-of-type {\n",
       "        vertical-align: middle;\n",
       "    }\n",
       "\n",
       "    .dataframe tbody tr th {\n",
       "        vertical-align: top;\n",
       "    }\n",
       "\n",
       "    .dataframe thead th {\n",
       "        text-align: right;\n",
       "    }\n",
       "</style>\n",
       "<table border=\"1\" class=\"dataframe\">\n",
       "  <thead>\n",
       "    <tr style=\"text-align: right;\">\n",
       "      <th></th>\n",
       "      <th>ref_musee</th>\n",
       "      <th>nom_du_musee</th>\n",
       "      <th>annee</th>\n",
       "      <th>payant</th>\n",
       "      <th>gratuit</th>\n",
       "      <th>total</th>\n",
       "    </tr>\n",
       "  </thead>\n",
       "  <tbody>\n",
       "    <tr>\n",
       "      <th>0</th>\n",
       "      <td>8109902</td>\n",
       "      <td>Muséum d'histoire naturelle Philadelphe Thomas</td>\n",
       "      <td>2009</td>\n",
       "      <td>789.0</td>\n",
       "      <td>3683.0</td>\n",
       "      <td>4472.0</td>\n",
       "    </tr>\n",
       "    <tr>\n",
       "      <th>1</th>\n",
       "      <td>8109903</td>\n",
       "      <td>Musée de l'Abbaye Saint-Michel</td>\n",
       "      <td>2009</td>\n",
       "      <td>2613.0</td>\n",
       "      <td>669.0</td>\n",
       "      <td>3282.0</td>\n",
       "    </tr>\n",
       "  </tbody>\n",
       "</table>\n",
       "</div>"
      ],
      "text/plain": [
       "  ref_musee                                    nom_du_musee  annee  payant  \\\n",
       "0   8109902  Muséum d'histoire naturelle Philadelphe Thomas   2009   789.0   \n",
       "1   8109903                  Musée de l'Abbaye Saint-Michel   2009  2613.0   \n",
       "\n",
       "   gratuit   total  \n",
       "0   3683.0  4472.0  \n",
       "1    669.0  3282.0  "
      ]
     },
     "execution_count": 9,
     "metadata": {},
     "output_type": "execute_result"
    }
   ],
   "source": [
    "df_freq.head(2)"
   ]
  },
  {
   "cell_type": "code",
   "execution_count": 10,
   "id": "66693f0a-b846-477d-a2f3-e5a899bbb99e",
   "metadata": {},
   "outputs": [
    {
     "data": {
      "text/html": [
       "<div>\n",
       "<style scoped>\n",
       "    .dataframe tbody tr th:only-of-type {\n",
       "        vertical-align: middle;\n",
       "    }\n",
       "\n",
       "    .dataframe tbody tr th {\n",
       "        vertical-align: top;\n",
       "    }\n",
       "\n",
       "    .dataframe thead th {\n",
       "        text-align: right;\n",
       "    }\n",
       "</style>\n",
       "<table border=\"1\" class=\"dataframe\">\n",
       "  <thead>\n",
       "    <tr style=\"text-align: right;\">\n",
       "      <th></th>\n",
       "      <th>nom_du_musee</th>\n",
       "      <th>ref_musee</th>\n",
       "      <th>adr</th>\n",
       "      <th>ville</th>\n",
       "      <th>sitweb</th>\n",
       "      <th>region</th>\n",
       "      <th>departement</th>\n",
       "      <th>coordonnees_finales</th>\n",
       "    </tr>\n",
       "  </thead>\n",
       "  <tbody>\n",
       "    <tr>\n",
       "      <th>0</th>\n",
       "      <td>Musée de la Résistance et de la Déportation de...</td>\n",
       "      <td>0126901</td>\n",
       "      <td>3, Montée de l'Abbaye</td>\n",
       "      <td>NANTUA</td>\n",
       "      <td>www.musees.ain.fr</td>\n",
       "      <td>AUVERGNE-RHÔNE-ALPES</td>\n",
       "      <td>AIN</td>\n",
       "      <td>46.152378,5.608744</td>\n",
       "    </tr>\n",
       "    <tr>\n",
       "      <th>1</th>\n",
       "      <td>Musée des Manufactures de Dentelles</td>\n",
       "      <td>4316201</td>\n",
       "      <td>14, avenue de la Gare</td>\n",
       "      <td>RETOURNAC</td>\n",
       "      <td>www.ville-retournac.fr/musee</td>\n",
       "      <td>AUVERGNE-RHÔNE-ALPES</td>\n",
       "      <td>HAUTE-LOIRE</td>\n",
       "      <td>45.202545,4.035302</td>\n",
       "    </tr>\n",
       "  </tbody>\n",
       "</table>\n",
       "</div>"
      ],
      "text/plain": [
       "                                        nom_du_musee ref_musee  \\\n",
       "0  Musée de la Résistance et de la Déportation de...   0126901   \n",
       "1                Musée des Manufactures de Dentelles   4316201   \n",
       "\n",
       "                     adr      ville                        sitweb  \\\n",
       "0  3, Montée de l'Abbaye     NANTUA             www.musees.ain.fr   \n",
       "1  14, avenue de la Gare  RETOURNAC  www.ville-retournac.fr/musee   \n",
       "\n",
       "                 region  departement coordonnees_finales  \n",
       "0  AUVERGNE-RHÔNE-ALPES          AIN  46.152378,5.608744  \n",
       "1  AUVERGNE-RHÔNE-ALPES  HAUTE-LOIRE  45.202545,4.035302  "
      ]
     },
     "execution_count": 10,
     "metadata": {},
     "output_type": "execute_result"
    }
   ],
   "source": [
    "df_musees.head(2)"
   ]
  },
  {
   "cell_type": "markdown",
   "id": "3fc43a0f-0428-45d1-950d-aef807d89b8e",
   "metadata": {},
   "source": [
    "Dans un premier temps, nous allons simplement afficher le nombre de musées par ville pour tenter de cerner comment se structure la répartition géographique des musées en France."
   ]
  },
  {
   "cell_type": "code",
   "execution_count": 11,
   "id": "ab3a01f8-90e1-4f0d-be81-1b208c239f21",
   "metadata": {},
   "outputs": [],
   "source": [
    "nb_musees_ville = df_musees[\"ville\"].value_counts().head(5)\n",
    "# .head() permet de récupérer les premiers éléments du tableau\n",
    "nom_musees_ville = nb_musees_ville.index\n",
    "# .index permet de récupérer la colonne d'en-tête du tableau"
   ]
  },
  {
   "cell_type": "markdown",
   "id": "2afa0c22-ce3f-4aca-8e65-b03968cf899a",
   "metadata": {},
   "source": [
    "On peut afficher le contenu des variables que l'on vient de créer."
   ]
  },
  {
   "cell_type": "code",
   "execution_count": 12,
   "id": "8b7c1c9e-981e-4721-ae31-e58c306f6469",
   "metadata": {},
   "outputs": [
    {
     "data": {
      "text/plain": [
       "PARIS         51\n",
       "MARSEILLE     15\n",
       "NICE          11\n",
       "STRASBOURG    10\n",
       "LYON          10\n",
       "Name: ville, dtype: int64"
      ]
     },
     "execution_count": 12,
     "metadata": {},
     "output_type": "execute_result"
    }
   ],
   "source": [
    "nb_musees_ville"
   ]
  },
  {
   "cell_type": "code",
   "execution_count": 13,
   "id": "8dd08ef0-38d7-470a-ac7a-46741660baea",
   "metadata": {},
   "outputs": [
    {
     "data": {
      "text/plain": [
       "Index(['PARIS', 'MARSEILLE', 'NICE', 'STRASBOURG', 'LYON'], dtype='object')"
      ]
     },
     "execution_count": 13,
     "metadata": {},
     "output_type": "execute_result"
    }
   ],
   "source": [
    "nom_musees_ville"
   ]
  },
  {
   "cell_type": "markdown",
   "id": "ae1be131-a4e1-43b1-b110-4cf710128ed7",
   "metadata": {},
   "source": [
    "Ici, on peut appeler explicitement la méthode de l'objet `pyplot` `.subplots()` qui permet de créer un couple **figure/axe** qui sont les deux \"atomes\" de `Matplotlib`.\n",
    "\n",
    "L'objet `axes` de `Matplotlib` est celui qui représente une **fenêtre** qui contient un graphique. L'objet `figure` de `Matplotlib` contient, quant à lui, un nombre arbitraire de `axes` que l'on peut évidemment définir. Dans notre cas présent, nous allons simplement créer une `figure` qui contiendra un `axes`."
   ]
  },
  {
   "cell_type": "code",
   "execution_count": 14,
   "id": "a2da1913-94d4-41a5-967d-aa23aa10a011",
   "metadata": {},
   "outputs": [
    {
     "data": {
      "image/png": "[encoded data removed]",
      "text/plain": [
       "<Figure size 432x288 with 1 Axes>"
      ]
     },
     "metadata": {
      "needs_background": "light"
     },
     "output_type": "display_data"
    }
   ],
   "source": [
    "fig, ax = plt.subplots()\n",
    "ax.bar(x=nom_musees_ville, height=nb_musees_ville)\n",
    "ax.set_ylabel(\"Nombre de musées\")\n",
    "ax.set_title(\"Nombre de musées par ville en France\");"
   ]
  },
  {
   "cell_type": "markdown",
   "id": "cb5eb0c4-6a78-4edf-aa78-221af249d3bf",
   "metadata": {},
   "source": [
    "Ici, nous avons utilisé la méthode `.bar()` de l'objet `pyplot` qui nous permet de créer automatique un **diagramme en bâtons**. On peut trouver ici [l'intégralité des paramètres](https://matplotlib.org/stable/api/_as_gen/matplotlib.axes.Axes.bar.html#matplotlib.axes.Axes.bar) qu'il est possible de passer à cette méthode pour adapter le résultat que l'on souhaite obtenir.\n",
    "\n",
    "<div role=\"alert\" class=\"alert alert-success\">A noter au passage un léger détail, on peut ajouter `;` à la dernière méthode de notre bloc de code pour que `Matplotlib` n'affiche pas les détails de l'objet `pyplot` que l'on a créé en construisant notre graphique.</div>"
   ]
  },
  {
   "cell_type": "markdown",
   "id": "02958944-f0ca-47cb-bc0b-dbeff487a368",
   "metadata": {
    "tags": []
   },
   "source": [
    "#### 5. 1. 2. Approche pyplot"
   ]
  },
  {
   "cell_type": "markdown",
   "id": "c3d24509-d3ba-4729-80bb-b5de66b09891",
   "metadata": {},
   "source": [
    "`Matplotlib` permet également de créer directement les graphiques sans se soucier de l'imbrication possible des `axes` et du paramétrage plus fin des `figures`.\n",
    "\n",
    "Ainsi, lorsqu'on souhaite prototyper rapidement et visualiser des résultats pour soi, on peut aller très vite et produire un résultat en une seule ligne."
   ]
  },
  {
   "cell_type": "code",
   "execution_count": 15,
   "id": "6d67c2b6-d50b-4176-8e8d-5e2f568a3a01",
   "metadata": {},
   "outputs": [
    {
     "data": {
      "text/plain": [
       "<BarContainer object of 5 artists>"
      ]
     },
     "execution_count": 15,
     "metadata": {},
     "output_type": "execute_result"
    },
    {
     "data": {
      "image/png": "[encoded data removed]",
      "text/plain": [
       "<Figure size 432x288 with 1 Axes>"
      ]
     },
     "metadata": {
      "needs_background": "light"
     },
     "output_type": "display_data"
    }
   ],
   "source": [
    "plt.bar(x=nom_musees_ville, height=nb_musees_ville)"
   ]
  },
  {
   "cell_type": "markdown",
   "id": "203c6dfd-78f5-4fda-9956-0d1214cf0f6c",
   "metadata": {},
   "source": [
    "Si on le souhaite, on peut très bien également adapter son graphique en passant des options supplémentaires : dans ce cas, on travaillera directement avec l'objet `pyplot`."
   ]
  },
  {
   "cell_type": "code",
   "execution_count": 16,
   "id": "1be226dd-9cfa-4362-abc5-d194c85fe93d",
   "metadata": {},
   "outputs": [
    {
     "data": {
      "image/png": "[encoded data removed]",
      "text/plain": [
       "<Figure size 432x288 with 1 Axes>"
      ]
     },
     "metadata": {
      "needs_background": "light"
     },
     "output_type": "display_data"
    }
   ],
   "source": [
    "plt.bar(x=nom_musees_ville, height=nb_musees_ville)\n",
    "plt.title(\"Nombre de musées par ville en France\");"
   ]
  },
  {
   "cell_type": "markdown",
   "id": "516493f1-e6e3-48dc-97ce-b9f088fd4b06",
   "metadata": {
    "tags": []
   },
   "source": [
    "### 5. 2. Améliorer le premier jet"
   ]
  },
  {
   "cell_type": "markdown",
   "id": "c37ba3f8-894b-4f86-b14b-9957ba54ac16",
   "metadata": {},
   "source": [
    "Conformément aux principes méthodologiques et pratiques que nous avons posé en préambule, prenons le temps de retravailler le résultat de ce premier jet en s'interrogeant :\n",
    "1. Sur la question du message que l'on souhaite transmettre\n",
    "2. Sur la pertinence des options par défaut\n",
    "3. Sur le support auquel notre graphique pourrait s'adapter"
   ]
  },
  {
   "cell_type": "markdown",
   "id": "a76431f3-5afc-4c23-87ef-65009f5c4182",
   "metadata": {
    "tags": []
   },
   "source": [
    "#### 5. 2. 1. Quel est notre message ?"
   ]
  },
  {
   "cell_type": "markdown",
   "id": "9fd22afb-ff1e-4ac2-843f-e94cd45f97f9",
   "metadata": {},
   "source": [
    "A première vue, en s'arrêtant au top 5 des villes françaises comptant le plus de musées, le message paraît assez clair : Paris domine de loin le classement et c'est ce sur quoi on voudrait insister à travers notre graphique.\n",
    "\n",
    "En s'arrêtant rapidement sur les chiffres, on voit que la différence est de l'ordre de 1 à 5 : en additionnant le nombre de musées dans les quatre autres villes du top 5, on arrive pas à égaliser le nombre de musées que compte Paris.\n",
    "\n",
    "En définitive, le message est assez simple et en ce sens, on peut identifier certains éléments que l'on peut modifier sur notre graphique :\n",
    "* Retirer la grille de fond\n",
    "* Retirer la couleur grise du fond qui n'apporte rien en terme de lisibilité ou de message"
   ]
  },
  {
   "cell_type": "code",
   "execution_count": 17,
   "id": "c66ca96f-1cd5-43ee-97d7-cbbf9b4d2c6a",
   "metadata": {},
   "outputs": [
    {
     "data": {
      "image/png": "[encoded data removed]",
      "text/plain": [
       "<Figure size 432x288 with 1 Axes>"
      ]
     },
     "metadata": {
      "needs_background": "light"
     },
     "output_type": "display_data"
    }
   ],
   "source": [
    "fig, ax = plt.subplots()\n",
    "ax.bar(x=nom_musees_ville, height=nb_musees_ville)\n",
    "ax.grid() # Retire la grille de fond\n",
    "ax.set_facecolor(\"white\") # Change la couleur de fond pour la définir en blanc\n",
    "ax.set_ylabel(\"Nombre de musées\")\n",
    "ax.set_title(\"Nombre de musées par ville en France\");"
   ]
  },
  {
   "cell_type": "markdown",
   "id": "7faabaf9-9c28-464d-9af8-939aaddfca8d",
   "metadata": {
    "tags": []
   },
   "source": [
    "#### 5. 2. 2. Ne pas se limiter aux paramètres par défaut"
   ]
  },
  {
   "cell_type": "markdown",
   "id": "ece20540-5f57-4b72-a718-fc970e9dbfcc",
   "metadata": {},
   "source": [
    "Le deuxième point important lorsqu'on travaille avec des bibliothèques de visualisation de données qui embarquent toute une série de présupposés, d'éléments préconstruits, consiste à apprendre à s'en abstraire lorsque c'est nécessaire et explorer leur documentation pour personnaliser les rendus de nos graphiques en fonction de notre message, notre public, notre support.\n",
    "\n",
    "Ici, la police est un peu en retrait, le titre est un peu petit par rapport aux autres éléments de légende et on pourrait certainement améliorer certaines choses en passant des paramètres complémentaires à nos fonctions qui permettent de construire le graphique.\n",
    "\n",
    "Par ailleurs, le rendu visuel n'est pas forcément très propre : on peut voir certains pixels de certains éléments textuels de la légende, ce qui, au-delà du côté esthétique, rend aussi la lecture moins confortable."
   ]
  },
  {
   "cell_type": "markdown",
   "id": "1f778f63-f83f-4bf4-9c9f-a6d2f18d402e",
   "metadata": {},
   "source": [
    "Dans un premier temps, on peut tout d'abord essayer de hiérarchiser les éléments de légende de notre graphique."
   ]
  },
  {
   "cell_type": "code",
   "execution_count": 18,
   "id": "5d106c05-d046-4fc9-972f-f91f8609146b",
   "metadata": {},
   "outputs": [
    {
     "data": {
      "image/png": "[encoded data removed]",
      "text/plain": [
       "<Figure size 432x288 with 1 Axes>"
      ]
     },
     "metadata": {
      "needs_background": "light"
     },
     "output_type": "display_data"
    }
   ],
   "source": [
    "fig, ax = plt.subplots()\n",
    "ax.bar(x=nom_musees_ville, height=nb_musees_ville)\n",
    "ax.grid()\n",
    "ax.set_facecolor(\"white\")\n",
    "ax.tick_params(axis=\"x\", labelsize=13) # On modifie la taille des labels des villes\n",
    "ax.tick_params(axis=\"y\", labelsize=13) # On modifie la taille des labels de l'échelle des ordonnées\n",
    "ax.set_ylabel(\"Nombre de musées\", fontsize=15) # On modifie la taille du titre des ordonnées\n",
    "ax.set_title(\"Nombre de musées par ville en France\", fontsize=18); # Même chose pour le titre du graphique"
   ]
  },
  {
   "cell_type": "markdown",
   "id": "fc2dcac6-9cd7-475e-a9fb-f728d7989f86",
   "metadata": {},
   "source": [
    "En plus cela, on peut également ajouter du \"poids\" au texte en les passant en gras ou en italique, par exemple."
   ]
  },
  {
   "cell_type": "code",
   "execution_count": 19,
   "id": "17804cd2-e302-4243-bccb-a45c5e9f273b",
   "metadata": {},
   "outputs": [
    {
     "data": {
      "image/png": "[encoded data removed]",
      "text/plain": [
       "<Figure size 432x288 with 1 Axes>"
      ]
     },
     "metadata": {
      "needs_background": "light"
     },
     "output_type": "display_data"
    }
   ],
   "source": [
    "fig, ax = plt.subplots()\n",
    "ax.bar(x=nom_musees_ville, height=nb_musees_ville)\n",
    "ax.grid()\n",
    "ax.set_facecolor(\"white\")\n",
    "ax.tick_params(axis=\"x\", labelsize=13)\n",
    "ax.tick_params(axis=\"y\", labelsize=13)\n",
    "ax.set_ylabel(\"Nombre de musées\", fontsize=15)\n",
    "ax.set_title(\"Nombre de musées par ville en France\", fontsize=18, fontweight=\"bold\");\n",
    "# Même chose pour le titre du graphique"
   ]
  },
  {
   "cell_type": "markdown",
   "id": "f5d7685d-36c1-4381-8da9-3b78f27376d4",
   "metadata": {},
   "source": [
    "Ensuite, on pourrait simplement produire un graphique un plus grand : pour cela, on peut modifier le paramètre de la méthode `.subplots()`."
   ]
  },
  {
   "cell_type": "code",
   "execution_count": 20,
   "id": "af02ad8f-2a8e-4ca6-bbc5-258a38f516be",
   "metadata": {},
   "outputs": [
    {
     "data": {
      "image/png": "[encoded data removed]",
      "text/plain": [
       "<Figure size 648x576 with 1 Axes>"
      ]
     },
     "metadata": {
      "needs_background": "light"
     },
     "output_type": "display_data"
    }
   ],
   "source": [
    "fig, ax = plt.subplots(figsize=(9, 8)) # On modifie le paramètre figsize de notre figure\n",
    "ax.bar(x=nom_musees_ville, height=nb_musees_ville)\n",
    "ax.grid()\n",
    "ax.set_facecolor(\"white\")\n",
    "ax.tick_params(axis=\"x\", labelsize=13)\n",
    "ax.tick_params(axis=\"y\", labelsize=13)\n",
    "ax.set_ylabel(\"Nombre de musées\", fontsize=15)\n",
    "ax.set_title(\"Nombre de musées par ville en France\", fontsize=18, fontweight=\"bold\");"
   ]
  },
  {
   "cell_type": "markdown",
   "id": "1d74a3b8-cc24-42b4-8970-6af5b73425df",
   "metadata": {},
   "source": [
    "A ce stade, on peut encore modifier quelques détails : à mon goût, le titre de l'axe des ordonnées de notre graphique est trop proche des éléments de l'échelle, on pourrait espacer un peu plus le rendu.\n",
    "\n",
    "On pourrait faire la même remarque avec le titre du graphique. A ce propos, sachez qu'il existe une page de la documentation de `Matplotlib` entièrement [dédiée à ce sujet](https://matplotlib.org/stable/gallery/text_labels_and_annotations/titles_demo.html)."
   ]
  },
  {
   "cell_type": "code",
   "execution_count": 21,
   "id": "feecb2ff-b385-4153-ba65-33a0625ce208",
   "metadata": {},
   "outputs": [
    {
     "data": {
      "image/png": "[encoded data removed]",
      "text/plain": [
       "<Figure size 648x576 with 1 Axes>"
      ]
     },
     "metadata": {
      "needs_background": "light"
     },
     "output_type": "display_data"
    }
   ],
   "source": [
    "fig, ax = plt.subplots(figsize=(9, 8))\n",
    "ax.bar(x=nom_musees_ville, height=nb_musees_ville)\n",
    "ax.grid()\n",
    "ax.set_facecolor(\"white\")\n",
    "ax.tick_params(axis=\"x\", labelsize=13)\n",
    "ax.tick_params(axis=\"y\", labelsize=13)\n",
    "ax.set_ylabel(\n",
    "    ylabel=\"Nombre de musées\",\n",
    "    fontsize=15,\n",
    "    labelpad=25) # On modifie le padding du label des ordonnées\n",
    "ax.set_title(\n",
    "    label=\"Nombre de musées par ville en France\",\n",
    "    fontsize=18,\n",
    "    fontweight=\"bold\",\n",
    "    pad=15); # On modifie le padding du titre du graphique"
   ]
  },
  {
   "cell_type": "markdown",
   "id": "570faba6-d7cd-47da-8db8-3cb5505c76c2",
   "metadata": {},
   "source": [
    "On pourrait peut-être encore améliorer les choses en plaçant le texte à l'horizontale et en jouant à nouveau avec ses coordonnées."
   ]
  },
  {
   "cell_type": "code",
   "execution_count": 22,
   "id": "9b868391-016d-4020-a9e2-9e85df1a16f9",
   "metadata": {},
   "outputs": [
    {
     "data": {
      "image/png": "[encoded data removed]",
      "text/plain": [
       "<Figure size 648x576 with 1 Axes>"
      ]
     },
     "metadata": {
      "needs_background": "light"
     },
     "output_type": "display_data"
    }
   ],
   "source": [
    "fig, ax = plt.subplots(figsize=(9, 8))\n",
    "ax.bar(x=nom_musees_ville, height=nb_musees_ville)\n",
    "ax.grid()\n",
    "ax.set_facecolor(\"white\")\n",
    "ax.tick_params(axis=\"x\", labelsize=13)\n",
    "ax.tick_params(axis=\"y\", labelsize=13)\n",
    "ax.set_ylabel(\n",
    "    ylabel=\"Nombre de musées\",\n",
    "    fontsize=15,\n",
    "    labelpad=25,\n",
    "    rotation=0 # On modifie l'axe d'affichage du label des ordonnées\n",
    "    )\n",
    "ax.set_title(\n",
    "    label=\"Nombre de musées par ville en France\",\n",
    "    fontsize=18,\n",
    "    fontweight=\"bold\",\n",
    "    pad=15);"
   ]
  },
  {
   "cell_type": "markdown",
   "id": "f4a7c42a-c814-404c-a924-dffc912e3ea3",
   "metadata": {},
   "source": [
    "C'est bien, mais à présent, il faudrait pouvoir replacer la légende de l'axe des ordonnées."
   ]
  },
  {
   "cell_type": "code",
   "execution_count": 23,
   "id": "9ea23731-bb0c-4d55-a72c-66924a008c8c",
   "metadata": {},
   "outputs": [
    {
     "data": {
      "image/png": "[encoded data removed]",
      "text/plain": [
       "<Figure size 648x576 with 1 Axes>"
      ]
     },
     "metadata": {
      "needs_background": "light"
     },
     "output_type": "display_data"
    }
   ],
   "source": [
    "fig, ax = plt.subplots(figsize=(9, 8))\n",
    "ax.bar(x=nom_musees_ville, height=nb_musees_ville)\n",
    "ax.grid()\n",
    "ax.set_facecolor(\"white\")\n",
    "ax.tick_params(axis=\"x\", labelsize=13)\n",
    "ax.tick_params(axis=\"y\", labelsize=13)\n",
    "ax.set_ylabel(\n",
    "    ylabel=\"Nombre de musées\",\n",
    "    fontsize=15,\n",
    "    labelpad=25,\n",
    "    rotation=0\n",
    "    )\n",
    "ax.yaxis.set_label_coords(-0.14, 0.98) # On ajuste manuelle les coordonnées du label des ordonnées\n",
    "ax.set_title(\n",
    "    label=\"Nombre de musées par ville en France\",\n",
    "    fontsize=18,\n",
    "    fontweight=\"bold\",\n",
    "    pad=15);"
   ]
  },
  {
   "cell_type": "markdown",
   "id": "4bc365e0-2b32-4c35-9da2-bfcd4b029e03",
   "metadata": {},
   "source": [
    "Si on fait ce choix, il paraît judicieux de placer le titre sous le graphique pour ne pas brouiller la lecture."
   ]
  },
  {
   "cell_type": "code",
   "execution_count": 24,
   "id": "ef2d46ae-5b28-48a5-a6e8-4322e4b1fb53",
   "metadata": {},
   "outputs": [
    {
     "data": {
      "image/png": "[encoded data removed]",
      "text/plain": [
       "<Figure size 648x576 with 1 Axes>"
      ]
     },
     "metadata": {
      "needs_background": "light"
     },
     "output_type": "display_data"
    }
   ],
   "source": [
    "fig, ax = plt.subplots(figsize=(9, 8))\n",
    "ax.bar(x=nom_musees_ville, height=nb_musees_ville)\n",
    "ax.grid()\n",
    "ax.set_facecolor(\"white\")\n",
    "ax.tick_params(axis=\"x\", labelsize=13)\n",
    "ax.tick_params(axis=\"y\", labelsize=13)\n",
    "ax.set_ylabel(\n",
    "    ylabel=\"Nombre de musées\",\n",
    "    fontsize=15,\n",
    "    labelpad=25,\n",
    "    rotation=0\n",
    "    )\n",
    "ax.yaxis.set_label_coords(-0.14, 0.98)\n",
    "ax.set_title(\n",
    "    label=\"Nombre de musées par ville en France\",\n",
    "    fontsize=18,\n",
    "    fontweight=\"bold\",\n",
    "    y=-0.15); # On déplace le titre en bas du graphique"
   ]
  },
  {
   "cell_type": "markdown",
   "id": "c192410f-7372-4c26-a841-beb7cc07e1e4",
   "metadata": {},
   "source": [
    "Pour aller plus loin, on peut tenter de reconstruire la légende de notre axe des ordonnées et faire apparaître directement les valeurs correspondantes à chaque ville sur le graphique."
   ]
  },
  {
   "cell_type": "code",
   "execution_count": 25,
   "id": "6f33b208-b58b-49b2-8514-56abd3471411",
   "metadata": {},
   "outputs": [],
   "source": [
    "# On définit une fonction pour annoter chaque bâton avec la valeur correspondante à chaque ville\n",
    "def label_bars(bars):\n",
    "    for bar in bars:\n",
    "        height = bar.get_height()\n",
    "        ax.text(\n",
    "            bar.get_x() + bar.get_width() / 2,\n",
    "            height / 2.65,\n",
    "            height,\n",
    "            horizontalalignment=\"center\",\n",
    "            fontsize=14,\n",
    "            color=\"white\",\n",
    "            fontweight=\"bold\"\n",
    "        )"
   ]
  },
  {
   "cell_type": "code",
   "execution_count": 26,
   "id": "114ea24b-955d-463d-b110-7d1f071e3f7c",
   "metadata": {},
   "outputs": [
    {
     "data": {
      "image/png": "[encoded data removed]",
      "text/plain": [
       "<Figure size 576x504 with 1 Axes>"
      ]
     },
     "metadata": {
      "needs_background": "light"
     },
     "output_type": "display_data"
    }
   ],
   "source": [
    "fig, ax = plt.subplots(figsize=(8, 7))\n",
    "bars = ax.bar(\n",
    "    x=nom_musees_ville,\n",
    "    height=nb_musees_ville,\n",
    "    **{\n",
    "        \"fill\": True,\n",
    "        \"edgecolor\": \"#8C8C8C\",\n",
    "        \"facecolor\": \"#ADB6C4\",\n",
    "        \"linewidth\": 0.95\n",
    "      })\n",
    "ax.grid()\n",
    "ax.set_facecolor(\"white\")\n",
    "ax.tick_params(axis=\"x\", labelsize=13)\n",
    "ax.get_yaxis().set_ticks([])\n",
    "ax.set_title(\n",
    "    label=\"Nombre de musées par ville en France\",\n",
    "    fontsize=18,\n",
    "    fontweight=\"bold\",\n",
    "    y=-0.15);\n",
    "\n",
    "label_bars(bars)"
   ]
  },
  {
   "cell_type": "markdown",
   "id": "e95f2d06-95cd-4393-9dfb-ce1f19451050",
   "metadata": {
    "tags": []
   },
   "source": [
    "#### 5. 2. 3. Adapter nos graphiques aux supports"
   ]
  },
  {
   "cell_type": "markdown",
   "id": "1e26b236-2d6d-4886-bcc6-f58d9ba37240",
   "metadata": {},
   "source": [
    "On peut maintenant s'attaquer au problème de résolution de nos éléments de texte de légende de notre graphique. Là encore, les paramètres par défaut de la bibliothèque `Matplotlib` produisent des graphiques au format image (`.png`) alors qu'il serait plus agréable de pouvoir obtenir une sortie au format vectoriel afin que les éléments à afficher s'adaptent à la taille de l'écran de chacune et chacun.\n",
    "\n",
    "S'il s'agirait simplement d'explorer rapidement et graphiquement des données pour prototyper un travail d'analyse ou visualiser certains aspects d'un jeu de données, il peut être intéressant de conserver un format de sortie image car il sera plus léger lorsqu'on souhaitera produire des graphiques plus riches (plus une image est complexe, plus elle a d'éléments à afficher et plus un fichier vectoriel sera lourd car il devra décrire cette complexité et tous les points à afficher).\n",
    "\n",
    "Pour cela, il faut s'attaquer aux paramètres du module `IPython` qui supporte **Jupyter**."
   ]
  },
  {
   "cell_type": "code",
   "execution_count": 27,
   "id": "2f6eb671-ae95-457f-9883-5ef14b3c6c9f",
   "metadata": {},
   "outputs": [],
   "source": [
    "from IPython.display import set_matplotlib_formats\n",
    "set_matplotlib_formats(\"svg\")"
   ]
  },
  {
   "cell_type": "code",
   "execution_count": 28,
   "id": "ca62029b-7330-497c-ac96-512457c041cd",
   "metadata": {},
   "outputs": [
    {
     "data": {
      "image/svg+xml": [
       "<?xml version=\"1.0\" encoding=\"utf-8\" standalone=\"no\"?>\n",
       "<!DOCTYPE svg PUBLIC \"-//W3C//DTD SVG 1.1//EN\"\n",
       "  \"http://www.w3.org/Graphics/SVG/1.1/DTD/svg11.dtd\">\n",
       "<svg height=\"449.550187pt\" version=\"1.1\" viewBox=\"0 0 460.8 449.550187\" width=\"460.8pt\" xmlns=\"http://www.w3.org/2000/svg\" xmlns:xlink=\"http://www.w3.org/1999/xlink\">\n",
       " <metadata>\n",
       "  <rdf:RDF xmlns:cc=\"http://creativecommons.org/ns#\" xmlns:dc=\"http://purl.org/dc/elements/1.1/\" xmlns:rdf=\"http://www.w3.org/1999/02/22-rdf-syntax-ns#\">\n",
       "   <cc:Work>\n",
       "    <dc:type rdf:resource=\"http://purl.org/dc/dcmitype/StillImage\"/>\n",
       "    <dc:date>2021-10-26T01:23:03.263164</dc:date>\n",
       "    <dc:format>image/svg+xml</dc:format>\n",
       "    <dc:creator>\n",
       "     <cc:Agent>\n",
       "      <dc:title>Matplotlib v3.4.2, https://matplotlib.org/</dc:title>\n",
       "     </cc:Agent>\n",
       "    </dc:creator>\n",
       "   </cc:Work>\n",
       "  </rdf:RDF>\n",
       " </metadata>\n",
       " <defs>\n",
       "  <style type=\"text/css\">*{stroke-linecap:butt;stroke-linejoin:round;}</style>\n",
       " </defs>\n",
       " <g id=\"figure_1\">\n",
       "  <g id=\"patch_1\">\n",
       "   <path d=\"M 0 449.550187 \n",
       "L 460.8 449.550187 \n",
       "L 460.8 0 \n",
       "L 0 0 \n",
       "z\n",
       "\" style=\"fill:none;\"/>\n",
       "  </g>\n",
       "  <g id=\"axes_1\">\n",
       "   <g id=\"patch_2\">\n",
       "    <path d=\"M 7.2 387.72 \n",
       "L 453.6 387.72 \n",
       "L 453.6 7.2 \n",
       "L 7.2 7.2 \n",
       "z\n",
       "\" style=\"fill:#ffffff;\"/>\n",
       "   </g>\n",
       "   <g id=\"matplotlib.axis_1\">\n",
       "    <g id=\"xtick_1\">\n",
       "     <g id=\"text_1\">\n",
       "      <!-- PARIS -->\n",
       "      <g style=\"fill:#262626;\" transform=\"translate(42.281357 404.025156)scale(0.13 -0.13)\">\n",
       "       <defs>\n",
       "        <path d=\"M 494 0 \n",
       "L 494 4581 \n",
       "L 2222 4581 \n",
       "Q 2678 4581 2919 4538 \n",
       "Q 3256 4481 3484 4323 \n",
       "Q 3713 4166 3852 3881 \n",
       "Q 3991 3597 3991 3256 \n",
       "Q 3991 2672 3619 2267 \n",
       "Q 3247 1863 2275 1863 \n",
       "L 1100 1863 \n",
       "L 1100 0 \n",
       "L 494 0 \n",
       "z\n",
       "M 1100 2403 \n",
       "L 2284 2403 \n",
       "Q 2872 2403 3119 2622 \n",
       "Q 3366 2841 3366 3238 \n",
       "Q 3366 3525 3220 3729 \n",
       "Q 3075 3934 2838 4000 \n",
       "Q 2684 4041 2272 4041 \n",
       "L 1100 4041 \n",
       "L 1100 2403 \n",
       "z\n",
       "\" id=\"ArialMT-50\" transform=\"scale(0.015625)\"/>\n",
       "        <path d=\"M -9 0 \n",
       "L 1750 4581 \n",
       "L 2403 4581 \n",
       "L 4278 0 \n",
       "L 3588 0 \n",
       "L 3053 1388 \n",
       "L 1138 1388 \n",
       "L 634 0 \n",
       "L -9 0 \n",
       "z\n",
       "M 1313 1881 \n",
       "L 2866 1881 \n",
       "L 2388 3150 \n",
       "Q 2169 3728 2063 4100 \n",
       "Q 1975 3659 1816 3225 \n",
       "L 1313 1881 \n",
       "z\n",
       "\" id=\"ArialMT-41\" transform=\"scale(0.015625)\"/>\n",
       "        <path d=\"M 503 0 \n",
       "L 503 4581 \n",
       "L 2534 4581 \n",
       "Q 3147 4581 3465 4457 \n",
       "Q 3784 4334 3975 4021 \n",
       "Q 4166 3709 4166 3331 \n",
       "Q 4166 2844 3850 2509 \n",
       "Q 3534 2175 2875 2084 \n",
       "Q 3116 1969 3241 1856 \n",
       "Q 3506 1613 3744 1247 \n",
       "L 4541 0 \n",
       "L 3778 0 \n",
       "L 3172 953 \n",
       "Q 2906 1366 2734 1584 \n",
       "Q 2563 1803 2427 1890 \n",
       "Q 2291 1978 2150 2013 \n",
       "Q 2047 2034 1813 2034 \n",
       "L 1109 2034 \n",
       "L 1109 0 \n",
       "L 503 0 \n",
       "z\n",
       "M 1109 2559 \n",
       "L 2413 2559 \n",
       "Q 2828 2559 3062 2645 \n",
       "Q 3297 2731 3419 2920 \n",
       "Q 3541 3109 3541 3331 \n",
       "Q 3541 3656 3305 3865 \n",
       "Q 3069 4075 2559 4075 \n",
       "L 1109 4075 \n",
       "L 1109 2559 \n",
       "z\n",
       "\" id=\"ArialMT-52\" transform=\"scale(0.015625)\"/>\n",
       "        <path d=\"M 597 0 \n",
       "L 597 4581 \n",
       "L 1203 4581 \n",
       "L 1203 0 \n",
       "L 597 0 \n",
       "z\n",
       "\" id=\"ArialMT-49\" transform=\"scale(0.015625)\"/>\n",
       "        <path d=\"M 288 1472 \n",
       "L 859 1522 \n",
       "Q 900 1178 1048 958 \n",
       "Q 1197 738 1509 602 \n",
       "Q 1822 466 2213 466 \n",
       "Q 2559 466 2825 569 \n",
       "Q 3091 672 3220 851 \n",
       "Q 3350 1031 3350 1244 \n",
       "Q 3350 1459 3225 1620 \n",
       "Q 3100 1781 2813 1891 \n",
       "Q 2628 1963 1997 2114 \n",
       "Q 1366 2266 1113 2400 \n",
       "Q 784 2572 623 2826 \n",
       "Q 463 3081 463 3397 \n",
       "Q 463 3744 659 4045 \n",
       "Q 856 4347 1234 4503 \n",
       "Q 1613 4659 2075 4659 \n",
       "Q 2584 4659 2973 4495 \n",
       "Q 3363 4331 3572 4012 \n",
       "Q 3781 3694 3797 3291 \n",
       "L 3216 3247 \n",
       "Q 3169 3681 2898 3903 \n",
       "Q 2628 4125 2100 4125 \n",
       "Q 1550 4125 1298 3923 \n",
       "Q 1047 3722 1047 3438 \n",
       "Q 1047 3191 1225 3031 \n",
       "Q 1400 2872 2139 2705 \n",
       "Q 2878 2538 3153 2413 \n",
       "Q 3553 2228 3743 1945 \n",
       "Q 3934 1663 3934 1294 \n",
       "Q 3934 928 3725 604 \n",
       "Q 3516 281 3123 101 \n",
       "Q 2731 -78 2241 -78 \n",
       "Q 1619 -78 1198 103 \n",
       "Q 778 284 539 648 \n",
       "Q 300 1013 288 1472 \n",
       "z\n",
       "\" id=\"ArialMT-53\" transform=\"scale(0.015625)\"/>\n",
       "       </defs>\n",
       "       <use xlink:href=\"#ArialMT-50\"/>\n",
       "       <use x=\"59.324219\" xlink:href=\"#ArialMT-41\"/>\n",
       "       <use x=\"126.023438\" xlink:href=\"#ArialMT-52\"/>\n",
       "       <use x=\"198.240234\" xlink:href=\"#ArialMT-49\"/>\n",
       "       <use x=\"226.023438\" xlink:href=\"#ArialMT-53\"/>\n",
       "      </g>\n",
       "     </g>\n",
       "    </g>\n",
       "    <g id=\"xtick_2\">\n",
       "     <g id=\"text_2\">\n",
       "      <!-- MARSEILLE -->\n",
       "      <g style=\"fill:#262626;\" transform=\"translate(109.368217 404.025156)scale(0.13 -0.13)\">\n",
       "       <defs>\n",
       "        <path d=\"M 475 0 \n",
       "L 475 4581 \n",
       "L 1388 4581 \n",
       "L 2472 1338 \n",
       "Q 2622 884 2691 659 \n",
       "Q 2769 909 2934 1394 \n",
       "L 4031 4581 \n",
       "L 4847 4581 \n",
       "L 4847 0 \n",
       "L 4263 0 \n",
       "L 4263 3834 \n",
       "L 2931 0 \n",
       "L 2384 0 \n",
       "L 1059 3900 \n",
       "L 1059 0 \n",
       "L 475 0 \n",
       "z\n",
       "\" id=\"ArialMT-4d\" transform=\"scale(0.015625)\"/>\n",
       "        <path d=\"M 506 0 \n",
       "L 506 4581 \n",
       "L 3819 4581 \n",
       "L 3819 4041 \n",
       "L 1113 4041 \n",
       "L 1113 2638 \n",
       "L 3647 2638 \n",
       "L 3647 2100 \n",
       "L 1113 2100 \n",
       "L 1113 541 \n",
       "L 3925 541 \n",
       "L 3925 0 \n",
       "L 506 0 \n",
       "z\n",
       "\" id=\"ArialMT-45\" transform=\"scale(0.015625)\"/>\n",
       "        <path d=\"M 469 0 \n",
       "L 469 4581 \n",
       "L 1075 4581 \n",
       "L 1075 541 \n",
       "L 3331 541 \n",
       "L 3331 0 \n",
       "L 469 0 \n",
       "z\n",
       "\" id=\"ArialMT-4c\" transform=\"scale(0.015625)\"/>\n",
       "       </defs>\n",
       "       <use xlink:href=\"#ArialMT-4d\"/>\n",
       "       <use x=\"83.300781\" xlink:href=\"#ArialMT-41\"/>\n",
       "       <use x=\"150\" xlink:href=\"#ArialMT-52\"/>\n",
       "       <use x=\"222.216797\" xlink:href=\"#ArialMT-53\"/>\n",
       "       <use x=\"288.916016\" xlink:href=\"#ArialMT-45\"/>\n",
       "       <use x=\"355.615234\" xlink:href=\"#ArialMT-49\"/>\n",
       "       <use x=\"383.398438\" xlink:href=\"#ArialMT-4c\"/>\n",
       "       <use x=\"439.013672\" xlink:href=\"#ArialMT-4c\"/>\n",
       "       <use x=\"494.628906\" xlink:href=\"#ArialMT-45\"/>\n",
       "      </g>\n",
       "     </g>\n",
       "    </g>\n",
       "    <g id=\"xtick_3\">\n",
       "     <g id=\"text_3\">\n",
       "      <!-- NICE -->\n",
       "      <g style=\"fill:#262626;\" transform=\"translate(214.870078 404.025156)scale(0.13 -0.13)\">\n",
       "       <defs>\n",
       "        <path d=\"M 488 0 \n",
       "L 488 4581 \n",
       "L 1109 4581 \n",
       "L 3516 984 \n",
       "L 3516 4581 \n",
       "L 4097 4581 \n",
       "L 4097 0 \n",
       "L 3475 0 \n",
       "L 1069 3600 \n",
       "L 1069 0 \n",
       "L 488 0 \n",
       "z\n",
       "\" id=\"ArialMT-4e\" transform=\"scale(0.015625)\"/>\n",
       "        <path d=\"M 3763 1606 \n",
       "L 4369 1453 \n",
       "Q 4178 706 3683 314 \n",
       "Q 3188 -78 2472 -78 \n",
       "Q 1731 -78 1267 223 \n",
       "Q 803 525 561 1097 \n",
       "Q 319 1669 319 2325 \n",
       "Q 319 3041 592 3573 \n",
       "Q 866 4106 1370 4382 \n",
       "Q 1875 4659 2481 4659 \n",
       "Q 3169 4659 3637 4309 \n",
       "Q 4106 3959 4291 3325 \n",
       "L 3694 3184 \n",
       "Q 3534 3684 3231 3912 \n",
       "Q 2928 4141 2469 4141 \n",
       "Q 1941 4141 1586 3887 \n",
       "Q 1231 3634 1087 3207 \n",
       "Q 944 2781 944 2328 \n",
       "Q 944 1744 1114 1308 \n",
       "Q 1284 872 1643 656 \n",
       "Q 2003 441 2422 441 \n",
       "Q 2931 441 3284 734 \n",
       "Q 3638 1028 3763 1606 \n",
       "z\n",
       "\" id=\"ArialMT-43\" transform=\"scale(0.015625)\"/>\n",
       "       </defs>\n",
       "       <use xlink:href=\"#ArialMT-4e\"/>\n",
       "       <use x=\"72.216797\" xlink:href=\"#ArialMT-49\"/>\n",
       "       <use x=\"100\" xlink:href=\"#ArialMT-43\"/>\n",
       "       <use x=\"172.216797\" xlink:href=\"#ArialMT-45\"/>\n",
       "      </g>\n",
       "     </g>\n",
       "    </g>\n",
       "    <g id=\"xtick_4\">\n",
       "     <g id=\"text_4\">\n",
       "      <!-- STRASBOURG -->\n",
       "      <g style=\"fill:#262626;\" transform=\"translate(269.438345 404.025156)scale(0.13 -0.13)\">\n",
       "       <defs>\n",
       "        <path d=\"M 1659 0 \n",
       "L 1659 4041 \n",
       "L 150 4041 \n",
       "L 150 4581 \n",
       "L 3781 4581 \n",
       "L 3781 4041 \n",
       "L 2266 4041 \n",
       "L 2266 0 \n",
       "L 1659 0 \n",
       "z\n",
       "\" id=\"ArialMT-54\" transform=\"scale(0.015625)\"/>\n",
       "        <path d=\"M 469 0 \n",
       "L 469 4581 \n",
       "L 2188 4581 \n",
       "Q 2713 4581 3030 4442 \n",
       "Q 3347 4303 3526 4014 \n",
       "Q 3706 3725 3706 3409 \n",
       "Q 3706 3116 3547 2856 \n",
       "Q 3388 2597 3066 2438 \n",
       "Q 3481 2316 3704 2022 \n",
       "Q 3928 1728 3928 1328 \n",
       "Q 3928 1006 3792 729 \n",
       "Q 3656 453 3456 303 \n",
       "Q 3256 153 2954 76 \n",
       "Q 2653 0 2216 0 \n",
       "L 469 0 \n",
       "z\n",
       "M 1075 2656 \n",
       "L 2066 2656 \n",
       "Q 2469 2656 2644 2709 \n",
       "Q 2875 2778 2992 2937 \n",
       "Q 3109 3097 3109 3338 \n",
       "Q 3109 3566 3000 3739 \n",
       "Q 2891 3913 2687 3977 \n",
       "Q 2484 4041 1991 4041 \n",
       "L 1075 4041 \n",
       "L 1075 2656 \n",
       "z\n",
       "M 1075 541 \n",
       "L 2216 541 \n",
       "Q 2509 541 2628 563 \n",
       "Q 2838 600 2978 687 \n",
       "Q 3119 775 3209 942 \n",
       "Q 3300 1109 3300 1328 \n",
       "Q 3300 1584 3169 1773 \n",
       "Q 3038 1963 2805 2039 \n",
       "Q 2572 2116 2134 2116 \n",
       "L 1075 2116 \n",
       "L 1075 541 \n",
       "z\n",
       "\" id=\"ArialMT-42\" transform=\"scale(0.015625)\"/>\n",
       "        <path d=\"M 309 2231 \n",
       "Q 309 3372 921 4017 \n",
       "Q 1534 4663 2503 4663 \n",
       "Q 3138 4663 3647 4359 \n",
       "Q 4156 4056 4423 3514 \n",
       "Q 4691 2972 4691 2284 \n",
       "Q 4691 1588 4409 1038 \n",
       "Q 4128 488 3612 205 \n",
       "Q 3097 -78 2500 -78 \n",
       "Q 1853 -78 1343 234 \n",
       "Q 834 547 571 1087 \n",
       "Q 309 1628 309 2231 \n",
       "z\n",
       "M 934 2222 \n",
       "Q 934 1394 1379 917 \n",
       "Q 1825 441 2497 441 \n",
       "Q 3181 441 3623 922 \n",
       "Q 4066 1403 4066 2288 \n",
       "Q 4066 2847 3877 3264 \n",
       "Q 3688 3681 3323 3911 \n",
       "Q 2959 4141 2506 4141 \n",
       "Q 1863 4141 1398 3698 \n",
       "Q 934 3256 934 2222 \n",
       "z\n",
       "\" id=\"ArialMT-4f\" transform=\"scale(0.015625)\"/>\n",
       "        <path d=\"M 3500 4581 \n",
       "L 4106 4581 \n",
       "L 4106 1934 \n",
       "Q 4106 1244 3950 837 \n",
       "Q 3794 431 3386 176 \n",
       "Q 2978 -78 2316 -78 \n",
       "Q 1672 -78 1262 144 \n",
       "Q 853 366 678 786 \n",
       "Q 503 1206 503 1934 \n",
       "L 503 4581 \n",
       "L 1109 4581 \n",
       "L 1109 1938 \n",
       "Q 1109 1341 1220 1058 \n",
       "Q 1331 775 1601 622 \n",
       "Q 1872 469 2263 469 \n",
       "Q 2931 469 3215 772 \n",
       "Q 3500 1075 3500 1938 \n",
       "L 3500 4581 \n",
       "z\n",
       "\" id=\"ArialMT-55\" transform=\"scale(0.015625)\"/>\n",
       "        <path d=\"M 2638 1797 \n",
       "L 2638 2334 \n",
       "L 4578 2338 \n",
       "L 4578 638 \n",
       "Q 4131 281 3656 101 \n",
       "Q 3181 -78 2681 -78 \n",
       "Q 2006 -78 1454 211 \n",
       "Q 903 500 622 1047 \n",
       "Q 341 1594 341 2269 \n",
       "Q 341 2938 620 3517 \n",
       "Q 900 4097 1425 4378 \n",
       "Q 1950 4659 2634 4659 \n",
       "Q 3131 4659 3532 4498 \n",
       "Q 3934 4338 4162 4050 \n",
       "Q 4391 3763 4509 3300 \n",
       "L 3963 3150 \n",
       "Q 3859 3500 3706 3700 \n",
       "Q 3553 3900 3268 4020 \n",
       "Q 2984 4141 2638 4141 \n",
       "Q 2222 4141 1919 4014 \n",
       "Q 1616 3888 1430 3681 \n",
       "Q 1244 3475 1141 3228 \n",
       "Q 966 2803 966 2306 \n",
       "Q 966 1694 1177 1281 \n",
       "Q 1388 869 1791 669 \n",
       "Q 2194 469 2647 469 \n",
       "Q 3041 469 3416 620 \n",
       "Q 3791 772 3984 944 \n",
       "L 3984 1797 \n",
       "L 2638 1797 \n",
       "z\n",
       "\" id=\"ArialMT-47\" transform=\"scale(0.015625)\"/>\n",
       "       </defs>\n",
       "       <use xlink:href=\"#ArialMT-53\"/>\n",
       "       <use x=\"66.699219\" xlink:href=\"#ArialMT-54\"/>\n",
       "       <use x=\"127.783203\" xlink:href=\"#ArialMT-52\"/>\n",
       "       <use x=\"200\" xlink:href=\"#ArialMT-41\"/>\n",
       "       <use x=\"266.699219\" xlink:href=\"#ArialMT-53\"/>\n",
       "       <use x=\"333.398438\" xlink:href=\"#ArialMT-42\"/>\n",
       "       <use x=\"400.097656\" xlink:href=\"#ArialMT-4f\"/>\n",
       "       <use x=\"477.880859\" xlink:href=\"#ArialMT-55\"/>\n",
       "       <use x=\"550.097656\" xlink:href=\"#ArialMT-52\"/>\n",
       "       <use x=\"622.314453\" xlink:href=\"#ArialMT-47\"/>\n",
       "      </g>\n",
       "     </g>\n",
       "    </g>\n",
       "    <g id=\"xtick_5\">\n",
       "     <g id=\"text_5\">\n",
       "      <!-- LYON -->\n",
       "      <g style=\"fill:#262626;\" transform=\"translate(382.269972 404.025156)scale(0.13 -0.13)\">\n",
       "       <defs>\n",
       "        <path d=\"M 1784 0 \n",
       "L 1784 1941 \n",
       "L 19 4581 \n",
       "L 756 4581 \n",
       "L 1659 3200 \n",
       "Q 1909 2813 2125 2425 \n",
       "Q 2331 2784 2625 3234 \n",
       "L 3513 4581 \n",
       "L 4219 4581 \n",
       "L 2391 1941 \n",
       "L 2391 0 \n",
       "L 1784 0 \n",
       "z\n",
       "\" id=\"ArialMT-59\" transform=\"scale(0.015625)\"/>\n",
       "       </defs>\n",
       "       <use xlink:href=\"#ArialMT-4c\"/>\n",
       "       <use x=\"48.240234\" xlink:href=\"#ArialMT-59\"/>\n",
       "       <use x=\"114.939453\" xlink:href=\"#ArialMT-4f\"/>\n",
       "       <use x=\"192.722656\" xlink:href=\"#ArialMT-4e\"/>\n",
       "      </g>\n",
       "     </g>\n",
       "    </g>\n",
       "   </g>\n",
       "   <g id=\"matplotlib.axis_2\"/>\n",
       "   <g id=\"patch_3\">\n",
       "    <path clip-path=\"url(#p74da8ab416)\" d=\"M 27.490909 387.72 \n",
       "L 95.127273 387.72 \n",
       "L 95.127273 25.32 \n",
       "L 27.490909 25.32 \n",
       "z\n",
       "\" style=\"fill:#adb6c4;stroke:#8c8c8c;stroke-linejoin:miter;stroke-width:0.95;\"/>\n",
       "   </g>\n",
       "   <g id=\"patch_4\">\n",
       "    <path clip-path=\"url(#p74da8ab416)\" d=\"M 112.036364 387.72 \n",
       "L 179.672727 387.72 \n",
       "L 179.672727 281.131765 \n",
       "L 112.036364 281.131765 \n",
       "z\n",
       "\" style=\"fill:#adb6c4;stroke:#8c8c8c;stroke-linejoin:miter;stroke-width:0.95;\"/>\n",
       "   </g>\n",
       "   <g id=\"patch_5\">\n",
       "    <path clip-path=\"url(#p74da8ab416)\" d=\"M 196.581818 387.72 \n",
       "L 264.218182 387.72 \n",
       "L 264.218182 309.555294 \n",
       "L 196.581818 309.555294 \n",
       "z\n",
       "\" style=\"fill:#adb6c4;stroke:#8c8c8c;stroke-linejoin:miter;stroke-width:0.95;\"/>\n",
       "   </g>\n",
       "   <g id=\"patch_6\">\n",
       "    <path clip-path=\"url(#p74da8ab416)\" d=\"M 281.127273 387.72 \n",
       "L 348.763636 387.72 \n",
       "L 348.763636 316.661176 \n",
       "L 281.127273 316.661176 \n",
       "z\n",
       "\" style=\"fill:#adb6c4;stroke:#8c8c8c;stroke-linejoin:miter;stroke-width:0.95;\"/>\n",
       "   </g>\n",
       "   <g id=\"patch_7\">\n",
       "    <path clip-path=\"url(#p74da8ab416)\" d=\"M 365.672727 387.72 \n",
       "L 433.309091 387.72 \n",
       "L 433.309091 316.661176 \n",
       "L 365.672727 316.661176 \n",
       "z\n",
       "\" style=\"fill:#adb6c4;stroke:#8c8c8c;stroke-linejoin:miter;stroke-width:0.95;\"/>\n",
       "   </g>\n",
       "   <g id=\"patch_8\">\n",
       "    <path d=\"M 7.2 387.72 \n",
       "L 7.2 7.2 \n",
       "\" style=\"fill:none;\"/>\n",
       "   </g>\n",
       "   <g id=\"patch_9\">\n",
       "    <path d=\"M 453.6 387.72 \n",
       "L 453.6 7.2 \n",
       "\" style=\"fill:none;\"/>\n",
       "   </g>\n",
       "   <g id=\"patch_10\">\n",
       "    <path d=\"M 7.2 387.72 \n",
       "L 453.6 387.72 \n",
       "\" style=\"fill:none;\"/>\n",
       "   </g>\n",
       "   <g id=\"patch_11\">\n",
       "    <path d=\"M 7.2 7.2 \n",
       "L 453.6 7.2 \n",
       "\" style=\"fill:none;\"/>\n",
       "   </g>\n",
       "   <g id=\"text_6\">\n",
       "    <!-- 51 -->\n",
       "    <g style=\"fill:#ffffff;\" transform=\"translate(53.523778 250.965283)scale(0.14 -0.14)\">\n",
       "     <defs>\n",
       "      <path d=\"M 284 1178 \n",
       "L 1159 1269 \n",
       "Q 1197 972 1381 798 \n",
       "Q 1566 625 1806 625 \n",
       "Q 2081 625 2272 848 \n",
       "Q 2463 1072 2463 1522 \n",
       "Q 2463 1944 2273 2155 \n",
       "Q 2084 2366 1781 2366 \n",
       "Q 1403 2366 1103 2031 \n",
       "L 391 2134 \n",
       "L 841 4519 \n",
       "L 3163 4519 \n",
       "L 3163 3697 \n",
       "L 1506 3697 \n",
       "L 1369 2919 \n",
       "Q 1663 3066 1969 3066 \n",
       "Q 2553 3066 2959 2641 \n",
       "Q 3366 2216 3366 1538 \n",
       "Q 3366 972 3038 528 \n",
       "Q 2591 -78 1797 -78 \n",
       "Q 1163 -78 763 262 \n",
       "Q 363 603 284 1178 \n",
       "z\n",
       "\" id=\"Arial-BoldMT-35\" transform=\"scale(0.015625)\"/>\n",
       "      <path d=\"M 2519 0 \n",
       "L 1641 0 \n",
       "L 1641 3309 \n",
       "Q 1159 2859 506 2644 \n",
       "L 506 3441 \n",
       "Q 850 3553 1253 3867 \n",
       "Q 1656 4181 1806 4600 \n",
       "L 2519 4600 \n",
       "L 2519 0 \n",
       "z\n",
       "\" id=\"Arial-BoldMT-31\" transform=\"scale(0.015625)\"/>\n",
       "     </defs>\n",
       "     <use xlink:href=\"#Arial-BoldMT-35\"/>\n",
       "     <use x=\"55.615234\" xlink:href=\"#Arial-BoldMT-31\"/>\n",
       "    </g>\n",
       "   </g>\n",
       "   <g id=\"text_7\">\n",
       "    <!-- 15 -->\n",
       "    <g style=\"fill:#ffffff;\" transform=\"translate(138.069233 347.498024)scale(0.14 -0.14)\">\n",
       "     <use xlink:href=\"#Arial-BoldMT-31\"/>\n",
       "     <use x=\"55.615234\" xlink:href=\"#Arial-BoldMT-35\"/>\n",
       "    </g>\n",
       "   </g>\n",
       "   <g id=\"text_8\">\n",
       "    <!-- 11 -->\n",
       "    <g style=\"fill:#ffffff;\" transform=\"translate(222.999687 358.223885)scale(0.14 -0.14)\">\n",
       "     <use xlink:href=\"#Arial-BoldMT-31\"/>\n",
       "     <use x=\"50.115234\" xlink:href=\"#Arial-BoldMT-31\"/>\n",
       "    </g>\n",
       "   </g>\n",
       "   <g id=\"text_9\">\n",
       "    <!-- 10 -->\n",
       "    <g style=\"fill:#ffffff;\" transform=\"translate(307.160142 360.90535)scale(0.14 -0.14)\">\n",
       "     <defs>\n",
       "      <path d=\"M 1756 4600 \n",
       "Q 2422 4600 2797 4125 \n",
       "Q 3244 3563 3244 2259 \n",
       "Q 3244 959 2794 391 \n",
       "Q 2422 -78 1756 -78 \n",
       "Q 1088 -78 678 436 \n",
       "Q 269 950 269 2269 \n",
       "Q 269 3563 719 4131 \n",
       "Q 1091 4600 1756 4600 \n",
       "z\n",
       "M 1756 3872 \n",
       "Q 1597 3872 1472 3770 \n",
       "Q 1347 3669 1278 3406 \n",
       "Q 1188 3066 1188 2259 \n",
       "Q 1188 1453 1269 1151 \n",
       "Q 1350 850 1473 750 \n",
       "Q 1597 650 1756 650 \n",
       "Q 1916 650 2041 751 \n",
       "Q 2166 853 2234 1116 \n",
       "Q 2325 1453 2325 2259 \n",
       "Q 2325 3066 2244 3367 \n",
       "Q 2163 3669 2039 3770 \n",
       "Q 1916 3872 1756 3872 \n",
       "z\n",
       "\" id=\"Arial-BoldMT-30\" transform=\"scale(0.015625)\"/>\n",
       "     </defs>\n",
       "     <use xlink:href=\"#Arial-BoldMT-31\"/>\n",
       "     <use x=\"55.615234\" xlink:href=\"#Arial-BoldMT-30\"/>\n",
       "    </g>\n",
       "   </g>\n",
       "   <g id=\"text_10\">\n",
       "    <!-- 10 -->\n",
       "    <g style=\"fill:#ffffff;\" transform=\"translate(391.705597 360.90535)scale(0.14 -0.14)\">\n",
       "     <use xlink:href=\"#Arial-BoldMT-31\"/>\n",
       "     <use x=\"55.615234\" xlink:href=\"#Arial-BoldMT-30\"/>\n",
       "    </g>\n",
       "   </g>\n",
       "   <g id=\"text_11\">\n",
       "    <!-- Nombre de musées par ville en France -->\n",
       "    <g style=\"fill:#262626;\" transform=\"translate(65.843437 438.798)scale(0.18 -0.18)\">\n",
       "     <defs>\n",
       "      <path d=\"M 475 0 \n",
       "L 475 4581 \n",
       "L 1375 4581 \n",
       "L 3250 1522 \n",
       "L 3250 4581 \n",
       "L 4109 4581 \n",
       "L 4109 0 \n",
       "L 3181 0 \n",
       "L 1334 2988 \n",
       "L 1334 0 \n",
       "L 475 0 \n",
       "z\n",
       "\" id=\"Arial-BoldMT-4e\" transform=\"scale(0.015625)\"/>\n",
       "      <path d=\"M 256 1706 \n",
       "Q 256 2144 472 2553 \n",
       "Q 688 2963 1083 3178 \n",
       "Q 1478 3394 1966 3394 \n",
       "Q 2719 3394 3200 2905 \n",
       "Q 3681 2416 3681 1669 \n",
       "Q 3681 916 3195 420 \n",
       "Q 2709 -75 1972 -75 \n",
       "Q 1516 -75 1102 131 \n",
       "Q 688 338 472 736 \n",
       "Q 256 1134 256 1706 \n",
       "z\n",
       "M 1156 1659 \n",
       "Q 1156 1166 1390 903 \n",
       "Q 1625 641 1969 641 \n",
       "Q 2313 641 2545 903 \n",
       "Q 2778 1166 2778 1666 \n",
       "Q 2778 2153 2545 2415 \n",
       "Q 2313 2678 1969 2678 \n",
       "Q 1625 2678 1390 2415 \n",
       "Q 1156 2153 1156 1659 \n",
       "z\n",
       "\" id=\"Arial-BoldMT-6f\" transform=\"scale(0.015625)\"/>\n",
       "      <path d=\"M 394 3319 \n",
       "L 1203 3319 \n",
       "L 1203 2866 \n",
       "Q 1638 3394 2238 3394 \n",
       "Q 2556 3394 2790 3262 \n",
       "Q 3025 3131 3175 2866 \n",
       "Q 3394 3131 3647 3262 \n",
       "Q 3900 3394 4188 3394 \n",
       "Q 4553 3394 4806 3245 \n",
       "Q 5059 3097 5184 2809 \n",
       "Q 5275 2597 5275 2122 \n",
       "L 5275 0 \n",
       "L 4397 0 \n",
       "L 4397 1897 \n",
       "Q 4397 2391 4306 2534 \n",
       "Q 4184 2722 3931 2722 \n",
       "Q 3747 2722 3584 2609 \n",
       "Q 3422 2497 3350 2280 \n",
       "Q 3278 2063 3278 1594 \n",
       "L 3278 0 \n",
       "L 2400 0 \n",
       "L 2400 1819 \n",
       "Q 2400 2303 2353 2443 \n",
       "Q 2306 2584 2207 2653 \n",
       "Q 2109 2722 1941 2722 \n",
       "Q 1738 2722 1575 2612 \n",
       "Q 1413 2503 1342 2297 \n",
       "Q 1272 2091 1272 1613 \n",
       "L 1272 0 \n",
       "L 394 0 \n",
       "L 394 3319 \n",
       "z\n",
       "\" id=\"Arial-BoldMT-6d\" transform=\"scale(0.015625)\"/>\n",
       "      <path d=\"M 422 0 \n",
       "L 422 4581 \n",
       "L 1300 4581 \n",
       "L 1300 2931 \n",
       "Q 1706 3394 2263 3394 \n",
       "Q 2869 3394 3266 2955 \n",
       "Q 3663 2516 3663 1694 \n",
       "Q 3663 844 3258 384 \n",
       "Q 2853 -75 2275 -75 \n",
       "Q 1991 -75 1714 67 \n",
       "Q 1438 209 1238 488 \n",
       "L 1238 0 \n",
       "L 422 0 \n",
       "z\n",
       "M 1294 1731 \n",
       "Q 1294 1216 1456 969 \n",
       "Q 1684 619 2063 619 \n",
       "Q 2353 619 2558 867 \n",
       "Q 2763 1116 2763 1650 \n",
       "Q 2763 2219 2556 2470 \n",
       "Q 2350 2722 2028 2722 \n",
       "Q 1713 2722 1503 2476 \n",
       "Q 1294 2231 1294 1731 \n",
       "z\n",
       "\" id=\"Arial-BoldMT-62\" transform=\"scale(0.015625)\"/>\n",
       "      <path d=\"M 1300 0 \n",
       "L 422 0 \n",
       "L 422 3319 \n",
       "L 1238 3319 \n",
       "L 1238 2847 \n",
       "Q 1447 3181 1614 3287 \n",
       "Q 1781 3394 1994 3394 \n",
       "Q 2294 3394 2572 3228 \n",
       "L 2300 2463 \n",
       "Q 2078 2606 1888 2606 \n",
       "Q 1703 2606 1575 2504 \n",
       "Q 1447 2403 1373 2137 \n",
       "Q 1300 1872 1300 1025 \n",
       "L 1300 0 \n",
       "z\n",
       "\" id=\"Arial-BoldMT-72\" transform=\"scale(0.015625)\"/>\n",
       "      <path d=\"M 2381 1056 \n",
       "L 3256 909 \n",
       "Q 3088 428 2723 176 \n",
       "Q 2359 -75 1813 -75 \n",
       "Q 947 -75 531 491 \n",
       "Q 203 944 203 1634 \n",
       "Q 203 2459 634 2926 \n",
       "Q 1066 3394 1725 3394 \n",
       "Q 2466 3394 2894 2905 \n",
       "Q 3322 2416 3303 1406 \n",
       "L 1103 1406 \n",
       "Q 1113 1016 1316 798 \n",
       "Q 1519 581 1822 581 \n",
       "Q 2028 581 2168 693 \n",
       "Q 2309 806 2381 1056 \n",
       "z\n",
       "M 2431 1944 \n",
       "Q 2422 2325 2234 2523 \n",
       "Q 2047 2722 1778 2722 \n",
       "Q 1491 2722 1303 2513 \n",
       "Q 1116 2303 1119 1944 \n",
       "L 2431 1944 \n",
       "z\n",
       "\" id=\"Arial-BoldMT-65\" transform=\"scale(0.015625)\"/>\n",
       "      <path id=\"Arial-BoldMT-20\" transform=\"scale(0.015625)\"/>\n",
       "      <path d=\"M 3503 0 \n",
       "L 2688 0 \n",
       "L 2688 488 \n",
       "Q 2484 203 2207 64 \n",
       "Q 1931 -75 1650 -75 \n",
       "Q 1078 -75 670 386 \n",
       "Q 263 847 263 1672 \n",
       "Q 263 2516 659 2955 \n",
       "Q 1056 3394 1663 3394 \n",
       "Q 2219 3394 2625 2931 \n",
       "L 2625 4581 \n",
       "L 3503 4581 \n",
       "L 3503 0 \n",
       "z\n",
       "M 1159 1731 \n",
       "Q 1159 1200 1306 963 \n",
       "Q 1519 619 1900 619 \n",
       "Q 2203 619 2415 876 \n",
       "Q 2628 1134 2628 1647 \n",
       "Q 2628 2219 2422 2470 \n",
       "Q 2216 2722 1894 2722 \n",
       "Q 1581 2722 1370 2473 \n",
       "Q 1159 2225 1159 1731 \n",
       "z\n",
       "\" id=\"Arial-BoldMT-64\" transform=\"scale(0.015625)\"/>\n",
       "      <path d=\"M 2644 0 \n",
       "L 2644 497 \n",
       "Q 2463 231 2167 78 \n",
       "Q 1872 -75 1544 -75 \n",
       "Q 1209 -75 943 72 \n",
       "Q 678 219 559 484 \n",
       "Q 441 750 441 1219 \n",
       "L 441 3319 \n",
       "L 1319 3319 \n",
       "L 1319 1794 \n",
       "Q 1319 1094 1367 936 \n",
       "Q 1416 778 1544 686 \n",
       "Q 1672 594 1869 594 \n",
       "Q 2094 594 2272 717 \n",
       "Q 2450 841 2515 1023 \n",
       "Q 2581 1206 2581 1919 \n",
       "L 2581 3319 \n",
       "L 3459 3319 \n",
       "L 3459 0 \n",
       "L 2644 0 \n",
       "z\n",
       "\" id=\"Arial-BoldMT-75\" transform=\"scale(0.015625)\"/>\n",
       "      <path d=\"M 150 947 \n",
       "L 1031 1081 \n",
       "Q 1088 825 1259 692 \n",
       "Q 1431 559 1741 559 \n",
       "Q 2081 559 2253 684 \n",
       "Q 2369 772 2369 919 \n",
       "Q 2369 1019 2306 1084 \n",
       "Q 2241 1147 2013 1200 \n",
       "Q 950 1434 666 1628 \n",
       "Q 272 1897 272 2375 \n",
       "Q 272 2806 612 3100 \n",
       "Q 953 3394 1669 3394 \n",
       "Q 2350 3394 2681 3172 \n",
       "Q 3013 2950 3138 2516 \n",
       "L 2309 2363 \n",
       "Q 2256 2556 2107 2659 \n",
       "Q 1959 2763 1684 2763 \n",
       "Q 1338 2763 1188 2666 \n",
       "Q 1088 2597 1088 2488 \n",
       "Q 1088 2394 1175 2328 \n",
       "Q 1294 2241 1995 2081 \n",
       "Q 2697 1922 2975 1691 \n",
       "Q 3250 1456 3250 1038 \n",
       "Q 3250 581 2869 253 \n",
       "Q 2488 -75 1741 -75 \n",
       "Q 1063 -75 667 200 \n",
       "Q 272 475 150 947 \n",
       "z\n",
       "\" id=\"Arial-BoldMT-73\" transform=\"scale(0.015625)\"/>\n",
       "      <path d=\"M 2381 1056 \n",
       "L 3256 909 \n",
       "Q 3088 428 2723 176 \n",
       "Q 2359 -75 1813 -75 \n",
       "Q 947 -75 531 491 \n",
       "Q 203 944 203 1634 \n",
       "Q 203 2459 634 2926 \n",
       "Q 1066 3394 1725 3394 \n",
       "Q 2466 3394 2894 2905 \n",
       "Q 3322 2416 3303 1406 \n",
       "L 1103 1406 \n",
       "Q 1113 1016 1316 798 \n",
       "Q 1519 581 1822 581 \n",
       "Q 2028 581 2168 693 \n",
       "Q 2309 806 2381 1056 \n",
       "z\n",
       "M 2431 1944 \n",
       "Q 2422 2325 2234 2523 \n",
       "Q 2047 2722 1778 2722 \n",
       "Q 1491 2722 1303 2513 \n",
       "Q 1116 2303 1119 1944 \n",
       "L 2431 1944 \n",
       "z\n",
       "M 1309 3725 \n",
       "L 1741 4659 \n",
       "L 2725 4659 \n",
       "L 1866 3725 \n",
       "L 1309 3725 \n",
       "z\n",
       "\" id=\"Arial-BoldMT-e9\" transform=\"scale(0.015625)\"/>\n",
       "      <path d=\"M 434 3319 \n",
       "L 1253 3319 \n",
       "L 1253 2831 \n",
       "Q 1413 3081 1684 3237 \n",
       "Q 1956 3394 2288 3394 \n",
       "Q 2866 3394 3269 2941 \n",
       "Q 3672 2488 3672 1678 \n",
       "Q 3672 847 3265 386 \n",
       "Q 2859 -75 2281 -75 \n",
       "Q 2006 -75 1782 34 \n",
       "Q 1559 144 1313 409 \n",
       "L 1313 -1263 \n",
       "L 434 -1263 \n",
       "L 434 3319 \n",
       "z\n",
       "M 1303 1716 \n",
       "Q 1303 1156 1525 889 \n",
       "Q 1747 622 2066 622 \n",
       "Q 2372 622 2575 867 \n",
       "Q 2778 1113 2778 1672 \n",
       "Q 2778 2194 2568 2447 \n",
       "Q 2359 2700 2050 2700 \n",
       "Q 1728 2700 1515 2451 \n",
       "Q 1303 2203 1303 1716 \n",
       "z\n",
       "\" id=\"Arial-BoldMT-70\" transform=\"scale(0.015625)\"/>\n",
       "      <path d=\"M 1116 2306 \n",
       "L 319 2450 \n",
       "Q 453 2931 781 3162 \n",
       "Q 1109 3394 1756 3394 \n",
       "Q 2344 3394 2631 3255 \n",
       "Q 2919 3116 3036 2902 \n",
       "Q 3153 2688 3153 2116 \n",
       "L 3144 1091 \n",
       "Q 3144 653 3186 445 \n",
       "Q 3228 238 3344 0 \n",
       "L 2475 0 \n",
       "Q 2441 88 2391 259 \n",
       "Q 2369 338 2359 363 \n",
       "Q 2134 144 1878 34 \n",
       "Q 1622 -75 1331 -75 \n",
       "Q 819 -75 523 203 \n",
       "Q 228 481 228 906 \n",
       "Q 228 1188 362 1408 \n",
       "Q 497 1628 739 1745 \n",
       "Q 981 1863 1438 1950 \n",
       "Q 2053 2066 2291 2166 \n",
       "L 2291 2253 \n",
       "Q 2291 2506 2166 2614 \n",
       "Q 2041 2722 1694 2722 \n",
       "Q 1459 2722 1328 2630 \n",
       "Q 1197 2538 1116 2306 \n",
       "z\n",
       "M 2291 1594 \n",
       "Q 2122 1538 1756 1459 \n",
       "Q 1391 1381 1278 1306 \n",
       "Q 1106 1184 1106 997 \n",
       "Q 1106 813 1243 678 \n",
       "Q 1381 544 1594 544 \n",
       "Q 1831 544 2047 700 \n",
       "Q 2206 819 2256 991 \n",
       "Q 2291 1103 2291 1419 \n",
       "L 2291 1594 \n",
       "z\n",
       "\" id=\"Arial-BoldMT-61\" transform=\"scale(0.015625)\"/>\n",
       "      <path d=\"M 1372 0 \n",
       "L 34 3319 \n",
       "L 956 3319 \n",
       "L 1581 1625 \n",
       "L 1763 1059 \n",
       "Q 1834 1275 1853 1344 \n",
       "Q 1897 1484 1947 1625 \n",
       "L 2578 3319 \n",
       "L 3481 3319 \n",
       "L 2163 0 \n",
       "L 1372 0 \n",
       "z\n",
       "\" id=\"Arial-BoldMT-76\" transform=\"scale(0.015625)\"/>\n",
       "      <path d=\"M 459 3769 \n",
       "L 459 4581 \n",
       "L 1338 4581 \n",
       "L 1338 3769 \n",
       "L 459 3769 \n",
       "z\n",
       "M 459 0 \n",
       "L 459 3319 \n",
       "L 1338 3319 \n",
       "L 1338 0 \n",
       "L 459 0 \n",
       "z\n",
       "\" id=\"Arial-BoldMT-69\" transform=\"scale(0.015625)\"/>\n",
       "      <path d=\"M 459 0 \n",
       "L 459 4581 \n",
       "L 1338 4581 \n",
       "L 1338 0 \n",
       "L 459 0 \n",
       "z\n",
       "\" id=\"Arial-BoldMT-6c\" transform=\"scale(0.015625)\"/>\n",
       "      <path d=\"M 3478 0 \n",
       "L 2600 0 \n",
       "L 2600 1694 \n",
       "Q 2600 2231 2544 2389 \n",
       "Q 2488 2547 2361 2634 \n",
       "Q 2234 2722 2056 2722 \n",
       "Q 1828 2722 1647 2597 \n",
       "Q 1466 2472 1398 2265 \n",
       "Q 1331 2059 1331 1503 \n",
       "L 1331 0 \n",
       "L 453 0 \n",
       "L 453 3319 \n",
       "L 1269 3319 \n",
       "L 1269 2831 \n",
       "Q 1703 3394 2363 3394 \n",
       "Q 2653 3394 2893 3289 \n",
       "Q 3134 3184 3257 3021 \n",
       "Q 3381 2859 3429 2653 \n",
       "Q 3478 2447 3478 2063 \n",
       "L 3478 0 \n",
       "z\n",
       "\" id=\"Arial-BoldMT-6e\" transform=\"scale(0.015625)\"/>\n",
       "      <path d=\"M 472 0 \n",
       "L 472 4581 \n",
       "L 3613 4581 \n",
       "L 3613 3806 \n",
       "L 1397 3806 \n",
       "L 1397 2722 \n",
       "L 3309 2722 \n",
       "L 3309 1947 \n",
       "L 1397 1947 \n",
       "L 1397 0 \n",
       "L 472 0 \n",
       "z\n",
       "\" id=\"Arial-BoldMT-46\" transform=\"scale(0.015625)\"/>\n",
       "      <path d=\"M 3353 2338 \n",
       "L 2488 2181 \n",
       "Q 2444 2441 2289 2572 \n",
       "Q 2134 2703 1888 2703 \n",
       "Q 1559 2703 1364 2476 \n",
       "Q 1169 2250 1169 1719 \n",
       "Q 1169 1128 1367 884 \n",
       "Q 1566 641 1900 641 \n",
       "Q 2150 641 2309 783 \n",
       "Q 2469 925 2534 1272 \n",
       "L 3397 1125 \n",
       "Q 3263 531 2881 228 \n",
       "Q 2500 -75 1859 -75 \n",
       "Q 1131 -75 698 384 \n",
       "Q 266 844 266 1656 \n",
       "Q 266 2478 700 2936 \n",
       "Q 1134 3394 1875 3394 \n",
       "Q 2481 3394 2839 3133 \n",
       "Q 3197 2872 3353 2338 \n",
       "z\n",
       "\" id=\"Arial-BoldMT-63\" transform=\"scale(0.015625)\"/>\n",
       "     </defs>\n",
       "     <use xlink:href=\"#Arial-BoldMT-4e\"/>\n",
       "     <use x=\"72.216797\" xlink:href=\"#Arial-BoldMT-6f\"/>\n",
       "     <use x=\"133.300781\" xlink:href=\"#Arial-BoldMT-6d\"/>\n",
       "     <use x=\"222.216797\" xlink:href=\"#Arial-BoldMT-62\"/>\n",
       "     <use x=\"283.300781\" xlink:href=\"#Arial-BoldMT-72\"/>\n",
       "     <use x=\"322.216797\" xlink:href=\"#Arial-BoldMT-65\"/>\n",
       "     <use x=\"377.832031\" xlink:href=\"#Arial-BoldMT-20\"/>\n",
       "     <use x=\"405.615234\" xlink:href=\"#Arial-BoldMT-64\"/>\n",
       "     <use x=\"466.699219\" xlink:href=\"#Arial-BoldMT-65\"/>\n",
       "     <use x=\"522.314453\" xlink:href=\"#Arial-BoldMT-20\"/>\n",
       "     <use x=\"550.097656\" xlink:href=\"#Arial-BoldMT-6d\"/>\n",
       "     <use x=\"639.013672\" xlink:href=\"#Arial-BoldMT-75\"/>\n",
       "     <use x=\"700.097656\" xlink:href=\"#Arial-BoldMT-73\"/>\n",
       "     <use x=\"755.712891\" xlink:href=\"#Arial-BoldMT-e9\"/>\n",
       "     <use x=\"811.328125\" xlink:href=\"#Arial-BoldMT-65\"/>\n",
       "     <use x=\"866.943359\" xlink:href=\"#Arial-BoldMT-73\"/>\n",
       "     <use x=\"922.558594\" xlink:href=\"#Arial-BoldMT-20\"/>\n",
       "     <use x=\"950.341797\" xlink:href=\"#Arial-BoldMT-70\"/>\n",
       "     <use x=\"1011.425781\" xlink:href=\"#Arial-BoldMT-61\"/>\n",
       "     <use x=\"1067.041016\" xlink:href=\"#Arial-BoldMT-72\"/>\n",
       "     <use x=\"1105.957031\" xlink:href=\"#Arial-BoldMT-20\"/>\n",
       "     <use x=\"1133.740234\" xlink:href=\"#Arial-BoldMT-76\"/>\n",
       "     <use x=\"1189.355469\" xlink:href=\"#Arial-BoldMT-69\"/>\n",
       "     <use x=\"1217.138672\" xlink:href=\"#Arial-BoldMT-6c\"/>\n",
       "     <use x=\"1244.921875\" xlink:href=\"#Arial-BoldMT-6c\"/>\n",
       "     <use x=\"1272.705078\" xlink:href=\"#Arial-BoldMT-65\"/>\n",
       "     <use x=\"1328.320312\" xlink:href=\"#Arial-BoldMT-20\"/>\n",
       "     <use x=\"1356.103516\" xlink:href=\"#Arial-BoldMT-65\"/>\n",
       "     <use x=\"1411.71875\" xlink:href=\"#Arial-BoldMT-6e\"/>\n",
       "     <use x=\"1472.802734\" xlink:href=\"#Arial-BoldMT-20\"/>\n",
       "     <use x=\"1500.585938\" xlink:href=\"#Arial-BoldMT-46\"/>\n",
       "     <use x=\"1561.669922\" xlink:href=\"#Arial-BoldMT-72\"/>\n",
       "     <use x=\"1600.585938\" xlink:href=\"#Arial-BoldMT-61\"/>\n",
       "     <use x=\"1656.201172\" xlink:href=\"#Arial-BoldMT-6e\"/>\n",
       "     <use x=\"1717.285156\" xlink:href=\"#Arial-BoldMT-63\"/>\n",
       "     <use x=\"1772.900391\" xlink:href=\"#Arial-BoldMT-65\"/>\n",
       "    </g>\n",
       "   </g>\n",
       "  </g>\n",
       " </g>\n",
       " <defs>\n",
       "  <clipPath id=\"p74da8ab416\">\n",
       "   <rect height=\"380.52\" width=\"446.4\" x=\"7.2\" y=\"7.2\"/>\n",
       "  </clipPath>\n",
       " </defs>\n",
       "</svg>\n"
      ],
      "text/plain": [
       "<Figure size 576x504 with 1 Axes>"
      ]
     },
     "metadata": {
      "needs_background": "light"
     },
     "output_type": "display_data"
    }
   ],
   "source": [
    "fig, ax = plt.subplots(figsize=(8, 7))\n",
    "bars = ax.bar(\n",
    "    x=nom_musees_ville,\n",
    "    height=nb_musees_ville,\n",
    "    **{\n",
    "        \"fill\": True,\n",
    "        \"edgecolor\": \"#8C8C8C\",\n",
    "        \"facecolor\": \"#ADB6C4\",\n",
    "        \"linewidth\": 0.95\n",
    "      })\n",
    "ax.grid()\n",
    "ax.set_facecolor(\"white\")\n",
    "ax.tick_params(axis=\"x\", labelsize=13)\n",
    "ax.get_yaxis().set_ticks([])\n",
    "ax.set_title(\n",
    "    label=\"Nombre de musées par ville en France\",\n",
    "    fontsize=18,\n",
    "    fontweight=\"bold\",\n",
    "    y=-0.15);\n",
    "\n",
    "label_bars(bars)"
   ]
  },
  {
   "cell_type": "markdown",
   "id": "ef022822-08d7-4396-9fd2-48104173612b",
   "metadata": {
    "jp-MarkdownHeadingCollapsed": true,
    "tags": []
   },
   "source": [
    "### 5. 3. Documentation"
   ]
  },
  {
   "cell_type": "markdown",
   "id": "31e1b935-969e-405d-a450-f0fcb3b4c266",
   "metadata": {},
   "source": [
    "On trouvera toute la documentation nécessaire sur la bibliothèque `Matplotlib` à [cette adresse](https://matplotlib.org/stable/api/index.html) et une série de [tutoriels](https://matplotlib.org/stable/tutorials/index.html)."
   ]
  },
  {
   "cell_type": "markdown",
   "id": "99ecef8e-83d0-4ed9-8205-e35208adc490",
   "metadata": {
    "jp-MarkdownHeadingCollapsed": true,
    "tags": []
   },
   "source": [
    "### 5. 4. En somme"
   ]
  },
  {
   "cell_type": "markdown",
   "id": "0f1e1c92-60c6-4a98-8801-4ba96f0848c0",
   "metadata": {},
   "source": [
    "* La bibliothèque standard pour la visualisation de données en Python\n",
    "* Simple de prise en main pour produire des graphiques \"premier jet\" pour un travail exploratoire\n",
    "* Plus complexe à exploiter pour réaliser des graphiques de qualité\n",
    "* Néanmoins, il est tout à fait possible de produire des graphiques de très bonne qualité grâce à elle\n",
    "* Hautement paramétrable si on accepte de prendre le temps d'explorer au-delà des valeurs par défaut"
   ]
  },
  {
   "cell_type": "markdown",
   "id": "db649e5e-89af-4f33-8309-988e937f2438",
   "metadata": {
    "tags": []
   },
   "source": [
    "## 6. Produire ses graphiques via D3.js en Python : Altair"
   ]
  },
  {
   "cell_type": "markdown",
   "id": "93f78f2c-c9f0-4770-8af7-2c727767881c",
   "metadata": {
    "jp-MarkdownHeadingCollapsed": true,
    "tags": []
   },
   "source": [
    "### 6. 1. Présentation de l'outil"
   ]
  },
  {
   "cell_type": "markdown",
   "id": "cc311631-21ec-4013-9f89-b92d8c09886f",
   "metadata": {},
   "source": [
    "`Altair` est une bibliothèque de visualisation de données basée sur la **philosophie déclarative de Vega (*visualization grammar*)** que l'on peut facilement traduire sous la forme d'un **fichier JSON**.\n",
    "\n",
    "**Vega**, et donc par extension `Altair`, s'appuie sur **D3.js**, une bibliothèque **JavaScript** également dédiée à la visualisation de données sous la forme d'objets vectoriels (au format SVG). Son objectif est d'offrir à la fois un outil de haut niveau pour produire rapidement des graphiques, mais également de permettre d'en ouvrir les entrailles et de pouvoir hautement personnaliser leur comportement et leur rendu.\n",
    "\n",
    "Comme `Altair` s'appuie sur **JavaScript**, elle permet de produire des graphiques interactifs et adaptés au web."
   ]
  },
  {
   "cell_type": "markdown",
   "id": "14bc8645-2991-4082-a56b-b67094be6e0e",
   "metadata": {
    "tags": []
   },
   "source": [
    "### 6. 2. La philosophie sous-jacente de l'outil à travers un exemple"
   ]
  },
  {
   "cell_type": "markdown",
   "id": "643bfa25-be7f-44e0-9532-60af7e6b9415",
   "metadata": {
    "tags": []
   },
   "source": [
    "#### 6. 2. 1. Les données comme tableau *pandas*"
   ]
  },
  {
   "cell_type": "markdown",
   "id": "cea60d72-f8e6-4bed-a0ae-04f5a30e1f8b",
   "metadata": {},
   "source": [
    "Avec `Altair`, l'idée est de déclarer des liens entre les **colonnes d'un tableau représentant les données** et **les variables visuelles qui vont les représenter**.\n",
    "\n",
    "Pour représenter les données, `Altair` s'appuie sur le format de `pandas` qui n'est rien d'autre qu'un dictionnaire contenant des listes représentant chaque colonne."
   ]
  },
  {
   "cell_type": "code",
   "execution_count": 29,
   "id": "df2a7434-cc3c-45cf-a225-dcee04725559",
   "metadata": {},
   "outputs": [
    {
     "data": {
      "text/html": [
       "<div>\n",
       "<style scoped>\n",
       "    .dataframe tbody tr th:only-of-type {\n",
       "        vertical-align: middle;\n",
       "    }\n",
       "\n",
       "    .dataframe tbody tr th {\n",
       "        vertical-align: top;\n",
       "    }\n",
       "\n",
       "    .dataframe thead th {\n",
       "        text-align: right;\n",
       "    }\n",
       "</style>\n",
       "<table border=\"1\" class=\"dataframe\">\n",
       "  <thead>\n",
       "    <tr style=\"text-align: right;\">\n",
       "      <th></th>\n",
       "      <th>col1</th>\n",
       "      <th>col2</th>\n",
       "    </tr>\n",
       "  </thead>\n",
       "  <tbody>\n",
       "    <tr>\n",
       "      <th>0</th>\n",
       "      <td>ligne1</td>\n",
       "      <td>ligne1</td>\n",
       "    </tr>\n",
       "    <tr>\n",
       "      <th>1</th>\n",
       "      <td>ligne2</td>\n",
       "      <td>ligne2</td>\n",
       "    </tr>\n",
       "    <tr>\n",
       "      <th>2</th>\n",
       "      <td>ligne3</td>\n",
       "      <td>ligne3</td>\n",
       "    </tr>\n",
       "  </tbody>\n",
       "</table>\n",
       "</div>"
      ],
      "text/plain": [
       "     col1    col2\n",
       "0  ligne1  ligne1\n",
       "1  ligne2  ligne2\n",
       "2  ligne3  ligne3"
      ]
     },
     "execution_count": 29,
     "metadata": {},
     "output_type": "execute_result"
    }
   ],
   "source": [
    "import pandas as pd\n",
    "\n",
    "tableau_pandas = pd.DataFrame({\n",
    "    \"col1\": [\"ligne1\", \"ligne2\", \"ligne3\"],\n",
    "    \"col2\": [\"ligne1\", \"ligne2\", \"ligne3\"]\n",
    "})\n",
    "\n",
    "tableau_pandas"
   ]
  },
  {
   "cell_type": "markdown",
   "id": "9a98f605-e8a7-4973-9688-9bc628617960",
   "metadata": {
    "tags": []
   },
   "source": [
    "#### 6. 2. 2. Un peu de nettoyage de données"
   ]
  },
  {
   "cell_type": "markdown",
   "id": "0a803988-eb99-4ee2-8e65-4f8fcf6cb14f",
   "metadata": {},
   "source": [
    "Nous allons rapidement transformer les données de fréquentation des musées en France pour afficher le total des fréquentations par année. Pour cela, on utiliser la fonction `.groupby` de `pandas` qui permet de regrouper l'ensemble des données associées à une catégorie spécifique du jeu de données : une fois regroupées, on peut appliquer des transformations sur ces groupes (notamment faire la somme des fréquentations, ce qui nous intéresse dans ce cas précis)."
   ]
  },
  {
   "cell_type": "code",
   "execution_count": 30,
   "id": "b5372a24-7818-4810-b7ea-8ab2dc6796d1",
   "metadata": {},
   "outputs": [
    {
     "data": {
      "text/html": [
       "<div>\n",
       "<style scoped>\n",
       "    .dataframe tbody tr th:only-of-type {\n",
       "        vertical-align: middle;\n",
       "    }\n",
       "\n",
       "    .dataframe tbody tr th {\n",
       "        vertical-align: top;\n",
       "    }\n",
       "\n",
       "    .dataframe thead th {\n",
       "        text-align: right;\n",
       "    }\n",
       "</style>\n",
       "<table border=\"1\" class=\"dataframe\">\n",
       "  <thead>\n",
       "    <tr style=\"text-align: right;\">\n",
       "      <th></th>\n",
       "      <th>annee</th>\n",
       "      <th>payant</th>\n",
       "      <th>gratuit</th>\n",
       "      <th>total</th>\n",
       "    </tr>\n",
       "  </thead>\n",
       "  <tbody>\n",
       "    <tr>\n",
       "      <th>0</th>\n",
       "      <td>2009</td>\n",
       "      <td>789.0</td>\n",
       "      <td>3683.0</td>\n",
       "      <td>4472.0</td>\n",
       "    </tr>\n",
       "    <tr>\n",
       "      <th>1</th>\n",
       "      <td>2009</td>\n",
       "      <td>2613.0</td>\n",
       "      <td>669.0</td>\n",
       "      <td>3282.0</td>\n",
       "    </tr>\n",
       "    <tr>\n",
       "      <th>2</th>\n",
       "      <td>2009</td>\n",
       "      <td>2608.0</td>\n",
       "      <td>3139.0</td>\n",
       "      <td>5747.0</td>\n",
       "    </tr>\n",
       "    <tr>\n",
       "      <th>3</th>\n",
       "      <td>2009</td>\n",
       "      <td>0.0</td>\n",
       "      <td>2014.0</td>\n",
       "      <td>2014.0</td>\n",
       "    </tr>\n",
       "    <tr>\n",
       "      <th>4</th>\n",
       "      <td>2009</td>\n",
       "      <td>0.0</td>\n",
       "      <td>2600.0</td>\n",
       "      <td>2600.0</td>\n",
       "    </tr>\n",
       "  </tbody>\n",
       "</table>\n",
       "</div>"
      ],
      "text/plain": [
       "   annee  payant  gratuit   total\n",
       "0   2009   789.0   3683.0  4472.0\n",
       "1   2009  2613.0    669.0  3282.0\n",
       "2   2009  2608.0   3139.0  5747.0\n",
       "3   2009     0.0   2014.0  2014.0\n",
       "4   2009     0.0   2600.0  2600.0"
      ]
     },
     "execution_count": 30,
     "metadata": {},
     "output_type": "execute_result"
    }
   ],
   "source": [
    "# Simplifions d'abord le jeu de données originel pour ne retenir que ce qui nous intéresse\n",
    "df_freq_simp = df_freq.drop(columns=[\"ref_musee\", \"nom_du_musee\"])\n",
    "df_freq_simp.head()"
   ]
  },
  {
   "cell_type": "code",
   "execution_count": 31,
   "id": "b5225bff-1d56-4e1b-ba90-5330751fdcb8",
   "metadata": {},
   "outputs": [
    {
     "data": {
      "text/html": [
       "<div>\n",
       "<style scoped>\n",
       "    .dataframe tbody tr th:only-of-type {\n",
       "        vertical-align: middle;\n",
       "    }\n",
       "\n",
       "    .dataframe tbody tr th {\n",
       "        vertical-align: top;\n",
       "    }\n",
       "\n",
       "    .dataframe thead th {\n",
       "        text-align: right;\n",
       "    }\n",
       "</style>\n",
       "<table border=\"1\" class=\"dataframe\">\n",
       "  <thead>\n",
       "    <tr style=\"text-align: right;\">\n",
       "      <th></th>\n",
       "      <th>payant</th>\n",
       "      <th>gratuit</th>\n",
       "      <th>total</th>\n",
       "    </tr>\n",
       "    <tr>\n",
       "      <th>annee</th>\n",
       "      <th></th>\n",
       "      <th></th>\n",
       "      <th></th>\n",
       "    </tr>\n",
       "  </thead>\n",
       "  <tbody>\n",
       "    <tr>\n",
       "      <th>2001</th>\n",
       "      <td>28466349.0</td>\n",
       "      <td>10382830.0</td>\n",
       "      <td>38849179.0</td>\n",
       "    </tr>\n",
       "    <tr>\n",
       "      <th>2002</th>\n",
       "      <td>29953221.0</td>\n",
       "      <td>12416890.0</td>\n",
       "      <td>42370111.0</td>\n",
       "    </tr>\n",
       "    <tr>\n",
       "      <th>2003</th>\n",
       "      <td>27012323.0</td>\n",
       "      <td>13311906.0</td>\n",
       "      <td>40324229.0</td>\n",
       "    </tr>\n",
       "    <tr>\n",
       "      <th>2004</th>\n",
       "      <td>32223957.0</td>\n",
       "      <td>13406772.0</td>\n",
       "      <td>45630729.0</td>\n",
       "    </tr>\n",
       "    <tr>\n",
       "      <th>2005</th>\n",
       "      <td>30315726.0</td>\n",
       "      <td>14933647.0</td>\n",
       "      <td>45249373.0</td>\n",
       "    </tr>\n",
       "  </tbody>\n",
       "</table>\n",
       "</div>"
      ],
      "text/plain": [
       "           payant     gratuit       total\n",
       "annee                                    \n",
       "2001   28466349.0  10382830.0  38849179.0\n",
       "2002   29953221.0  12416890.0  42370111.0\n",
       "2003   27012323.0  13311906.0  40324229.0\n",
       "2004   32223957.0  13406772.0  45630729.0\n",
       "2005   30315726.0  14933647.0  45249373.0"
      ]
     },
     "execution_count": 31,
     "metadata": {},
     "output_type": "execute_result"
    }
   ],
   "source": [
    "# Ensuite, on applique la méthode .groupby et on calcule la somme des fréquentations\n",
    "df_freq_annee = df_freq_simp.groupby([\"annee\"]).sum()\n",
    "df_freq_annee.head()"
   ]
  },
  {
   "cell_type": "markdown",
   "id": "060869af-e9ea-4f6e-aa87-5934aa71a9e0",
   "metadata": {},
   "source": [
    "Il faut s'arrêter à présent une seconde pour détailler une petite subtilité dans le fonctionnement d'`Altair`. Nous allons voir dans les points suivants que la bibliothèque n'est pas capable de reconnaître la colonne `index` d'un tableau de données `pandas`. Pour cela, il nous faut donc sortir les données qui sont contenus dans l'`index` pour les stocker dans une colonne dédiée. Avec `pandas`, c'est assez simple, on peut appeler la méthode `.reset_index()`."
   ]
  },
  {
   "cell_type": "code",
   "execution_count": 32,
   "id": "d8edfe5e-ef69-445e-b407-6956c4c3f940",
   "metadata": {},
   "outputs": [
    {
     "data": {
      "text/html": [
       "<div>\n",
       "<style scoped>\n",
       "    .dataframe tbody tr th:only-of-type {\n",
       "        vertical-align: middle;\n",
       "    }\n",
       "\n",
       "    .dataframe tbody tr th {\n",
       "        vertical-align: top;\n",
       "    }\n",
       "\n",
       "    .dataframe thead th {\n",
       "        text-align: right;\n",
       "    }\n",
       "</style>\n",
       "<table border=\"1\" class=\"dataframe\">\n",
       "  <thead>\n",
       "    <tr style=\"text-align: right;\">\n",
       "      <th></th>\n",
       "      <th>annee</th>\n",
       "      <th>payant</th>\n",
       "      <th>gratuit</th>\n",
       "      <th>total</th>\n",
       "    </tr>\n",
       "  </thead>\n",
       "  <tbody>\n",
       "    <tr>\n",
       "      <th>0</th>\n",
       "      <td>2001</td>\n",
       "      <td>28466349.0</td>\n",
       "      <td>10382830.0</td>\n",
       "      <td>38849179.0</td>\n",
       "    </tr>\n",
       "    <tr>\n",
       "      <th>1</th>\n",
       "      <td>2002</td>\n",
       "      <td>29953221.0</td>\n",
       "      <td>12416890.0</td>\n",
       "      <td>42370111.0</td>\n",
       "    </tr>\n",
       "    <tr>\n",
       "      <th>2</th>\n",
       "      <td>2003</td>\n",
       "      <td>27012323.0</td>\n",
       "      <td>13311906.0</td>\n",
       "      <td>40324229.0</td>\n",
       "    </tr>\n",
       "    <tr>\n",
       "      <th>3</th>\n",
       "      <td>2004</td>\n",
       "      <td>32223957.0</td>\n",
       "      <td>13406772.0</td>\n",
       "      <td>45630729.0</td>\n",
       "    </tr>\n",
       "    <tr>\n",
       "      <th>4</th>\n",
       "      <td>2005</td>\n",
       "      <td>30315726.0</td>\n",
       "      <td>14933647.0</td>\n",
       "      <td>45249373.0</td>\n",
       "    </tr>\n",
       "  </tbody>\n",
       "</table>\n",
       "</div>"
      ],
      "text/plain": [
       "   annee      payant     gratuit       total\n",
       "0   2001  28466349.0  10382830.0  38849179.0\n",
       "1   2002  29953221.0  12416890.0  42370111.0\n",
       "2   2003  27012323.0  13311906.0  40324229.0\n",
       "3   2004  32223957.0  13406772.0  45630729.0\n",
       "4   2005  30315726.0  14933647.0  45249373.0"
      ]
     },
     "execution_count": 32,
     "metadata": {},
     "output_type": "execute_result"
    }
   ],
   "source": [
    "# On extrait les données de l'index pour en faire une colonne dédiée\n",
    "df_freq_annee.reset_index(inplace=True)\n",
    "df_freq_annee.head()"
   ]
  },
  {
   "cell_type": "markdown",
   "id": "9569b8ba-8388-4b9f-a7e3-89d10c354e01",
   "metadata": {
    "tags": []
   },
   "source": [
    "#### 6. 2. 3. L'objet Chart"
   ]
  },
  {
   "cell_type": "markdown",
   "id": "5b769de0-ec9d-40ce-a90d-ac4caa9d7068",
   "metadata": {},
   "source": [
    "Une fois que l'on a construit notre jeu de données au format `pandas`, on peut appeler l'objet `Chart` d'`Altair`. C'est sur cet objet que l'on appelle ensuite toutes les méthodes qui permettent de paramétrer la façon dont les données vont être affichées."
   ]
  },
  {
   "cell_type": "code",
   "execution_count": 33,
   "id": "d0be58f5-aa54-496a-acae-342e0ab8bfa2",
   "metadata": {},
   "outputs": [],
   "source": [
    "import altair as alt"
   ]
  },
  {
   "cell_type": "code",
   "execution_count": 34,
   "id": "e55fc282-aecf-44f0-96b5-2a6c3834d9f2",
   "metadata": {},
   "outputs": [],
   "source": [
    "chart = alt.Chart(df_freq_annee)"
   ]
  },
  {
   "cell_type": "markdown",
   "id": "52a6c228-f996-4110-953d-3fb8ef74ce0f",
   "metadata": {},
   "source": [
    "Dans la philosophie d'`Altair`, en suivant une **approche fonctionnelle** propre à la technologie D3.js sous-jacente, l'objet `Chart` peut être vu comme une fonction à laquelle on se contente simplement de passer notre jeu de données.\n",
    "\n",
    "Néanmoins, si on souhaite suivre une **approche orientée objet**, on peut voir l'objet `Chart` comme un **constructeur** auquel on peut passer les paramètres qui permettent de détailler la façon dont les données doivent être transformées en **variables visuelles**.\n",
    "\n",
    "Dans la suite de notre exploration d'`Altair`, nous suivrons la première méthode."
   ]
  },
  {
   "cell_type": "markdown",
   "id": "16d0235b-d56d-434b-a3e1-0889b64dbe91",
   "metadata": {
    "tags": []
   },
   "source": [
    "#### 6. 2. 4. L'attribut mark"
   ]
  },
  {
   "cell_type": "markdown",
   "id": "cdfc533e-bbe3-4a18-b6b6-bee184237785",
   "metadata": {},
   "source": [
    "Lorsqu'on construit un graphique avec `Altair`, il s'agit de spécifier le type de **marqueur** que l'on souhaite utiliser pour **donner former à nos données**.\n",
    "\n",
    "Dans notre cas, nous voulons tout d'abord construire un **diagramme en bâtons** : pour cela, on peut appeler la méthode `.mark_bar()`. On peut visualiser directement le rendu graphique du **marquer des données** (de la façon dont les données vont être matérialisées sur notre graphique) même si on ne détaille aucune donnée spécifique outre le jeu de données que l'on a passé au préalable à l'objet `Chart`."
   ]
  },
  {
   "cell_type": "code",
   "execution_count": 35,
   "id": "ef70d1a1-5033-4285-9e22-de8b95cf3565",
   "metadata": {},
   "outputs": [
    {
     "data": {
      "text/html": [
       "\n",
       "<div id=\"altair-viz-9b28ca4f004a4f339d88379b4aa24ddb\"></div>\n",
       "<script type=\"text/javascript\">\n",
       "  (function(spec, embedOpt){\n",
       "    let outputDiv = document.currentScript.previousElementSibling;\n",
       "    if (outputDiv.id !== \"altair-viz-9b28ca4f004a4f339d88379b4aa24ddb\") {\n",
       "      outputDiv = document.getElementById(\"altair-viz-9b28ca4f004a4f339d88379b4aa24ddb\");\n",
       "    }\n",
       "    const paths = {\n",
       "      \"vega\": \"https://cdn.jsdelivr.net/npm//vega@5?noext\",\n",
       "      \"vega-lib\": \"https://cdn.jsdelivr.net/npm//vega-lib?noext\",\n",
       "      \"vega-lite\": \"https://cdn.jsdelivr.net/npm//vega-lite@4.8.1?noext\",\n",
       "      \"vega-embed\": \"https://cdn.jsdelivr.net/npm//vega-embed@6?noext\",\n",
       "    };\n",
       "\n",
       "    function loadScript(lib) {\n",
       "      return new Promise(function(resolve, reject) {\n",
       "        var s = document.createElement('script');\n",
       "        s.src = paths[lib];\n",
       "        s.async = true;\n",
       "        s.onload = () => resolve(paths[lib]);\n",
       "        s.onerror = () => reject(`Error loading script: ${paths[lib]}`);\n",
       "        document.getElementsByTagName(\"head\")[0].appendChild(s);\n",
       "      });\n",
       "    }\n",
       "\n",
       "    function showError(err) {\n",
       "      outputDiv.innerHTML = `<div class=\"error\" style=\"color:red;\">${err}</div>`;\n",
       "      throw err;\n",
       "    }\n",
       "\n",
       "    function displayChart(vegaEmbed) {\n",
       "      vegaEmbed(outputDiv, spec, embedOpt)\n",
       "        .catch(err => showError(`Javascript Error: ${err.message}<br>This usually means there's a typo in your chart specification. See the javascript console for the full traceback.`));\n",
       "    }\n",
       "\n",
       "    if(typeof define === \"function\" && define.amd) {\n",
       "      requirejs.config({paths});\n",
       "      require([\"vega-embed\"], displayChart, err => showError(`Error loading script: ${err.message}`));\n",
       "    } else if (typeof vegaEmbed === \"function\") {\n",
       "      displayChart(vegaEmbed);\n",
       "    } else {\n",
       "      loadScript(\"vega\")\n",
       "        .then(() => loadScript(\"vega-lite\"))\n",
       "        .then(() => loadScript(\"vega-embed\"))\n",
       "        .catch(showError)\n",
       "        .then(() => displayChart(vegaEmbed));\n",
       "    }\n",
       "  })({\"config\": {\"view\": {\"continuousWidth\": 400, \"continuousHeight\": 300}}, \"data\": {\"name\": \"data-005d7f9fb72f4a9cf1f2efc79a0a9870\"}, \"mark\": \"bar\", \"$schema\": \"https://vega.github.io/schema/vega-lite/v4.8.1.json\", \"datasets\": {\"data-005d7f9fb72f4a9cf1f2efc79a0a9870\": [{\"annee\": 2001, \"payant\": 28466349.0, \"gratuit\": 10382830.0, \"total\": 38849179.0}, {\"annee\": 2002, \"payant\": 29953221.0, \"gratuit\": 12416890.0, \"total\": 42370111.0}, {\"annee\": 2003, \"payant\": 27012323.0, \"gratuit\": 13311906.0, \"total\": 40324229.0}, {\"annee\": 2004, \"payant\": 32223957.0, \"gratuit\": 13406772.0, \"total\": 45630729.0}, {\"annee\": 2005, \"payant\": 30315726.0, \"gratuit\": 14933647.0, \"total\": 45249373.0}, {\"annee\": 2006, \"payant\": 32197378.0, \"gratuit\": 17921286.0, \"total\": 50118664.0}, {\"annee\": 2007, \"payant\": 32713354.0, \"gratuit\": 19909054.0, \"total\": 52622408.0}, {\"annee\": 2008, \"payant\": 33579952.0, \"gratuit\": 22189175.0, \"total\": 55769127.0}, {\"annee\": 2009, \"payant\": 33193708.0, \"gratuit\": 23289275.0, \"total\": 56482983.0}, {\"annee\": 2010, \"payant\": 32996844.0, \"gratuit\": 24498309.0, \"total\": 57495153.0}, {\"annee\": 2011, \"payant\": 34914188.0, \"gratuit\": 24603377.0, \"total\": 59517565.0}, {\"annee\": 2012, \"payant\": 34907138.0, \"gratuit\": 27144429.0, \"total\": 62051567.0}, {\"annee\": 2013, \"payant\": 35930635.0, \"gratuit\": 28502992.0, \"total\": 64433627.0}, {\"annee\": 2014, \"payant\": 36650770.0, \"gratuit\": 28498890.0, \"total\": 65149660.0}, {\"annee\": 2015, \"payant\": 36244518.0, \"gratuit\": 26167070.0, \"total\": 62411588.0}, {\"annee\": 2016, \"payant\": 33913590.0, \"gratuit\": 26360136.0, \"total\": 60273726.0}, {\"annee\": 2017, \"payant\": 37231364.0, \"gratuit\": 26235288.0, \"total\": 63466652.0}, {\"annee\": 2018, \"payant\": 38051214.0, \"gratuit\": 28623076.0, \"total\": 66674290.0}, {\"annee\": 2019, \"payant\": 38919220.0, \"gratuit\": 27865284.0, \"total\": 66784504.0}]}}, {\"mode\": \"vega-lite\"});\n",
       "</script>"
      ],
      "text/plain": [
       "alt.Chart(...)"
      ]
     },
     "execution_count": 35,
     "metadata": {},
     "output_type": "execute_result"
    }
   ],
   "source": [
    "alt.Chart(df_freq_annee).mark_bar()"
   ]
  },
  {
   "cell_type": "markdown",
   "id": "72d1b8fc-c104-4671-82e4-5fe3130d6a0f",
   "metadata": {},
   "source": [
    "Il existe différents types de **marqueurs de données** prédéfinis dans `Altair`. On peut retrouver une liste les détaillant [ici](https://altair-viz.github.io/user_guide/marks.html)."
   ]
  },
  {
   "cell_type": "markdown",
   "id": "743e67d1-6799-436b-b257-5bb33215e3ba",
   "metadata": {
    "tags": []
   },
   "source": [
    "#### 6. 2. 5. L'attribut encoding"
   ]
  },
  {
   "cell_type": "markdown",
   "id": "485d755e-2ae8-4698-be4d-f3887ed43c6e",
   "metadata": {},
   "source": [
    "A présent, il s'agit de lier les **ensembles de données** de notre jeu de données à des **variables visuelles** sous la forme desquels ils seront traduits par `Altair`. C'est le rôle de la méthode `.encode()`.\n",
    "\n",
    "Repartons de notre exemple précédent : nous souhaitons réaliser un **diagramme en bâtons** qui représentera le nombre d'entrées totales dans tous les musées de France par année.\n",
    "\n",
    "Les **deux principaux arguments** de la méthode `.encode()` sont, en toute logique :\n",
    "* `x` qui définit la colonne de données à représenter sur l'axe des abscisses\n",
    "* `y` qui définit la colonne de données à représenter sur l'axe des ordonnées"
   ]
  },
  {
   "cell_type": "code",
   "execution_count": 36,
   "id": "d10d9d27-e583-4db9-bf8a-30f4d23e0de1",
   "metadata": {},
   "outputs": [
    {
     "data": {
      "text/html": [
       "\n",
       "<div id=\"altair-viz-eea4886c7af9457e877912a34231f025\"></div>\n",
       "<script type=\"text/javascript\">\n",
       "  (function(spec, embedOpt){\n",
       "    let outputDiv = document.currentScript.previousElementSibling;\n",
       "    if (outputDiv.id !== \"altair-viz-eea4886c7af9457e877912a34231f025\") {\n",
       "      outputDiv = document.getElementById(\"altair-viz-eea4886c7af9457e877912a34231f025\");\n",
       "    }\n",
       "    const paths = {\n",
       "      \"vega\": \"https://cdn.jsdelivr.net/npm//vega@5?noext\",\n",
       "      \"vega-lib\": \"https://cdn.jsdelivr.net/npm//vega-lib?noext\",\n",
       "      \"vega-lite\": \"https://cdn.jsdelivr.net/npm//vega-lite@4.8.1?noext\",\n",
       "      \"vega-embed\": \"https://cdn.jsdelivr.net/npm//vega-embed@6?noext\",\n",
       "    };\n",
       "\n",
       "    function loadScript(lib) {\n",
       "      return new Promise(function(resolve, reject) {\n",
       "        var s = document.createElement('script');\n",
       "        s.src = paths[lib];\n",
       "        s.async = true;\n",
       "        s.onload = () => resolve(paths[lib]);\n",
       "        s.onerror = () => reject(`Error loading script: ${paths[lib]}`);\n",
       "        document.getElementsByTagName(\"head\")[0].appendChild(s);\n",
       "      });\n",
       "    }\n",
       "\n",
       "    function showError(err) {\n",
       "      outputDiv.innerHTML = `<div class=\"error\" style=\"color:red;\">${err}</div>`;\n",
       "      throw err;\n",
       "    }\n",
       "\n",
       "    function displayChart(vegaEmbed) {\n",
       "      vegaEmbed(outputDiv, spec, embedOpt)\n",
       "        .catch(err => showError(`Javascript Error: ${err.message}<br>This usually means there's a typo in your chart specification. See the javascript console for the full traceback.`));\n",
       "    }\n",
       "\n",
       "    if(typeof define === \"function\" && define.amd) {\n",
       "      requirejs.config({paths});\n",
       "      require([\"vega-embed\"], displayChart, err => showError(`Error loading script: ${err.message}`));\n",
       "    } else if (typeof vegaEmbed === \"function\") {\n",
       "      displayChart(vegaEmbed);\n",
       "    } else {\n",
       "      loadScript(\"vega\")\n",
       "        .then(() => loadScript(\"vega-lite\"))\n",
       "        .then(() => loadScript(\"vega-embed\"))\n",
       "        .catch(showError)\n",
       "        .then(() => displayChart(vegaEmbed));\n",
       "    }\n",
       "  })({\"config\": {\"view\": {\"continuousWidth\": 400, \"continuousHeight\": 300}}, \"data\": {\"name\": \"data-005d7f9fb72f4a9cf1f2efc79a0a9870\"}, \"mark\": \"bar\", \"encoding\": {\"x\": {\"type\": \"quantitative\", \"field\": \"annee\"}, \"y\": {\"type\": \"quantitative\", \"field\": \"total\"}}, \"$schema\": \"https://vega.github.io/schema/vega-lite/v4.8.1.json\", \"datasets\": {\"data-005d7f9fb72f4a9cf1f2efc79a0a9870\": [{\"annee\": 2001, \"payant\": 28466349.0, \"gratuit\": 10382830.0, \"total\": 38849179.0}, {\"annee\": 2002, \"payant\": 29953221.0, \"gratuit\": 12416890.0, \"total\": 42370111.0}, {\"annee\": 2003, \"payant\": 27012323.0, \"gratuit\": 13311906.0, \"total\": 40324229.0}, {\"annee\": 2004, \"payant\": 32223957.0, \"gratuit\": 13406772.0, \"total\": 45630729.0}, {\"annee\": 2005, \"payant\": 30315726.0, \"gratuit\": 14933647.0, \"total\": 45249373.0}, {\"annee\": 2006, \"payant\": 32197378.0, \"gratuit\": 17921286.0, \"total\": 50118664.0}, {\"annee\": 2007, \"payant\": 32713354.0, \"gratuit\": 19909054.0, \"total\": 52622408.0}, {\"annee\": 2008, \"payant\": 33579952.0, \"gratuit\": 22189175.0, \"total\": 55769127.0}, {\"annee\": 2009, \"payant\": 33193708.0, \"gratuit\": 23289275.0, \"total\": 56482983.0}, {\"annee\": 2010, \"payant\": 32996844.0, \"gratuit\": 24498309.0, \"total\": 57495153.0}, {\"annee\": 2011, \"payant\": 34914188.0, \"gratuit\": 24603377.0, \"total\": 59517565.0}, {\"annee\": 2012, \"payant\": 34907138.0, \"gratuit\": 27144429.0, \"total\": 62051567.0}, {\"annee\": 2013, \"payant\": 35930635.0, \"gratuit\": 28502992.0, \"total\": 64433627.0}, {\"annee\": 2014, \"payant\": 36650770.0, \"gratuit\": 28498890.0, \"total\": 65149660.0}, {\"annee\": 2015, \"payant\": 36244518.0, \"gratuit\": 26167070.0, \"total\": 62411588.0}, {\"annee\": 2016, \"payant\": 33913590.0, \"gratuit\": 26360136.0, \"total\": 60273726.0}, {\"annee\": 2017, \"payant\": 37231364.0, \"gratuit\": 26235288.0, \"total\": 63466652.0}, {\"annee\": 2018, \"payant\": 38051214.0, \"gratuit\": 28623076.0, \"total\": 66674290.0}, {\"annee\": 2019, \"payant\": 38919220.0, \"gratuit\": 27865284.0, \"total\": 66784504.0}]}}, {\"mode\": \"vega-lite\"});\n",
       "</script>"
      ],
      "text/plain": [
       "alt.Chart(...)"
      ]
     },
     "execution_count": 36,
     "metadata": {},
     "output_type": "execute_result"
    }
   ],
   "source": [
    "alt.Chart(df_freq_annee).mark_bar().encode(\n",
    "    x=\"annee\",\n",
    "    y=\"total\"\n",
    ")"
   ]
  },
  {
   "cell_type": "markdown",
   "id": "6f354e2e-2785-4250-a0db-6d1075a0f79f",
   "metadata": {},
   "source": [
    "A cela s'ajoute d'autres arguments qui vont jouer, visuellement, sur certains aspects comme le **gradient de couleur**, la **forme des marqueurs de données**, etc.\n",
    "\n",
    "Dans notre cas, nous allons utiliser un gradient de couleur pour visualiser la part des entrées payantes dans le total des entrées : pour cela, on ajoute l'argument `color` à notre méthode `.encode()`, auquel on associe la colonne qui contient les données sur le nombre d'entrées payantes."
   ]
  },
  {
   "cell_type": "code",
   "execution_count": 37,
   "id": "a6c6ba1d-cd2a-4118-9ac9-934fc04fd768",
   "metadata": {},
   "outputs": [
    {
     "data": {
      "text/html": [
       "\n",
       "<div id=\"altair-viz-f3bfc1e04d3f49049d19d8a6302773ce\"></div>\n",
       "<script type=\"text/javascript\">\n",
       "  (function(spec, embedOpt){\n",
       "    let outputDiv = document.currentScript.previousElementSibling;\n",
       "    if (outputDiv.id !== \"altair-viz-f3bfc1e04d3f49049d19d8a6302773ce\") {\n",
       "      outputDiv = document.getElementById(\"altair-viz-f3bfc1e04d3f49049d19d8a6302773ce\");\n",
       "    }\n",
       "    const paths = {\n",
       "      \"vega\": \"https://cdn.jsdelivr.net/npm//vega@5?noext\",\n",
       "      \"vega-lib\": \"https://cdn.jsdelivr.net/npm//vega-lib?noext\",\n",
       "      \"vega-lite\": \"https://cdn.jsdelivr.net/npm//vega-lite@4.8.1?noext\",\n",
       "      \"vega-embed\": \"https://cdn.jsdelivr.net/npm//vega-embed@6?noext\",\n",
       "    };\n",
       "\n",
       "    function loadScript(lib) {\n",
       "      return new Promise(function(resolve, reject) {\n",
       "        var s = document.createElement('script');\n",
       "        s.src = paths[lib];\n",
       "        s.async = true;\n",
       "        s.onload = () => resolve(paths[lib]);\n",
       "        s.onerror = () => reject(`Error loading script: ${paths[lib]}`);\n",
       "        document.getElementsByTagName(\"head\")[0].appendChild(s);\n",
       "      });\n",
       "    }\n",
       "\n",
       "    function showError(err) {\n",
       "      outputDiv.innerHTML = `<div class=\"error\" style=\"color:red;\">${err}</div>`;\n",
       "      throw err;\n",
       "    }\n",
       "\n",
       "    function displayChart(vegaEmbed) {\n",
       "      vegaEmbed(outputDiv, spec, embedOpt)\n",
       "        .catch(err => showError(`Javascript Error: ${err.message}<br>This usually means there's a typo in your chart specification. See the javascript console for the full traceback.`));\n",
       "    }\n",
       "\n",
       "    if(typeof define === \"function\" && define.amd) {\n",
       "      requirejs.config({paths});\n",
       "      require([\"vega-embed\"], displayChart, err => showError(`Error loading script: ${err.message}`));\n",
       "    } else if (typeof vegaEmbed === \"function\") {\n",
       "      displayChart(vegaEmbed);\n",
       "    } else {\n",
       "      loadScript(\"vega\")\n",
       "        .then(() => loadScript(\"vega-lite\"))\n",
       "        .then(() => loadScript(\"vega-embed\"))\n",
       "        .catch(showError)\n",
       "        .then(() => displayChart(vegaEmbed));\n",
       "    }\n",
       "  })({\"config\": {\"view\": {\"continuousWidth\": 400, \"continuousHeight\": 300}}, \"data\": {\"name\": \"data-005d7f9fb72f4a9cf1f2efc79a0a9870\"}, \"mark\": \"bar\", \"encoding\": {\"color\": {\"type\": \"quantitative\", \"field\": \"payant\"}, \"x\": {\"type\": \"quantitative\", \"field\": \"annee\"}, \"y\": {\"type\": \"quantitative\", \"field\": \"total\"}}, \"$schema\": \"https://vega.github.io/schema/vega-lite/v4.8.1.json\", \"datasets\": {\"data-005d7f9fb72f4a9cf1f2efc79a0a9870\": [{\"annee\": 2001, \"payant\": 28466349.0, \"gratuit\": 10382830.0, \"total\": 38849179.0}, {\"annee\": 2002, \"payant\": 29953221.0, \"gratuit\": 12416890.0, \"total\": 42370111.0}, {\"annee\": 2003, \"payant\": 27012323.0, \"gratuit\": 13311906.0, \"total\": 40324229.0}, {\"annee\": 2004, \"payant\": 32223957.0, \"gratuit\": 13406772.0, \"total\": 45630729.0}, {\"annee\": 2005, \"payant\": 30315726.0, \"gratuit\": 14933647.0, \"total\": 45249373.0}, {\"annee\": 2006, \"payant\": 32197378.0, \"gratuit\": 17921286.0, \"total\": 50118664.0}, {\"annee\": 2007, \"payant\": 32713354.0, \"gratuit\": 19909054.0, \"total\": 52622408.0}, {\"annee\": 2008, \"payant\": 33579952.0, \"gratuit\": 22189175.0, \"total\": 55769127.0}, {\"annee\": 2009, \"payant\": 33193708.0, \"gratuit\": 23289275.0, \"total\": 56482983.0}, {\"annee\": 2010, \"payant\": 32996844.0, \"gratuit\": 24498309.0, \"total\": 57495153.0}, {\"annee\": 2011, \"payant\": 34914188.0, \"gratuit\": 24603377.0, \"total\": 59517565.0}, {\"annee\": 2012, \"payant\": 34907138.0, \"gratuit\": 27144429.0, \"total\": 62051567.0}, {\"annee\": 2013, \"payant\": 35930635.0, \"gratuit\": 28502992.0, \"total\": 64433627.0}, {\"annee\": 2014, \"payant\": 36650770.0, \"gratuit\": 28498890.0, \"total\": 65149660.0}, {\"annee\": 2015, \"payant\": 36244518.0, \"gratuit\": 26167070.0, \"total\": 62411588.0}, {\"annee\": 2016, \"payant\": 33913590.0, \"gratuit\": 26360136.0, \"total\": 60273726.0}, {\"annee\": 2017, \"payant\": 37231364.0, \"gratuit\": 26235288.0, \"total\": 63466652.0}, {\"annee\": 2018, \"payant\": 38051214.0, \"gratuit\": 28623076.0, \"total\": 66674290.0}, {\"annee\": 2019, \"payant\": 38919220.0, \"gratuit\": 27865284.0, \"total\": 66784504.0}]}}, {\"mode\": \"vega-lite\"});\n",
       "</script>"
      ],
      "text/plain": [
       "alt.Chart(...)"
      ]
     },
     "execution_count": 37,
     "metadata": {},
     "output_type": "execute_result"
    }
   ],
   "source": [
    "alt.Chart(df_freq_annee).mark_bar().encode(\n",
    "    x=\"annee\",\n",
    "    y=\"total\",\n",
    "    color=\"payant\"\n",
    ")"
   ]
  },
  {
   "cell_type": "markdown",
   "id": "873ee536-4307-4e95-b1fd-810291d0a058",
   "metadata": {
    "tags": []
   },
   "source": [
    "#### 6. 2. 6. Altair s'appuie sur le format et le type des données"
   ]
  },
  {
   "cell_type": "markdown",
   "id": "31014e56-be39-4a37-b9c7-f94d3fb581d3",
   "metadata": {},
   "source": [
    "`Altair` est capable d'induire le **type des données** et également en fonction de leur **format**, peut opérer des choix pour sélectionner la représentation la plus appropriée pour leur donner forme. Cet avantage nécessite néanmoins de comprendre la façon dont on peut **mettre en forme et en ordre** des données afin d'en tirer le meilleur parti.\n",
    "\n",
    "En suivant l'exemple que nous explorons sur la fréquentation des musées, on souhaiterait pouvoir construire un **graphique par surfaces** qui superposerait les entrées payantes et les entrées gratuites afin d'analyser leur évolution parallèle. Mais pour cela, compte tenu de la façon dont nos données sont construites, il nous faut au préalable les transformer pour permettre à `Altair` d'appliquer ses opérations de mise en forme automatiques.\n",
    "\n",
    "Il existe mille et une façons de représenter des données. Néanmoins, dans la logique de `pandas`, on peut distinguer ce que l'on nomme les données ***long-form*** et les ***wide-form*** :\n",
    "* Les ***long-form*** ont un nombre de lignes multiplié par le nombre de variables auquel se rapporte une observation spécifique \n",
    "* Les ***wide-form*** ont une colonne par variable avec le label décrivant les donnée se situant dans l'entête de la colonne"
   ]
  },
  {
   "cell_type": "code",
   "execution_count": 38,
   "id": "fe6c19b7-4644-4d4c-8757-b008de35bdb2",
   "metadata": {},
   "outputs": [
    {
     "data": {
      "text/html": [
       "<div>\n",
       "<style scoped>\n",
       "    .dataframe tbody tr th:only-of-type {\n",
       "        vertical-align: middle;\n",
       "    }\n",
       "\n",
       "    .dataframe tbody tr th {\n",
       "        vertical-align: top;\n",
       "    }\n",
       "\n",
       "    .dataframe thead th {\n",
       "        text-align: right;\n",
       "    }\n",
       "</style>\n",
       "<table border=\"1\" class=\"dataframe\">\n",
       "  <thead>\n",
       "    <tr style=\"text-align: right;\">\n",
       "      <th></th>\n",
       "      <th>annee</th>\n",
       "      <th>type_entree</th>\n",
       "      <th>nombre_entree</th>\n",
       "    </tr>\n",
       "  </thead>\n",
       "  <tbody>\n",
       "    <tr>\n",
       "      <th>0</th>\n",
       "      <td>2001</td>\n",
       "      <td>payant</td>\n",
       "      <td>103</td>\n",
       "    </tr>\n",
       "    <tr>\n",
       "      <th>1</th>\n",
       "      <td>2002</td>\n",
       "      <td>payant</td>\n",
       "      <td>134</td>\n",
       "    </tr>\n",
       "    <tr>\n",
       "      <th>2</th>\n",
       "      <td>2003</td>\n",
       "      <td>payant</td>\n",
       "      <td>145</td>\n",
       "    </tr>\n",
       "    <tr>\n",
       "      <th>3</th>\n",
       "      <td>2001</td>\n",
       "      <td>gratuit</td>\n",
       "      <td>139</td>\n",
       "    </tr>\n",
       "    <tr>\n",
       "      <th>4</th>\n",
       "      <td>2002</td>\n",
       "      <td>gratuit</td>\n",
       "      <td>167</td>\n",
       "    </tr>\n",
       "    <tr>\n",
       "      <th>5</th>\n",
       "      <td>2003</td>\n",
       "      <td>gratuit</td>\n",
       "      <td>230</td>\n",
       "    </tr>\n",
       "  </tbody>\n",
       "</table>\n",
       "</div>"
      ],
      "text/plain": [
       "   annee type_entree  nombre_entree\n",
       "0   2001      payant            103\n",
       "1   2002      payant            134\n",
       "2   2003      payant            145\n",
       "3   2001     gratuit            139\n",
       "4   2002     gratuit            167\n",
       "5   2003     gratuit            230"
      ]
     },
     "execution_count": 38,
     "metadata": {},
     "output_type": "execute_result"
    }
   ],
   "source": [
    "long_form = pd.DataFrame({\n",
    "    \"annee\": [2001, 2002, 2003, 2001, 2002, 2003],\n",
    "    \"type_entree\": [\"payant\", \"payant\", \"payant\", \"gratuit\", \"gratuit\", \"gratuit\"],\n",
    "    \"nombre_entree\": [103, 134, 145, 139, 167, 230]\n",
    "})\n",
    "long_form"
   ]
  },
  {
   "cell_type": "code",
   "execution_count": 39,
   "id": "048e14f3-39d1-4b9c-b2c2-e467e3cc9ed7",
   "metadata": {},
   "outputs": [
    {
     "data": {
      "text/html": [
       "<div>\n",
       "<style scoped>\n",
       "    .dataframe tbody tr th:only-of-type {\n",
       "        vertical-align: middle;\n",
       "    }\n",
       "\n",
       "    .dataframe tbody tr th {\n",
       "        vertical-align: top;\n",
       "    }\n",
       "\n",
       "    .dataframe thead th {\n",
       "        text-align: right;\n",
       "    }\n",
       "</style>\n",
       "<table border=\"1\" class=\"dataframe\">\n",
       "  <thead>\n",
       "    <tr style=\"text-align: right;\">\n",
       "      <th></th>\n",
       "      <th>annee</th>\n",
       "      <th>payant</th>\n",
       "      <th>gratuit</th>\n",
       "    </tr>\n",
       "  </thead>\n",
       "  <tbody>\n",
       "    <tr>\n",
       "      <th>0</th>\n",
       "      <td>2001</td>\n",
       "      <td>103</td>\n",
       "      <td>139</td>\n",
       "    </tr>\n",
       "    <tr>\n",
       "      <th>1</th>\n",
       "      <td>2002</td>\n",
       "      <td>134</td>\n",
       "      <td>167</td>\n",
       "    </tr>\n",
       "    <tr>\n",
       "      <th>2</th>\n",
       "      <td>2003</td>\n",
       "      <td>145</td>\n",
       "      <td>230</td>\n",
       "    </tr>\n",
       "  </tbody>\n",
       "</table>\n",
       "</div>"
      ],
      "text/plain": [
       "   annee  payant  gratuit\n",
       "0   2001     103      139\n",
       "1   2002     134      167\n",
       "2   2003     145      230"
      ]
     },
     "execution_count": 39,
     "metadata": {},
     "output_type": "execute_result"
    }
   ],
   "source": [
    "wide_form = pd.DataFrame({\n",
    "    \"annee\": [2001, 2002, 2003],\n",
    "    \"payant\": [103, 134, 145],\n",
    "    \"gratuit\": [139, 167, 230]\n",
    "})\n",
    "wide_form"
   ]
  },
  {
   "cell_type": "markdown",
   "id": "660a51b4-aa8c-437a-9210-60b85b8f6727",
   "metadata": {},
   "source": [
    "Pour transformer nos données qui sont représentées dans un format ***wide-form*** en une représentation ***long-form*** sur laquelle on souhaite s'appuyer pour tirer partie des options de mises en forme automatiques d'`Altair`, on peut utiliser la méthode `.melt()` de `pandas`. L'idée est de lui spécifier la liste des colonnes que l'on souhaite faire passer en ligne en les passant à l'argument `value_vars` ; à cela, on ajoute l'argument `id_vars` qui fait office de \"pivot\" si l'on peut dire (il s'agit de la colonne qui sera dupliquée pour permettre d'ajouter autant de lignes que l'on aura de catégories différentes à passer à l'argument `value_vars`)."
   ]
  },
  {
   "cell_type": "code",
   "execution_count": 40,
   "id": "888305a3-b706-47c9-9512-388b880af12b",
   "metadata": {},
   "outputs": [
    {
     "data": {
      "text/html": [
       "<div>\n",
       "<style scoped>\n",
       "    .dataframe tbody tr th:only-of-type {\n",
       "        vertical-align: middle;\n",
       "    }\n",
       "\n",
       "    .dataframe tbody tr th {\n",
       "        vertical-align: top;\n",
       "    }\n",
       "\n",
       "    .dataframe thead th {\n",
       "        text-align: right;\n",
       "    }\n",
       "</style>\n",
       "<table border=\"1\" class=\"dataframe\">\n",
       "  <thead>\n",
       "    <tr style=\"text-align: right;\">\n",
       "      <th></th>\n",
       "      <th>annee</th>\n",
       "      <th>type_entree</th>\n",
       "      <th>nombre_entree</th>\n",
       "    </tr>\n",
       "  </thead>\n",
       "  <tbody>\n",
       "    <tr>\n",
       "      <th>0</th>\n",
       "      <td>2001</td>\n",
       "      <td>payant</td>\n",
       "      <td>28466349.0</td>\n",
       "    </tr>\n",
       "    <tr>\n",
       "      <th>1</th>\n",
       "      <td>2002</td>\n",
       "      <td>payant</td>\n",
       "      <td>29953221.0</td>\n",
       "    </tr>\n",
       "    <tr>\n",
       "      <th>2</th>\n",
       "      <td>2003</td>\n",
       "      <td>payant</td>\n",
       "      <td>27012323.0</td>\n",
       "    </tr>\n",
       "    <tr>\n",
       "      <th>3</th>\n",
       "      <td>2004</td>\n",
       "      <td>payant</td>\n",
       "      <td>32223957.0</td>\n",
       "    </tr>\n",
       "    <tr>\n",
       "      <th>4</th>\n",
       "      <td>2005</td>\n",
       "      <td>payant</td>\n",
       "      <td>30315726.0</td>\n",
       "    </tr>\n",
       "  </tbody>\n",
       "</table>\n",
       "</div>"
      ],
      "text/plain": [
       "   annee type_entree  nombre_entree\n",
       "0   2001      payant     28466349.0\n",
       "1   2002      payant     29953221.0\n",
       "2   2003      payant     27012323.0\n",
       "3   2004      payant     32223957.0\n",
       "4   2005      payant     30315726.0"
      ]
     },
     "execution_count": 40,
     "metadata": {},
     "output_type": "execute_result"
    }
   ],
   "source": [
    "# On passe les colonnes \"payant\" et \"gratuit\" à l'argument \"value_vars\" pour effectuer le pivot\n",
    "df_long_freq_annee = df_freq_annee.melt(\n",
    "    id_vars=[\"annee\"],\n",
    "    value_vars=[\"payant\", \"gratuit\"],\n",
    "    var_name=\"type_entree\",\n",
    "    value_name=\"nombre_entree\")\n",
    "df_long_freq_annee.head()"
   ]
  },
  {
   "cell_type": "code",
   "execution_count": 48,
   "id": "97f6e6f1-0ca4-46c1-951f-7af5eec47960",
   "metadata": {},
   "outputs": [
    {
     "data": {
      "text/html": [
       "\n",
       "<div id=\"altair-viz-a25b59f3f9ac409a8597eafdc261e8d8\"></div>\n",
       "<script type=\"text/javascript\">\n",
       "  (function(spec, embedOpt){\n",
       "    let outputDiv = document.currentScript.previousElementSibling;\n",
       "    if (outputDiv.id !== \"altair-viz-a25b59f3f9ac409a8597eafdc261e8d8\") {\n",
       "      outputDiv = document.getElementById(\"altair-viz-a25b59f3f9ac409a8597eafdc261e8d8\");\n",
       "    }\n",
       "    const paths = {\n",
       "      \"vega\": \"https://cdn.jsdelivr.net/npm//vega@5?noext\",\n",
       "      \"vega-lib\": \"https://cdn.jsdelivr.net/npm//vega-lib?noext\",\n",
       "      \"vega-lite\": \"https://cdn.jsdelivr.net/npm//vega-lite@4.8.1?noext\",\n",
       "      \"vega-embed\": \"https://cdn.jsdelivr.net/npm//vega-embed@6?noext\",\n",
       "    };\n",
       "\n",
       "    function loadScript(lib) {\n",
       "      return new Promise(function(resolve, reject) {\n",
       "        var s = document.createElement('script');\n",
       "        s.src = paths[lib];\n",
       "        s.async = true;\n",
       "        s.onload = () => resolve(paths[lib]);\n",
       "        s.onerror = () => reject(`Error loading script: ${paths[lib]}`);\n",
       "        document.getElementsByTagName(\"head\")[0].appendChild(s);\n",
       "      });\n",
       "    }\n",
       "\n",
       "    function showError(err) {\n",
       "      outputDiv.innerHTML = `<div class=\"error\" style=\"color:red;\">${err}</div>`;\n",
       "      throw err;\n",
       "    }\n",
       "\n",
       "    function displayChart(vegaEmbed) {\n",
       "      vegaEmbed(outputDiv, spec, embedOpt)\n",
       "        .catch(err => showError(`Javascript Error: ${err.message}<br>This usually means there's a typo in your chart specification. See the javascript console for the full traceback.`));\n",
       "    }\n",
       "\n",
       "    if(typeof define === \"function\" && define.amd) {\n",
       "      requirejs.config({paths});\n",
       "      require([\"vega-embed\"], displayChart, err => showError(`Error loading script: ${err.message}`));\n",
       "    } else if (typeof vegaEmbed === \"function\") {\n",
       "      displayChart(vegaEmbed);\n",
       "    } else {\n",
       "      loadScript(\"vega\")\n",
       "        .then(() => loadScript(\"vega-lite\"))\n",
       "        .then(() => loadScript(\"vega-embed\"))\n",
       "        .catch(showError)\n",
       "        .then(() => displayChart(vegaEmbed));\n",
       "    }\n",
       "  })({\"config\": {\"view\": {\"continuousWidth\": 400, \"continuousHeight\": 300}}, \"data\": {\"name\": \"data-37c891bb50915f3e536e0f602ba2dae9\"}, \"mark\": \"area\", \"encoding\": {\"color\": {\"type\": \"nominal\", \"field\": \"type_entree\"}, \"x\": {\"type\": \"quantitative\", \"field\": \"annee\"}, \"y\": {\"type\": \"quantitative\", \"field\": \"nombre_entree\"}}, \"$schema\": \"https://vega.github.io/schema/vega-lite/v4.8.1.json\", \"datasets\": {\"data-37c891bb50915f3e536e0f602ba2dae9\": [{\"annee\": 2001, \"type_entree\": \"payant\", \"nombre_entree\": 28466349.0}, {\"annee\": 2002, \"type_entree\": \"payant\", \"nombre_entree\": 29953221.0}, {\"annee\": 2003, \"type_entree\": \"payant\", \"nombre_entree\": 27012323.0}, {\"annee\": 2004, \"type_entree\": \"payant\", \"nombre_entree\": 32223957.0}, {\"annee\": 2005, \"type_entree\": \"payant\", \"nombre_entree\": 30315726.0}, {\"annee\": 2006, \"type_entree\": \"payant\", \"nombre_entree\": 32197378.0}, {\"annee\": 2007, \"type_entree\": \"payant\", \"nombre_entree\": 32713354.0}, {\"annee\": 2008, \"type_entree\": \"payant\", \"nombre_entree\": 33579952.0}, {\"annee\": 2009, \"type_entree\": \"payant\", \"nombre_entree\": 33193708.0}, {\"annee\": 2010, \"type_entree\": \"payant\", \"nombre_entree\": 32996844.0}, {\"annee\": 2011, \"type_entree\": \"payant\", \"nombre_entree\": 34914188.0}, {\"annee\": 2012, \"type_entree\": \"payant\", \"nombre_entree\": 34907138.0}, {\"annee\": 2013, \"type_entree\": \"payant\", \"nombre_entree\": 35930635.0}, {\"annee\": 2014, \"type_entree\": \"payant\", \"nombre_entree\": 36650770.0}, {\"annee\": 2015, \"type_entree\": \"payant\", \"nombre_entree\": 36244518.0}, {\"annee\": 2016, \"type_entree\": \"payant\", \"nombre_entree\": 33913590.0}, {\"annee\": 2017, \"type_entree\": \"payant\", \"nombre_entree\": 37231364.0}, {\"annee\": 2018, \"type_entree\": \"payant\", \"nombre_entree\": 38051214.0}, {\"annee\": 2019, \"type_entree\": \"payant\", \"nombre_entree\": 38919220.0}, {\"annee\": 2001, \"type_entree\": \"gratuit\", \"nombre_entree\": 10382830.0}, {\"annee\": 2002, \"type_entree\": \"gratuit\", \"nombre_entree\": 12416890.0}, {\"annee\": 2003, \"type_entree\": \"gratuit\", \"nombre_entree\": 13311906.0}, {\"annee\": 2004, \"type_entree\": \"gratuit\", \"nombre_entree\": 13406772.0}, {\"annee\": 2005, \"type_entree\": \"gratuit\", \"nombre_entree\": 14933647.0}, {\"annee\": 2006, \"type_entree\": \"gratuit\", \"nombre_entree\": 17921286.0}, {\"annee\": 2007, \"type_entree\": \"gratuit\", \"nombre_entree\": 19909054.0}, {\"annee\": 2008, \"type_entree\": \"gratuit\", \"nombre_entree\": 22189175.0}, {\"annee\": 2009, \"type_entree\": \"gratuit\", \"nombre_entree\": 23289275.0}, {\"annee\": 2010, \"type_entree\": \"gratuit\", \"nombre_entree\": 24498309.0}, {\"annee\": 2011, \"type_entree\": \"gratuit\", \"nombre_entree\": 24603377.0}, {\"annee\": 2012, \"type_entree\": \"gratuit\", \"nombre_entree\": 27144429.0}, {\"annee\": 2013, \"type_entree\": \"gratuit\", \"nombre_entree\": 28502992.0}, {\"annee\": 2014, \"type_entree\": \"gratuit\", \"nombre_entree\": 28498890.0}, {\"annee\": 2015, \"type_entree\": \"gratuit\", \"nombre_entree\": 26167070.0}, {\"annee\": 2016, \"type_entree\": \"gratuit\", \"nombre_entree\": 26360136.0}, {\"annee\": 2017, \"type_entree\": \"gratuit\", \"nombre_entree\": 26235288.0}, {\"annee\": 2018, \"type_entree\": \"gratuit\", \"nombre_entree\": 28623076.0}, {\"annee\": 2019, \"type_entree\": \"gratuit\", \"nombre_entree\": 27865284.0}]}}, {\"mode\": \"vega-lite\"});\n",
       "</script>"
      ],
      "text/plain": [
       "alt.Chart(...)"
      ]
     },
     "execution_count": 48,
     "metadata": {},
     "output_type": "execute_result"
    }
   ],
   "source": [
    "# On peut maintenant s'appuyer sur le type de données, gratuit ou payant, pour chaque ligne \"annee\" de\n",
    "# notre jeu de données\n",
    "alt.Chart(df_long_freq_annee).mark_area().encode(\n",
    "    x=\"annee\",\n",
    "    y=\"nombre_entree\",\n",
    "    color=\"type_entree\"\n",
    ")"
   ]
  },
  {
   "cell_type": "markdown",
   "id": "3dcb4793-6cbd-49ba-b92e-343330247c17",
   "metadata": {},
   "source": [
    "A cela, il faut également ajouter qu'`Altair` permet d'ajouter une information sur le **type de données** de façon très efficace. On peut retrouver à [cette adresse](https://altair-viz.github.io/user_guide/encoding.html#encoding-data-types) la liste de tous les types de données que l'on peut appliquer sur des jeux de données à l'aide d'`Altair`.\n",
    "\n",
    "En pratique, le plus simple est de faire suivre le nom de la colonne du tableau de données par `:` suivi d'une lettre décrivant le **type de données**.\n",
    "\n",
    "Actuellement, la colonne `annee` de notre tableau de données `pandas` est au format numérique (`float` plus exactement, qui permet de décrire le nombres décimaux). Dans notre cas, il s'agit plutôt d'une **variable ordinale**, c'est-à-dire, d'une **variable catégorielle** pour laquelle l'ordre a une certaine importance.\n",
    "\n",
    "Pour cela, on peut simplement ajouter le suffixe `:O` à notre nom de colonne que l'on passe en argument de la méthode `.encode()`."
   ]
  },
  {
   "cell_type": "code",
   "execution_count": 54,
   "id": "d2d257ec-f5f2-4899-b499-e61469c8cd8d",
   "metadata": {},
   "outputs": [
    {
     "data": {
      "text/html": [
       "\n",
       "<div id=\"altair-viz-7173a8570196419f88698f61456c6032\"></div>\n",
       "<script type=\"text/javascript\">\n",
       "  (function(spec, embedOpt){\n",
       "    let outputDiv = document.currentScript.previousElementSibling;\n",
       "    if (outputDiv.id !== \"altair-viz-7173a8570196419f88698f61456c6032\") {\n",
       "      outputDiv = document.getElementById(\"altair-viz-7173a8570196419f88698f61456c6032\");\n",
       "    }\n",
       "    const paths = {\n",
       "      \"vega\": \"https://cdn.jsdelivr.net/npm//vega@5?noext\",\n",
       "      \"vega-lib\": \"https://cdn.jsdelivr.net/npm//vega-lib?noext\",\n",
       "      \"vega-lite\": \"https://cdn.jsdelivr.net/npm//vega-lite@4.8.1?noext\",\n",
       "      \"vega-embed\": \"https://cdn.jsdelivr.net/npm//vega-embed@6?noext\",\n",
       "    };\n",
       "\n",
       "    function loadScript(lib) {\n",
       "      return new Promise(function(resolve, reject) {\n",
       "        var s = document.createElement('script');\n",
       "        s.src = paths[lib];\n",
       "        s.async = true;\n",
       "        s.onload = () => resolve(paths[lib]);\n",
       "        s.onerror = () => reject(`Error loading script: ${paths[lib]}`);\n",
       "        document.getElementsByTagName(\"head\")[0].appendChild(s);\n",
       "      });\n",
       "    }\n",
       "\n",
       "    function showError(err) {\n",
       "      outputDiv.innerHTML = `<div class=\"error\" style=\"color:red;\">${err}</div>`;\n",
       "      throw err;\n",
       "    }\n",
       "\n",
       "    function displayChart(vegaEmbed) {\n",
       "      vegaEmbed(outputDiv, spec, embedOpt)\n",
       "        .catch(err => showError(`Javascript Error: ${err.message}<br>This usually means there's a typo in your chart specification. See the javascript console for the full traceback.`));\n",
       "    }\n",
       "\n",
       "    if(typeof define === \"function\" && define.amd) {\n",
       "      requirejs.config({paths});\n",
       "      require([\"vega-embed\"], displayChart, err => showError(`Error loading script: ${err.message}`));\n",
       "    } else if (typeof vegaEmbed === \"function\") {\n",
       "      displayChart(vegaEmbed);\n",
       "    } else {\n",
       "      loadScript(\"vega\")\n",
       "        .then(() => loadScript(\"vega-lite\"))\n",
       "        .then(() => loadScript(\"vega-embed\"))\n",
       "        .catch(showError)\n",
       "        .then(() => displayChart(vegaEmbed));\n",
       "    }\n",
       "  })({\"config\": {\"view\": {\"continuousWidth\": 400, \"continuousHeight\": 300}}, \"data\": {\"name\": \"data-37c891bb50915f3e536e0f602ba2dae9\"}, \"mark\": \"area\", \"encoding\": {\"color\": {\"type\": \"nominal\", \"field\": \"type_entree\"}, \"x\": {\"type\": \"ordinal\", \"field\": \"annee\"}, \"y\": {\"type\": \"quantitative\", \"field\": \"nombre_entree\"}}, \"$schema\": \"https://vega.github.io/schema/vega-lite/v4.8.1.json\", \"datasets\": {\"data-37c891bb50915f3e536e0f602ba2dae9\": [{\"annee\": 2001, \"type_entree\": \"payant\", \"nombre_entree\": 28466349.0}, {\"annee\": 2002, \"type_entree\": \"payant\", \"nombre_entree\": 29953221.0}, {\"annee\": 2003, \"type_entree\": \"payant\", \"nombre_entree\": 27012323.0}, {\"annee\": 2004, \"type_entree\": \"payant\", \"nombre_entree\": 32223957.0}, {\"annee\": 2005, \"type_entree\": \"payant\", \"nombre_entree\": 30315726.0}, {\"annee\": 2006, \"type_entree\": \"payant\", \"nombre_entree\": 32197378.0}, {\"annee\": 2007, \"type_entree\": \"payant\", \"nombre_entree\": 32713354.0}, {\"annee\": 2008, \"type_entree\": \"payant\", \"nombre_entree\": 33579952.0}, {\"annee\": 2009, \"type_entree\": \"payant\", \"nombre_entree\": 33193708.0}, {\"annee\": 2010, \"type_entree\": \"payant\", \"nombre_entree\": 32996844.0}, {\"annee\": 2011, \"type_entree\": \"payant\", \"nombre_entree\": 34914188.0}, {\"annee\": 2012, \"type_entree\": \"payant\", \"nombre_entree\": 34907138.0}, {\"annee\": 2013, \"type_entree\": \"payant\", \"nombre_entree\": 35930635.0}, {\"annee\": 2014, \"type_entree\": \"payant\", \"nombre_entree\": 36650770.0}, {\"annee\": 2015, \"type_entree\": \"payant\", \"nombre_entree\": 36244518.0}, {\"annee\": 2016, \"type_entree\": \"payant\", \"nombre_entree\": 33913590.0}, {\"annee\": 2017, \"type_entree\": \"payant\", \"nombre_entree\": 37231364.0}, {\"annee\": 2018, \"type_entree\": \"payant\", \"nombre_entree\": 38051214.0}, {\"annee\": 2019, \"type_entree\": \"payant\", \"nombre_entree\": 38919220.0}, {\"annee\": 2001, \"type_entree\": \"gratuit\", \"nombre_entree\": 10382830.0}, {\"annee\": 2002, \"type_entree\": \"gratuit\", \"nombre_entree\": 12416890.0}, {\"annee\": 2003, \"type_entree\": \"gratuit\", \"nombre_entree\": 13311906.0}, {\"annee\": 2004, \"type_entree\": \"gratuit\", \"nombre_entree\": 13406772.0}, {\"annee\": 2005, \"type_entree\": \"gratuit\", \"nombre_entree\": 14933647.0}, {\"annee\": 2006, \"type_entree\": \"gratuit\", \"nombre_entree\": 17921286.0}, {\"annee\": 2007, \"type_entree\": \"gratuit\", \"nombre_entree\": 19909054.0}, {\"annee\": 2008, \"type_entree\": \"gratuit\", \"nombre_entree\": 22189175.0}, {\"annee\": 2009, \"type_entree\": \"gratuit\", \"nombre_entree\": 23289275.0}, {\"annee\": 2010, \"type_entree\": \"gratuit\", \"nombre_entree\": 24498309.0}, {\"annee\": 2011, \"type_entree\": \"gratuit\", \"nombre_entree\": 24603377.0}, {\"annee\": 2012, \"type_entree\": \"gratuit\", \"nombre_entree\": 27144429.0}, {\"annee\": 2013, \"type_entree\": \"gratuit\", \"nombre_entree\": 28502992.0}, {\"annee\": 2014, \"type_entree\": \"gratuit\", \"nombre_entree\": 28498890.0}, {\"annee\": 2015, \"type_entree\": \"gratuit\", \"nombre_entree\": 26167070.0}, {\"annee\": 2016, \"type_entree\": \"gratuit\", \"nombre_entree\": 26360136.0}, {\"annee\": 2017, \"type_entree\": \"gratuit\", \"nombre_entree\": 26235288.0}, {\"annee\": 2018, \"type_entree\": \"gratuit\", \"nombre_entree\": 28623076.0}, {\"annee\": 2019, \"type_entree\": \"gratuit\", \"nombre_entree\": 27865284.0}]}}, {\"mode\": \"vega-lite\"});\n",
       "</script>"
      ],
      "text/plain": [
       "alt.Chart(...)"
      ]
     },
     "execution_count": 54,
     "metadata": {},
     "output_type": "execute_result"
    }
   ],
   "source": [
    "# On ajoute le suffixe \":O\" à la colonne \"annee\" pour indiquer qu'il s'agit d'une variable catégorielle\n",
    "# ordinale et nom d'un type de données numérique\n",
    "alt.Chart(df_long_freq_annee).mark_area().encode(\n",
    "    x=\"annee:O\",\n",
    "    y=\"nombre_entree:Q\",\n",
    "    color=\"type_entree:N\"\n",
    ")"
   ]
  },
  {
   "cell_type": "markdown",
   "id": "88deb301-d42b-46da-81df-ba91a51e7c94",
   "metadata": {},
   "source": [
    "On peut constater qu'`Altair` transforme par la même occasion le format d'affichage en l'adaptant au **type de données** que l'on a renseigné."
   ]
  },
  {
   "cell_type": "markdown",
   "id": "c85b79f7-4f2b-4d4d-a192-bd3035b98d6e",
   "metadata": {
    "tags": []
   },
   "source": [
    "#### 6. 2. 7. Finaliser le graphique en explorant d'autres paramètres d'Altair"
   ]
  },
  {
   "cell_type": "markdown",
   "id": "470c10e6-aa54-4a3e-8c92-dbde330c435e",
   "metadata": {},
   "source": [
    "Tentons ici de finaliser notre graphique et explorons pour cela d'autres paramètres d'`Altair` que l'on peut modifier afin de personnaliser le rendu final en gardant en tête les questions que nous avons énoncées plus tôt comme prismes utiles pour produire des graphiques pertinents.\n",
    "\n",
    "Par défaut, `Altair` utilise les noms des colonnes de notre jeu de données pour produire les légendes : les *underscores* ne sont pas super à la lecture et l'idéal serait de pouvoir les supprimer. Au passage, on pourra aussi ajouter un titre à notre graphique.\n",
    "\n",
    "Pour modifier plus en détail certains paramètres, il nous faut passer directement les objets représentant chaque **encodeur** faisant le lien entre l'ensemble de notre jeu de données et le paramètre visuel auquel il se rapporte. De façon générale, il s'agit simplement d'appeler directement sur l'objet `Altair` la méthode qui porte généralement le même nom que le paramètre que l'on passait au préalable à la méthode `.encode()`.\n",
    "\n",
    "Ainsi, pour représenter le paramètre `x` ou `y`, on peut appeler la méthode `.X()` et `.Y()` qui représentent respectivement l'**encodeur** de l'axe des abscisses et de celui des ordonnées. Toujours dans la logique de l'**approche fonctionnelle** d'`Altair`, on peut passer des paramètres à ces méthodes qui peuvent, à leur tour, prendre de nouvelles fonctions en paramètres."
   ]
  },
  {
   "cell_type": "code",
   "execution_count": 55,
   "id": "bc595c98-e756-4536-884c-9851d13f0404",
   "metadata": {},
   "outputs": [
    {
     "data": {
      "text/html": [
       "\n",
       "<div id=\"altair-viz-7fecd2a7de0c42c4a964c8ce44f28ec6\"></div>\n",
       "<script type=\"text/javascript\">\n",
       "  (function(spec, embedOpt){\n",
       "    let outputDiv = document.currentScript.previousElementSibling;\n",
       "    if (outputDiv.id !== \"altair-viz-7fecd2a7de0c42c4a964c8ce44f28ec6\") {\n",
       "      outputDiv = document.getElementById(\"altair-viz-7fecd2a7de0c42c4a964c8ce44f28ec6\");\n",
       "    }\n",
       "    const paths = {\n",
       "      \"vega\": \"https://cdn.jsdelivr.net/npm//vega@5?noext\",\n",
       "      \"vega-lib\": \"https://cdn.jsdelivr.net/npm//vega-lib?noext\",\n",
       "      \"vega-lite\": \"https://cdn.jsdelivr.net/npm//vega-lite@4.8.1?noext\",\n",
       "      \"vega-embed\": \"https://cdn.jsdelivr.net/npm//vega-embed@6?noext\",\n",
       "    };\n",
       "\n",
       "    function loadScript(lib) {\n",
       "      return new Promise(function(resolve, reject) {\n",
       "        var s = document.createElement('script');\n",
       "        s.src = paths[lib];\n",
       "        s.async = true;\n",
       "        s.onload = () => resolve(paths[lib]);\n",
       "        s.onerror = () => reject(`Error loading script: ${paths[lib]}`);\n",
       "        document.getElementsByTagName(\"head\")[0].appendChild(s);\n",
       "      });\n",
       "    }\n",
       "\n",
       "    function showError(err) {\n",
       "      outputDiv.innerHTML = `<div class=\"error\" style=\"color:red;\">${err}</div>`;\n",
       "      throw err;\n",
       "    }\n",
       "\n",
       "    function displayChart(vegaEmbed) {\n",
       "      vegaEmbed(outputDiv, spec, embedOpt)\n",
       "        .catch(err => showError(`Javascript Error: ${err.message}<br>This usually means there's a typo in your chart specification. See the javascript console for the full traceback.`));\n",
       "    }\n",
       "\n",
       "    if(typeof define === \"function\" && define.amd) {\n",
       "      requirejs.config({paths});\n",
       "      require([\"vega-embed\"], displayChart, err => showError(`Error loading script: ${err.message}`));\n",
       "    } else if (typeof vegaEmbed === \"function\") {\n",
       "      displayChart(vegaEmbed);\n",
       "    } else {\n",
       "      loadScript(\"vega\")\n",
       "        .then(() => loadScript(\"vega-lite\"))\n",
       "        .then(() => loadScript(\"vega-embed\"))\n",
       "        .catch(showError)\n",
       "        .then(() => displayChart(vegaEmbed));\n",
       "    }\n",
       "  })({\"config\": {\"view\": {\"continuousWidth\": 400, \"continuousHeight\": 300}}, \"data\": {\"name\": \"data-37c891bb50915f3e536e0f602ba2dae9\"}, \"mark\": \"area\", \"encoding\": {\"color\": {\"type\": \"nominal\", \"field\": \"type_entree\", \"title\": \"Type d'entr\\u00e9es\"}, \"x\": {\"type\": \"ordinal\", \"field\": \"annee\", \"title\": \"Ann\\u00e9e\"}, \"y\": {\"type\": \"quantitative\", \"field\": \"nombre_entree\", \"title\": \"Nombre d'entr\\u00e9es\"}}, \"$schema\": \"https://vega.github.io/schema/vega-lite/v4.8.1.json\", \"datasets\": {\"data-37c891bb50915f3e536e0f602ba2dae9\": [{\"annee\": 2001, \"type_entree\": \"payant\", \"nombre_entree\": 28466349.0}, {\"annee\": 2002, \"type_entree\": \"payant\", \"nombre_entree\": 29953221.0}, {\"annee\": 2003, \"type_entree\": \"payant\", \"nombre_entree\": 27012323.0}, {\"annee\": 2004, \"type_entree\": \"payant\", \"nombre_entree\": 32223957.0}, {\"annee\": 2005, \"type_entree\": \"payant\", \"nombre_entree\": 30315726.0}, {\"annee\": 2006, \"type_entree\": \"payant\", \"nombre_entree\": 32197378.0}, {\"annee\": 2007, \"type_entree\": \"payant\", \"nombre_entree\": 32713354.0}, {\"annee\": 2008, \"type_entree\": \"payant\", \"nombre_entree\": 33579952.0}, {\"annee\": 2009, \"type_entree\": \"payant\", \"nombre_entree\": 33193708.0}, {\"annee\": 2010, \"type_entree\": \"payant\", \"nombre_entree\": 32996844.0}, {\"annee\": 2011, \"type_entree\": \"payant\", \"nombre_entree\": 34914188.0}, {\"annee\": 2012, \"type_entree\": \"payant\", \"nombre_entree\": 34907138.0}, {\"annee\": 2013, \"type_entree\": \"payant\", \"nombre_entree\": 35930635.0}, {\"annee\": 2014, \"type_entree\": \"payant\", \"nombre_entree\": 36650770.0}, {\"annee\": 2015, \"type_entree\": \"payant\", \"nombre_entree\": 36244518.0}, {\"annee\": 2016, \"type_entree\": \"payant\", \"nombre_entree\": 33913590.0}, {\"annee\": 2017, \"type_entree\": \"payant\", \"nombre_entree\": 37231364.0}, {\"annee\": 2018, \"type_entree\": \"payant\", \"nombre_entree\": 38051214.0}, {\"annee\": 2019, \"type_entree\": \"payant\", \"nombre_entree\": 38919220.0}, {\"annee\": 2001, \"type_entree\": \"gratuit\", \"nombre_entree\": 10382830.0}, {\"annee\": 2002, \"type_entree\": \"gratuit\", \"nombre_entree\": 12416890.0}, {\"annee\": 2003, \"type_entree\": \"gratuit\", \"nombre_entree\": 13311906.0}, {\"annee\": 2004, \"type_entree\": \"gratuit\", \"nombre_entree\": 13406772.0}, {\"annee\": 2005, \"type_entree\": \"gratuit\", \"nombre_entree\": 14933647.0}, {\"annee\": 2006, \"type_entree\": \"gratuit\", \"nombre_entree\": 17921286.0}, {\"annee\": 2007, \"type_entree\": \"gratuit\", \"nombre_entree\": 19909054.0}, {\"annee\": 2008, \"type_entree\": \"gratuit\", \"nombre_entree\": 22189175.0}, {\"annee\": 2009, \"type_entree\": \"gratuit\", \"nombre_entree\": 23289275.0}, {\"annee\": 2010, \"type_entree\": \"gratuit\", \"nombre_entree\": 24498309.0}, {\"annee\": 2011, \"type_entree\": \"gratuit\", \"nombre_entree\": 24603377.0}, {\"annee\": 2012, \"type_entree\": \"gratuit\", \"nombre_entree\": 27144429.0}, {\"annee\": 2013, \"type_entree\": \"gratuit\", \"nombre_entree\": 28502992.0}, {\"annee\": 2014, \"type_entree\": \"gratuit\", \"nombre_entree\": 28498890.0}, {\"annee\": 2015, \"type_entree\": \"gratuit\", \"nombre_entree\": 26167070.0}, {\"annee\": 2016, \"type_entree\": \"gratuit\", \"nombre_entree\": 26360136.0}, {\"annee\": 2017, \"type_entree\": \"gratuit\", \"nombre_entree\": 26235288.0}, {\"annee\": 2018, \"type_entree\": \"gratuit\", \"nombre_entree\": 28623076.0}, {\"annee\": 2019, \"type_entree\": \"gratuit\", \"nombre_entree\": 27865284.0}]}}, {\"mode\": \"vega-lite\"});\n",
       "</script>"
      ],
      "text/plain": [
       "alt.Chart(...)"
      ]
     },
     "execution_count": 55,
     "metadata": {},
     "output_type": "execute_result"
    }
   ],
   "source": [
    "# On appelle les méthodes propres à chaque encodeur auxquelles on passe le paramètre \"title\" pour\n",
    "# modifier le titre des légendes de chaque axe\n",
    "alt.Chart(df_long_freq_annee).mark_area().encode(\n",
    "    alt.X(\n",
    "        shorthand=\"annee:O\",\n",
    "        title=\"Année\"\n",
    "    ),\n",
    "    alt.Y(\n",
    "        shorthand=\"nombre_entree:Q\",\n",
    "        title=\"Nombre d'entrées\"\n",
    "    ),\n",
    "    alt.Color(\n",
    "        shorthand=\"type_entree:N\",\n",
    "        title=\"Type d'entrées\"\n",
    "    )\n",
    ")"
   ]
  },
  {
   "cell_type": "markdown",
   "id": "4cf782d0-fdc7-489a-a511-32d38113a71e",
   "metadata": {},
   "source": [
    "En suivant la même logique, intervenons maintenant sur l'objet `Chart` en lui-même pour lui associer un titre. On utilise pour cela la méthode `.configure_title()` à laquelle on peut passer différents paramètres."
   ]
  },
  {
   "cell_type": "code",
   "execution_count": 56,
   "id": "5e786df4-b3be-4579-bb4a-bafdb97add97",
   "metadata": {},
   "outputs": [
    {
     "data": {
      "text/html": [
       "\n",
       "<div id=\"altair-viz-3388a010bfea4aa68018daad7d6bcd9e\"></div>\n",
       "<script type=\"text/javascript\">\n",
       "  (function(spec, embedOpt){\n",
       "    let outputDiv = document.currentScript.previousElementSibling;\n",
       "    if (outputDiv.id !== \"altair-viz-3388a010bfea4aa68018daad7d6bcd9e\") {\n",
       "      outputDiv = document.getElementById(\"altair-viz-3388a010bfea4aa68018daad7d6bcd9e\");\n",
       "    }\n",
       "    const paths = {\n",
       "      \"vega\": \"https://cdn.jsdelivr.net/npm//vega@5?noext\",\n",
       "      \"vega-lib\": \"https://cdn.jsdelivr.net/npm//vega-lib?noext\",\n",
       "      \"vega-lite\": \"https://cdn.jsdelivr.net/npm//vega-lite@4.8.1?noext\",\n",
       "      \"vega-embed\": \"https://cdn.jsdelivr.net/npm//vega-embed@6?noext\",\n",
       "    };\n",
       "\n",
       "    function loadScript(lib) {\n",
       "      return new Promise(function(resolve, reject) {\n",
       "        var s = document.createElement('script');\n",
       "        s.src = paths[lib];\n",
       "        s.async = true;\n",
       "        s.onload = () => resolve(paths[lib]);\n",
       "        s.onerror = () => reject(`Error loading script: ${paths[lib]}`);\n",
       "        document.getElementsByTagName(\"head\")[0].appendChild(s);\n",
       "      });\n",
       "    }\n",
       "\n",
       "    function showError(err) {\n",
       "      outputDiv.innerHTML = `<div class=\"error\" style=\"color:red;\">${err}</div>`;\n",
       "      throw err;\n",
       "    }\n",
       "\n",
       "    function displayChart(vegaEmbed) {\n",
       "      vegaEmbed(outputDiv, spec, embedOpt)\n",
       "        .catch(err => showError(`Javascript Error: ${err.message}<br>This usually means there's a typo in your chart specification. See the javascript console for the full traceback.`));\n",
       "    }\n",
       "\n",
       "    if(typeof define === \"function\" && define.amd) {\n",
       "      requirejs.config({paths});\n",
       "      require([\"vega-embed\"], displayChart, err => showError(`Error loading script: ${err.message}`));\n",
       "    } else if (typeof vegaEmbed === \"function\") {\n",
       "      displayChart(vegaEmbed);\n",
       "    } else {\n",
       "      loadScript(\"vega\")\n",
       "        .then(() => loadScript(\"vega-lite\"))\n",
       "        .then(() => loadScript(\"vega-embed\"))\n",
       "        .catch(showError)\n",
       "        .then(() => displayChart(vegaEmbed));\n",
       "    }\n",
       "  })({\"config\": {\"view\": {\"continuousWidth\": 400, \"continuousHeight\": 300}, \"title\": {\"align\": \"center\", \"color\": \"black\", \"font\": \"Arial\", \"fontSize\": 16, \"offset\": 15, \"orient\": \"bottom\"}}, \"data\": {\"name\": \"data-37c891bb50915f3e536e0f602ba2dae9\"}, \"mark\": \"area\", \"encoding\": {\"color\": {\"type\": \"nominal\", \"field\": \"type_entree\", \"title\": \"Type d'entr\\u00e9es\"}, \"x\": {\"type\": \"ordinal\", \"field\": \"annee\", \"title\": \"Ann\\u00e9e\"}, \"y\": {\"type\": \"quantitative\", \"field\": \"nombre_entree\", \"title\": \"Nombre d'entr\\u00e9es\"}}, \"title\": \"Fr\\u00e9quentation des mus\\u00e9es en France (2001-2019)\", \"$schema\": \"https://vega.github.io/schema/vega-lite/v4.8.1.json\", \"datasets\": {\"data-37c891bb50915f3e536e0f602ba2dae9\": [{\"annee\": 2001, \"type_entree\": \"payant\", \"nombre_entree\": 28466349.0}, {\"annee\": 2002, \"type_entree\": \"payant\", \"nombre_entree\": 29953221.0}, {\"annee\": 2003, \"type_entree\": \"payant\", \"nombre_entree\": 27012323.0}, {\"annee\": 2004, \"type_entree\": \"payant\", \"nombre_entree\": 32223957.0}, {\"annee\": 2005, \"type_entree\": \"payant\", \"nombre_entree\": 30315726.0}, {\"annee\": 2006, \"type_entree\": \"payant\", \"nombre_entree\": 32197378.0}, {\"annee\": 2007, \"type_entree\": \"payant\", \"nombre_entree\": 32713354.0}, {\"annee\": 2008, \"type_entree\": \"payant\", \"nombre_entree\": 33579952.0}, {\"annee\": 2009, \"type_entree\": \"payant\", \"nombre_entree\": 33193708.0}, {\"annee\": 2010, \"type_entree\": \"payant\", \"nombre_entree\": 32996844.0}, {\"annee\": 2011, \"type_entree\": \"payant\", \"nombre_entree\": 34914188.0}, {\"annee\": 2012, \"type_entree\": \"payant\", \"nombre_entree\": 34907138.0}, {\"annee\": 2013, \"type_entree\": \"payant\", \"nombre_entree\": 35930635.0}, {\"annee\": 2014, \"type_entree\": \"payant\", \"nombre_entree\": 36650770.0}, {\"annee\": 2015, \"type_entree\": \"payant\", \"nombre_entree\": 36244518.0}, {\"annee\": 2016, \"type_entree\": \"payant\", \"nombre_entree\": 33913590.0}, {\"annee\": 2017, \"type_entree\": \"payant\", \"nombre_entree\": 37231364.0}, {\"annee\": 2018, \"type_entree\": \"payant\", \"nombre_entree\": 38051214.0}, {\"annee\": 2019, \"type_entree\": \"payant\", \"nombre_entree\": 38919220.0}, {\"annee\": 2001, \"type_entree\": \"gratuit\", \"nombre_entree\": 10382830.0}, {\"annee\": 2002, \"type_entree\": \"gratuit\", \"nombre_entree\": 12416890.0}, {\"annee\": 2003, \"type_entree\": \"gratuit\", \"nombre_entree\": 13311906.0}, {\"annee\": 2004, \"type_entree\": \"gratuit\", \"nombre_entree\": 13406772.0}, {\"annee\": 2005, \"type_entree\": \"gratuit\", \"nombre_entree\": 14933647.0}, {\"annee\": 2006, \"type_entree\": \"gratuit\", \"nombre_entree\": 17921286.0}, {\"annee\": 2007, \"type_entree\": \"gratuit\", \"nombre_entree\": 19909054.0}, {\"annee\": 2008, \"type_entree\": \"gratuit\", \"nombre_entree\": 22189175.0}, {\"annee\": 2009, \"type_entree\": \"gratuit\", \"nombre_entree\": 23289275.0}, {\"annee\": 2010, \"type_entree\": \"gratuit\", \"nombre_entree\": 24498309.0}, {\"annee\": 2011, \"type_entree\": \"gratuit\", \"nombre_entree\": 24603377.0}, {\"annee\": 2012, \"type_entree\": \"gratuit\", \"nombre_entree\": 27144429.0}, {\"annee\": 2013, \"type_entree\": \"gratuit\", \"nombre_entree\": 28502992.0}, {\"annee\": 2014, \"type_entree\": \"gratuit\", \"nombre_entree\": 28498890.0}, {\"annee\": 2015, \"type_entree\": \"gratuit\", \"nombre_entree\": 26167070.0}, {\"annee\": 2016, \"type_entree\": \"gratuit\", \"nombre_entree\": 26360136.0}, {\"annee\": 2017, \"type_entree\": \"gratuit\", \"nombre_entree\": 26235288.0}, {\"annee\": 2018, \"type_entree\": \"gratuit\", \"nombre_entree\": 28623076.0}, {\"annee\": 2019, \"type_entree\": \"gratuit\", \"nombre_entree\": 27865284.0}]}}, {\"mode\": \"vega-lite\"});\n",
       "</script>"
      ],
      "text/plain": [
       "alt.Chart(...)"
      ]
     },
     "execution_count": 56,
     "metadata": {},
     "output_type": "execute_result"
    }
   ],
   "source": [
    "# On ajoute la méthode \"properties\" à laquelle on passe le titre du graphique comme paramètre mais\n",
    "# également la méthode \"configure_title\" qui permet de paramétrer l'affichage du titre\n",
    "alt.Chart(df_long_freq_annee).mark_area().encode(\n",
    "    alt.X(\n",
    "        shorthand=\"annee:O\",\n",
    "        title=\"Année\"\n",
    "    ),\n",
    "    alt.Y(\n",
    "        shorthand=\"nombre_entree:Q\",\n",
    "        title=\"Nombre d'entrées\"\n",
    "    ),\n",
    "    alt.Color(\n",
    "        shorthand=\"type_entree:N\",\n",
    "        title=\"Type d'entrées\"\n",
    "    )\n",
    ").properties(\n",
    "    title=\"Fréquentation des musées en France (2001-2019)\"\n",
    ").configure_title(\n",
    "    fontSize=16,\n",
    "    font=\"Arial\",\n",
    "    color=\"black\",\n",
    "    align=\"center\",\n",
    "    orient=\"bottom\",\n",
    "    offset=15\n",
    ")"
   ]
  },
  {
   "cell_type": "markdown",
   "id": "778e1497-6a64-4899-8143-b0f77aae5036",
   "metadata": {},
   "source": [
    "Par défaut, `Altair` impose une marge latérale : c'est une question de goût et, éventuellement, de lisibilité, mais prenons ici le parti de retirer cette marge. Pour cela, on peut paramétrer l'objet `Scale` d'`Altair` que l'on peut passer en paramètre de notre objet `.X()` représentant l'**encodeur** pour l'axe des abscisses."
   ]
  },
  {
   "cell_type": "code",
   "execution_count": 57,
   "id": "bf163605-d22d-4662-b4c6-75e452a63570",
   "metadata": {},
   "outputs": [
    {
     "data": {
      "text/html": [
       "\n",
       "<div id=\"altair-viz-14f882bf962c4ea599ab38ca558c3ccf\"></div>\n",
       "<script type=\"text/javascript\">\n",
       "  (function(spec, embedOpt){\n",
       "    let outputDiv = document.currentScript.previousElementSibling;\n",
       "    if (outputDiv.id !== \"altair-viz-14f882bf962c4ea599ab38ca558c3ccf\") {\n",
       "      outputDiv = document.getElementById(\"altair-viz-14f882bf962c4ea599ab38ca558c3ccf\");\n",
       "    }\n",
       "    const paths = {\n",
       "      \"vega\": \"https://cdn.jsdelivr.net/npm//vega@5?noext\",\n",
       "      \"vega-lib\": \"https://cdn.jsdelivr.net/npm//vega-lib?noext\",\n",
       "      \"vega-lite\": \"https://cdn.jsdelivr.net/npm//vega-lite@4.8.1?noext\",\n",
       "      \"vega-embed\": \"https://cdn.jsdelivr.net/npm//vega-embed@6?noext\",\n",
       "    };\n",
       "\n",
       "    function loadScript(lib) {\n",
       "      return new Promise(function(resolve, reject) {\n",
       "        var s = document.createElement('script');\n",
       "        s.src = paths[lib];\n",
       "        s.async = true;\n",
       "        s.onload = () => resolve(paths[lib]);\n",
       "        s.onerror = () => reject(`Error loading script: ${paths[lib]}`);\n",
       "        document.getElementsByTagName(\"head\")[0].appendChild(s);\n",
       "      });\n",
       "    }\n",
       "\n",
       "    function showError(err) {\n",
       "      outputDiv.innerHTML = `<div class=\"error\" style=\"color:red;\">${err}</div>`;\n",
       "      throw err;\n",
       "    }\n",
       "\n",
       "    function displayChart(vegaEmbed) {\n",
       "      vegaEmbed(outputDiv, spec, embedOpt)\n",
       "        .catch(err => showError(`Javascript Error: ${err.message}<br>This usually means there's a typo in your chart specification. See the javascript console for the full traceback.`));\n",
       "    }\n",
       "\n",
       "    if(typeof define === \"function\" && define.amd) {\n",
       "      requirejs.config({paths});\n",
       "      require([\"vega-embed\"], displayChart, err => showError(`Error loading script: ${err.message}`));\n",
       "    } else if (typeof vegaEmbed === \"function\") {\n",
       "      displayChart(vegaEmbed);\n",
       "    } else {\n",
       "      loadScript(\"vega\")\n",
       "        .then(() => loadScript(\"vega-lite\"))\n",
       "        .then(() => loadScript(\"vega-embed\"))\n",
       "        .catch(showError)\n",
       "        .then(() => displayChart(vegaEmbed));\n",
       "    }\n",
       "  })({\"config\": {\"view\": {\"continuousWidth\": 400, \"continuousHeight\": 300}, \"title\": {\"align\": \"center\", \"color\": \"black\", \"font\": \"Arial\", \"fontSize\": 16, \"offset\": 15, \"orient\": \"bottom\"}}, \"data\": {\"name\": \"data-37c891bb50915f3e536e0f602ba2dae9\"}, \"mark\": \"area\", \"encoding\": {\"color\": {\"type\": \"nominal\", \"field\": \"type_entree\", \"title\": \"Type d'entr\\u00e9es\"}, \"x\": {\"type\": \"ordinal\", \"field\": \"annee\", \"scale\": {\"padding\": 0}, \"title\": \"Ann\\u00e9e\"}, \"y\": {\"type\": \"quantitative\", \"field\": \"nombre_entree\", \"title\": \"Nombre d'entr\\u00e9es\"}}, \"title\": \"Fr\\u00e9quentation des mus\\u00e9es en France (2001-2019)\", \"$schema\": \"https://vega.github.io/schema/vega-lite/v4.8.1.json\", \"datasets\": {\"data-37c891bb50915f3e536e0f602ba2dae9\": [{\"annee\": 2001, \"type_entree\": \"payant\", \"nombre_entree\": 28466349.0}, {\"annee\": 2002, \"type_entree\": \"payant\", \"nombre_entree\": 29953221.0}, {\"annee\": 2003, \"type_entree\": \"payant\", \"nombre_entree\": 27012323.0}, {\"annee\": 2004, \"type_entree\": \"payant\", \"nombre_entree\": 32223957.0}, {\"annee\": 2005, \"type_entree\": \"payant\", \"nombre_entree\": 30315726.0}, {\"annee\": 2006, \"type_entree\": \"payant\", \"nombre_entree\": 32197378.0}, {\"annee\": 2007, \"type_entree\": \"payant\", \"nombre_entree\": 32713354.0}, {\"annee\": 2008, \"type_entree\": \"payant\", \"nombre_entree\": 33579952.0}, {\"annee\": 2009, \"type_entree\": \"payant\", \"nombre_entree\": 33193708.0}, {\"annee\": 2010, \"type_entree\": \"payant\", \"nombre_entree\": 32996844.0}, {\"annee\": 2011, \"type_entree\": \"payant\", \"nombre_entree\": 34914188.0}, {\"annee\": 2012, \"type_entree\": \"payant\", \"nombre_entree\": 34907138.0}, {\"annee\": 2013, \"type_entree\": \"payant\", \"nombre_entree\": 35930635.0}, {\"annee\": 2014, \"type_entree\": \"payant\", \"nombre_entree\": 36650770.0}, {\"annee\": 2015, \"type_entree\": \"payant\", \"nombre_entree\": 36244518.0}, {\"annee\": 2016, \"type_entree\": \"payant\", \"nombre_entree\": 33913590.0}, {\"annee\": 2017, \"type_entree\": \"payant\", \"nombre_entree\": 37231364.0}, {\"annee\": 2018, \"type_entree\": \"payant\", \"nombre_entree\": 38051214.0}, {\"annee\": 2019, \"type_entree\": \"payant\", \"nombre_entree\": 38919220.0}, {\"annee\": 2001, \"type_entree\": \"gratuit\", \"nombre_entree\": 10382830.0}, {\"annee\": 2002, \"type_entree\": \"gratuit\", \"nombre_entree\": 12416890.0}, {\"annee\": 2003, \"type_entree\": \"gratuit\", \"nombre_entree\": 13311906.0}, {\"annee\": 2004, \"type_entree\": \"gratuit\", \"nombre_entree\": 13406772.0}, {\"annee\": 2005, \"type_entree\": \"gratuit\", \"nombre_entree\": 14933647.0}, {\"annee\": 2006, \"type_entree\": \"gratuit\", \"nombre_entree\": 17921286.0}, {\"annee\": 2007, \"type_entree\": \"gratuit\", \"nombre_entree\": 19909054.0}, {\"annee\": 2008, \"type_entree\": \"gratuit\", \"nombre_entree\": 22189175.0}, {\"annee\": 2009, \"type_entree\": \"gratuit\", \"nombre_entree\": 23289275.0}, {\"annee\": 2010, \"type_entree\": \"gratuit\", \"nombre_entree\": 24498309.0}, {\"annee\": 2011, \"type_entree\": \"gratuit\", \"nombre_entree\": 24603377.0}, {\"annee\": 2012, \"type_entree\": \"gratuit\", \"nombre_entree\": 27144429.0}, {\"annee\": 2013, \"type_entree\": \"gratuit\", \"nombre_entree\": 28502992.0}, {\"annee\": 2014, \"type_entree\": \"gratuit\", \"nombre_entree\": 28498890.0}, {\"annee\": 2015, \"type_entree\": \"gratuit\", \"nombre_entree\": 26167070.0}, {\"annee\": 2016, \"type_entree\": \"gratuit\", \"nombre_entree\": 26360136.0}, {\"annee\": 2017, \"type_entree\": \"gratuit\", \"nombre_entree\": 26235288.0}, {\"annee\": 2018, \"type_entree\": \"gratuit\", \"nombre_entree\": 28623076.0}, {\"annee\": 2019, \"type_entree\": \"gratuit\", \"nombre_entree\": 27865284.0}]}}, {\"mode\": \"vega-lite\"});\n",
       "</script>"
      ],
      "text/plain": [
       "alt.Chart(...)"
      ]
     },
     "execution_count": 57,
     "metadata": {},
     "output_type": "execute_result"
    }
   ],
   "source": [
    "# On ajoute le paramètre \"scale\" auquel on passe l'objet \"Scale\" d'Altair, auquel on passe à son tour\n",
    "# une valeur numérique au paramètre \"padding\" qui permet de définir la marge latérale de l'axe\n",
    "alt.Chart(df_long_freq_annee).mark_area().encode(\n",
    "    alt.X(\n",
    "        shorthand=\"annee:O\",\n",
    "        title=\"Année\",\n",
    "        scale=alt.Scale(padding=0)\n",
    "    ),\n",
    "    alt.Y(\n",
    "        shorthand=\"nombre_entree:Q\",\n",
    "        title=\"Nombre d'entrées\"\n",
    "    ),\n",
    "    alt.Color(\n",
    "        shorthand=\"type_entree:N\",\n",
    "        title=\"Type d'entrées\"\n",
    "    )\n",
    ").properties(\n",
    "    title=\"Fréquentation des musées en France (2001-2019)\"\n",
    ").configure_title(\n",
    "    fontSize=16,\n",
    "    font=\"Arial\",\n",
    "    color=\"black\",\n",
    "    align=\"center\",\n",
    "    orient=\"bottom\",\n",
    "    offset=15\n",
    ")"
   ]
  },
  {
   "cell_type": "markdown",
   "id": "8edac544-99b7-4187-83b7-29235cbc57ba",
   "metadata": {},
   "source": [
    "Pour finaliser le graphique, retirons la grille de repère qui marque chaque point de repère de l'axe des ordonnées. Et enfin, modifions les paramètres d'affichage du graphique pour l'aggrandir."
   ]
  },
  {
   "cell_type": "code",
   "execution_count": 58,
   "id": "0b7fd017-7112-486a-8451-93a97aa1b8d6",
   "metadata": {},
   "outputs": [
    {
     "data": {
      "text/html": [
       "\n",
       "<div id=\"altair-viz-e241b122bcf24ea7bbea67786cdad646\"></div>\n",
       "<script type=\"text/javascript\">\n",
       "  (function(spec, embedOpt){\n",
       "    let outputDiv = document.currentScript.previousElementSibling;\n",
       "    if (outputDiv.id !== \"altair-viz-e241b122bcf24ea7bbea67786cdad646\") {\n",
       "      outputDiv = document.getElementById(\"altair-viz-e241b122bcf24ea7bbea67786cdad646\");\n",
       "    }\n",
       "    const paths = {\n",
       "      \"vega\": \"https://cdn.jsdelivr.net/npm//vega@5?noext\",\n",
       "      \"vega-lib\": \"https://cdn.jsdelivr.net/npm//vega-lib?noext\",\n",
       "      \"vega-lite\": \"https://cdn.jsdelivr.net/npm//vega-lite@4.8.1?noext\",\n",
       "      \"vega-embed\": \"https://cdn.jsdelivr.net/npm//vega-embed@6?noext\",\n",
       "    };\n",
       "\n",
       "    function loadScript(lib) {\n",
       "      return new Promise(function(resolve, reject) {\n",
       "        var s = document.createElement('script');\n",
       "        s.src = paths[lib];\n",
       "        s.async = true;\n",
       "        s.onload = () => resolve(paths[lib]);\n",
       "        s.onerror = () => reject(`Error loading script: ${paths[lib]}`);\n",
       "        document.getElementsByTagName(\"head\")[0].appendChild(s);\n",
       "      });\n",
       "    }\n",
       "\n",
       "    function showError(err) {\n",
       "      outputDiv.innerHTML = `<div class=\"error\" style=\"color:red;\">${err}</div>`;\n",
       "      throw err;\n",
       "    }\n",
       "\n",
       "    function displayChart(vegaEmbed) {\n",
       "      vegaEmbed(outputDiv, spec, embedOpt)\n",
       "        .catch(err => showError(`Javascript Error: ${err.message}<br>This usually means there's a typo in your chart specification. See the javascript console for the full traceback.`));\n",
       "    }\n",
       "\n",
       "    if(typeof define === \"function\" && define.amd) {\n",
       "      requirejs.config({paths});\n",
       "      require([\"vega-embed\"], displayChart, err => showError(`Error loading script: ${err.message}`));\n",
       "    } else if (typeof vegaEmbed === \"function\") {\n",
       "      displayChart(vegaEmbed);\n",
       "    } else {\n",
       "      loadScript(\"vega\")\n",
       "        .then(() => loadScript(\"vega-lite\"))\n",
       "        .then(() => loadScript(\"vega-embed\"))\n",
       "        .catch(showError)\n",
       "        .then(() => displayChart(vegaEmbed));\n",
       "    }\n",
       "  })({\"config\": {\"view\": {\"continuousWidth\": 400, \"continuousHeight\": 300}, \"title\": {\"align\": \"center\", \"color\": \"black\", \"font\": \"Arial\", \"fontSize\": 16, \"offset\": 15, \"orient\": \"bottom\"}}, \"data\": {\"name\": \"data-37c891bb50915f3e536e0f602ba2dae9\"}, \"mark\": \"area\", \"encoding\": {\"color\": {\"type\": \"nominal\", \"field\": \"type_entree\", \"title\": \"Type d'entr\\u00e9es\"}, \"x\": {\"type\": \"ordinal\", \"field\": \"annee\", \"scale\": {\"padding\": 0}, \"title\": \"Ann\\u00e9e\"}, \"y\": {\"type\": \"quantitative\", \"field\": \"nombre_entree\", \"title\": \"Nombre d'entr\\u00e9es\"}}, \"title\": \"Fr\\u00e9quentation des mus\\u00e9es en France (2001-2019)\", \"$schema\": \"https://vega.github.io/schema/vega-lite/v4.8.1.json\", \"datasets\": {\"data-37c891bb50915f3e536e0f602ba2dae9\": [{\"annee\": 2001, \"type_entree\": \"payant\", \"nombre_entree\": 28466349.0}, {\"annee\": 2002, \"type_entree\": \"payant\", \"nombre_entree\": 29953221.0}, {\"annee\": 2003, \"type_entree\": \"payant\", \"nombre_entree\": 27012323.0}, {\"annee\": 2004, \"type_entree\": \"payant\", \"nombre_entree\": 32223957.0}, {\"annee\": 2005, \"type_entree\": \"payant\", \"nombre_entree\": 30315726.0}, {\"annee\": 2006, \"type_entree\": \"payant\", \"nombre_entree\": 32197378.0}, {\"annee\": 2007, \"type_entree\": \"payant\", \"nombre_entree\": 32713354.0}, {\"annee\": 2008, \"type_entree\": \"payant\", \"nombre_entree\": 33579952.0}, {\"annee\": 2009, \"type_entree\": \"payant\", \"nombre_entree\": 33193708.0}, {\"annee\": 2010, \"type_entree\": \"payant\", \"nombre_entree\": 32996844.0}, {\"annee\": 2011, \"type_entree\": \"payant\", \"nombre_entree\": 34914188.0}, {\"annee\": 2012, \"type_entree\": \"payant\", \"nombre_entree\": 34907138.0}, {\"annee\": 2013, \"type_entree\": \"payant\", \"nombre_entree\": 35930635.0}, {\"annee\": 2014, \"type_entree\": \"payant\", \"nombre_entree\": 36650770.0}, {\"annee\": 2015, \"type_entree\": \"payant\", \"nombre_entree\": 36244518.0}, {\"annee\": 2016, \"type_entree\": \"payant\", \"nombre_entree\": 33913590.0}, {\"annee\": 2017, \"type_entree\": \"payant\", \"nombre_entree\": 37231364.0}, {\"annee\": 2018, \"type_entree\": \"payant\", \"nombre_entree\": 38051214.0}, {\"annee\": 2019, \"type_entree\": \"payant\", \"nombre_entree\": 38919220.0}, {\"annee\": 2001, \"type_entree\": \"gratuit\", \"nombre_entree\": 10382830.0}, {\"annee\": 2002, \"type_entree\": \"gratuit\", \"nombre_entree\": 12416890.0}, {\"annee\": 2003, \"type_entree\": \"gratuit\", \"nombre_entree\": 13311906.0}, {\"annee\": 2004, \"type_entree\": \"gratuit\", \"nombre_entree\": 13406772.0}, {\"annee\": 2005, \"type_entree\": \"gratuit\", \"nombre_entree\": 14933647.0}, {\"annee\": 2006, \"type_entree\": \"gratuit\", \"nombre_entree\": 17921286.0}, {\"annee\": 2007, \"type_entree\": \"gratuit\", \"nombre_entree\": 19909054.0}, {\"annee\": 2008, \"type_entree\": \"gratuit\", \"nombre_entree\": 22189175.0}, {\"annee\": 2009, \"type_entree\": \"gratuit\", \"nombre_entree\": 23289275.0}, {\"annee\": 2010, \"type_entree\": \"gratuit\", \"nombre_entree\": 24498309.0}, {\"annee\": 2011, \"type_entree\": \"gratuit\", \"nombre_entree\": 24603377.0}, {\"annee\": 2012, \"type_entree\": \"gratuit\", \"nombre_entree\": 27144429.0}, {\"annee\": 2013, \"type_entree\": \"gratuit\", \"nombre_entree\": 28502992.0}, {\"annee\": 2014, \"type_entree\": \"gratuit\", \"nombre_entree\": 28498890.0}, {\"annee\": 2015, \"type_entree\": \"gratuit\", \"nombre_entree\": 26167070.0}, {\"annee\": 2016, \"type_entree\": \"gratuit\", \"nombre_entree\": 26360136.0}, {\"annee\": 2017, \"type_entree\": \"gratuit\", \"nombre_entree\": 26235288.0}, {\"annee\": 2018, \"type_entree\": \"gratuit\", \"nombre_entree\": 28623076.0}, {\"annee\": 2019, \"type_entree\": \"gratuit\", \"nombre_entree\": 27865284.0}]}}, {\"mode\": \"vega-lite\"});\n",
       "</script>"
      ],
      "text/plain": [
       "alt.Chart(...)"
      ]
     },
     "execution_count": 58,
     "metadata": {},
     "output_type": "execute_result"
    }
   ],
   "source": [
    "# On ajoute la méthode \".configure_axis()\" pour supprimer l'affichage de la grille d'échelle ainsi que la\n",
    "# méthode \".properties()\" qui permet notamment de paramétrer la taille d'affichage du graphique\n",
    "alt.Chart(df_long_freq_annee).mark_area().encode(\n",
    "    alt.X(\n",
    "        shorthand=\"annee:O\",\n",
    "        title=\"Année\",\n",
    "        scale=alt.Scale(padding=0)\n",
    "    ),\n",
    "    alt.Y(\n",
    "        shorthand=\"nombre_entree:Q\",\n",
    "        title=\"Nombre d'entrées\"\n",
    "    ),\n",
    "    alt.Color(\n",
    "        shorthand=\"type_entree:N\",\n",
    "        title=\"Type d'entrées\"\n",
    "    )\n",
    ").properties(\n",
    "    title=\"Fréquentation des musées en France (2001-2019)\"\n",
    ").configure_title(\n",
    "    fontSize=16,\n",
    "    font=\"Arial\",\n",
    "    color=\"black\",\n",
    "    align=\"center\",\n",
    "    orient=\"bottom\",\n",
    "    offset=15\n",
    ")"
   ]
  },
  {
   "cell_type": "markdown",
   "id": "e90f24f7-191a-4c54-9397-652edaa2f4c8",
   "metadata": {
    "tags": []
   },
   "source": [
    "### 6. 3. Construire des graphiques interactifs pour le web"
   ]
  },
  {
   "cell_type": "markdown",
   "id": "18844b4b-23a6-4c4a-9e0c-ae92b3ea53ef",
   "metadata": {},
   "source": [
    "La force d'`Altair`, notamment du fait de son ancrage dans la technologie D3.js, est de permettre d'ajouter des éléments d'**interactivité**, rendant les graphiques produits grâce à cette bibliothèque particulièrement adaptés à leur publication sur le web.\n",
    "\n",
    "De la même façon que les aspects visuels, les **éléments d'interactivité** suivent la même **logique fonctionnelle et déclarative** d'`Altair`. Pour ce qui concerne l'interactivité, elle s'appuie sur trois éléments (qui s'appelent tous sur l'objet `Chart`) :\n",
    "* La méthode `.selection()` qui capture l'interaction de l'utilisat.eur.rice avec la souris\n",
    "* La méthode `.condition()` qui permet de définir, associé à une `selection` en entrée, des modifications à afficher sur le graphique\n",
    "* La propriété `.bind` qui permet de définir un lien à double sens entre une `selection` et des éléments d'entrée du graphique"
   ]
  },
  {
   "cell_type": "markdown",
   "id": "65952338-f2d3-4d4b-96a9-6bfa60a18547",
   "metadata": {
    "tags": []
   },
   "source": [
    "#### 6. 3. 1. Préparation des données"
   ]
  },
  {
   "cell_type": "markdown",
   "id": "16f72362-d4b0-4cc5-83d4-7be6104555e2",
   "metadata": {},
   "source": [
    "Dans ce nouvel exemple, nous allons créer un graphique interactif pour visualiser la fréquentation des musées par région. Pour cela, il nous faut effectuer une jointure entre les jeux de données `df_musees` et `df_freq` : on aura besoin d'une colonne contenant des valeurs communes pour cela, celles-ci permettant de faire correspondre chaque ligne de chaque jeu de données à celles de l'autre.\n",
    "\n",
    "Comme les musées n'ont pas le même âge et le même temps d'existence, certains disposent de données enregistrées pour toutes les années de 2009 à 2019, mais ce n'est pas le cas de tous. Ainsi, il nous faudra faire attention à faire une ***outer* jointure**, de telle sorte à ce que les musées pour lesquels il y a plusieurs années soient bel et bien pris en compte également.\n",
    "\n",
    "En faisant rapidement un `.groupby()` sur notre jeu de données qui contient les informations sur les fréquentations, on peut voir cela assez facilement. Ainsi, pour le musée qui a la référence `0105301`, on voit bien qu'il existe des données sur plusieurs années, ce qui n'est pas forcément le cas de tous les musées.\n",
    "\n",
    "Avant d'aller plus loin, commençons par définir la colonne `ref_musee` comme l'index de chacun des deux tableaux de données pour simplifier les opérations de jointure."
   ]
  },
  {
   "cell_type": "code",
   "execution_count": null,
   "id": "d894c3dc-0e62-429b-b43d-8b7eb9b32fbd",
   "metadata": {},
   "outputs": [],
   "source": [
    "df_musees.set_index(\"ref_musee\", inplace=True)\n",
    "df_freq.set_index(\"ref_musee\", inplace=True)"
   ]
  },
  {
   "cell_type": "markdown",
   "id": "832ba84a-0ecd-4038-a675-de7efba8e689",
   "metadata": {},
   "source": [
    "Maintenant que l'on a bien pris en compte ce paramètre, on peut préciser dans notre **jointure** que l'on souhaite qu'elle soit bien une ***outer* jointure**."
   ]
  },
  {
   "cell_type": "code",
   "execution_count": null,
   "id": "2fc8f363-83cd-4b1d-a49a-3ff69fecd977",
   "metadata": {},
   "outputs": [],
   "source": [
    "df_join = pd.merge(\n",
    "    left=df_freq,\n",
    "    right=df_musees,\n",
    "    left_index=True,\n",
    "    right_index=True\n",
    ")\n",
    "df_join.head()"
   ]
  },
  {
   "cell_type": "markdown",
   "id": "e5f861af-19df-4321-9401-fb86b75c9764",
   "metadata": {},
   "source": [
    "On peut s'assurer de ne pas avoir perdu de données en cours de route en vérifiant qu'il y a bel et bien plusieurs entrées pour un même musée dans notre nouveau jeu de données lié."
   ]
  },
  {
   "cell_type": "code",
   "execution_count": null,
   "id": "79f79a72-e93b-4dcd-a271-519d6d644959",
   "metadata": {},
   "outputs": [],
   "source": [
    "df_join.index.value_counts().head()"
   ]
  },
  {
   "cell_type": "code",
   "execution_count": null,
   "id": "f2a65b19-fa57-4c1f-83ac-f56495a3043b",
   "metadata": {},
   "outputs": [],
   "source": [
    "df_join.columns"
   ]
  },
  {
   "cell_type": "markdown",
   "id": "9688c6d3-3fd4-4c83-892f-c005b8f74ed1",
   "metadata": {},
   "source": [
    "A présent, on peut nettoyer le jeu de données pour sélectionner uniquement les colonnes qui nous intéressent."
   ]
  },
  {
   "cell_type": "code",
   "execution_count": null,
   "id": "0d2df4b2-adc7-42c7-97bf-d59b77931a05",
   "metadata": {},
   "outputs": [],
   "source": [
    "df_join.drop(columns=[\n",
    "    \"nom_du_musee_x\",\n",
    "    \"nom_du_musee_y\",\n",
    "    \"adr\",\n",
    "    \"ville\",\n",
    "    \"sitweb\",\n",
    "    \"departement\",\n",
    "    \"coordonnees_finales\"\n",
    "], inplace=True)\n",
    "df_join.head()"
   ]
  },
  {
   "cell_type": "markdown",
   "id": "e7487bd4-a000-4a4b-8d28-1f153ef53642",
   "metadata": {},
   "source": [
    "Maintenant, effectuons une opération pour grouper les musées et faire une somme des valeurs d'entrées enregistrées par région pour chaque année."
   ]
  },
  {
   "cell_type": "code",
   "execution_count": null,
   "id": "4b0a092e-ad37-4756-8be0-11cdf01711ff",
   "metadata": {},
   "outputs": [],
   "source": [
    "df_region_annee = df_join.groupby([\"region\", \"annee\"]).sum()\n",
    "df_region_annee.head()"
   ]
  },
  {
   "cell_type": "markdown",
   "id": "751284e4-349c-4d4b-8853-0c81bc7c7507",
   "metadata": {},
   "source": [
    "Comme `Altair` n'est pas capable de travailler à partir des valeurs stockées dans les index des tableaux de données `pandas`, on applique la méthode `.reset_index()` pour attribuer des colonnes à chaque variable."
   ]
  },
  {
   "cell_type": "code",
   "execution_count": null,
   "id": "40e3139c-f699-4f9a-a504-843492884ac4",
   "metadata": {},
   "outputs": [],
   "source": [
    "df_region_annee.reset_index(inplace=True)\n",
    "df_region_annee.head()"
   ]
  },
  {
   "cell_type": "markdown",
   "id": "95b43102-3096-4d12-9985-94a56625ccf8",
   "metadata": {
    "tags": []
   },
   "source": [
    "#### 6. 3. 2. Ajouter de l'interactivité"
   ]
  },
  {
   "cell_type": "markdown",
   "id": "ac031111-cbbd-4d8e-b8dd-9a923fb9e629",
   "metadata": {},
   "source": [
    "Il y a différentes façons d'ajouter des éléments d'**interactivité** avec `Altair`. Dans notre exemple, on souhaiterait pouvoir afficher les valeurs de fréquentation des musées par région à l'aide d'un **menu déroulant** qui permettrait de sélectionner la région qui nous intéresse.\n",
    "\n",
    "La premier élément que l'on peut définir est celui qui permet de lier la **liste des régions** et le bouton de défilement à partir duquel on pourra sélectionner la valeur que l'on souhaite."
   ]
  },
  {
   "cell_type": "code",
   "execution_count": null,
   "id": "8fb71750-8c7d-455f-98df-ddf2defc15c7",
   "metadata": {},
   "outputs": [],
   "source": [
    "bouton_selection = alt.binding_select(\n",
    "    options=df_region_annee[\"region\"].unique(),\n",
    "    name=\"Région\"\n",
    ")"
   ]
  },
  {
   "cell_type": "markdown",
   "id": "04fe91ef-2022-4309-86f6-b7ca4e1834cd",
   "metadata": {},
   "source": [
    "Ensuite, il s'agit de créer l'interface de **sélection** qui fait le lien entre les colonnes concernées dans le jeu de données et le bouton."
   ]
  },
  {
   "cell_type": "code",
   "execution_count": null,
   "id": "aea2641c-1b10-4163-9475-c3f86d372299",
   "metadata": {},
   "outputs": [],
   "source": [
    "selection = alt.selection_single(\n",
    "    fields=['region'],\n",
    "    bind=bouton_selection,\n",
    "    empty='none'\n",
    ")"
   ]
  },
  {
   "cell_type": "markdown",
   "id": "3c698920-ba0b-4605-9e83-4ba8ca89b0b1",
   "metadata": {},
   "source": [
    "Enfin, on définit une **condition** qui définit deux situations différentes entraînant une modification des variables visuelles sur le graphique : lorsque la condition est fausse et lorsqu'elle est vraie."
   ]
  },
  {
   "cell_type": "code",
   "execution_count": null,
   "id": "61c397b6-9f58-420b-9946-958b0358daed",
   "metadata": {},
   "outputs": [],
   "source": [
    "opacity = alt.condition(\n",
    "    predicate=selection,\n",
    "    if_true=alt.Opacity(\n",
    "        shorthand=\"region:N\",\n",
    "        legend=None\n",
    "    ),\n",
    "    if_false=alt.value(0.0)\n",
    ")"
   ]
  },
  {
   "cell_type": "markdown",
   "id": "acd92e04-3fde-4c3e-b497-9d810a6f137b",
   "metadata": {},
   "source": [
    "La dernière étape consiste à ajouter les éléments qui définissent l'aspect intéractif du graphique dans le graphique lui-même. Pour cela, on appelle la méthode `.add_selection()` à laquelle on passe en paramètre la fonction `selection` que l'on a définit plus tôt.\n",
    "\n",
    "Dans la méthode `.encode()`, on passe la **condition** en paramètre de la variable visuelle sur laquelle on veut que l'interaction agisse."
   ]
  },
  {
   "cell_type": "code",
   "execution_count": null,
   "id": "22196b77-c8fb-4073-8cb5-01ce5d949639",
   "metadata": {},
   "outputs": [],
   "source": [
    "alt.Chart(df_region_annee).mark_line().encode(\n",
    "    x=alt.X(\n",
    "        shorthand=\"annee:O\",\n",
    "        title=\"Année\"\n",
    "    ),\n",
    "    y=alt.Y(\n",
    "        shorthand=\"total:Q\",\n",
    "        title=\"Nombre total d'entrées\"\n",
    "    ),\n",
    "    opacity=opacity\n",
    ").add_selection(\n",
    "    selection\n",
    ").properties(\n",
    "    title=\"Fréquentation des musées en France par région (2001-2019)\",\n",
    "    width=650,\n",
    "    height=300\n",
    ").configure_title(\n",
    "    fontSize=16,\n",
    "    font=\"Arial\",\n",
    "    color=\"black\",\n",
    "    align=\"center\",\n",
    "    orient=\"bottom\",\n",
    "    offset=15\n",
    ")"
   ]
  },
  {
   "cell_type": "markdown",
   "id": "28779295-2972-4379-adbe-1cf58e044401",
   "metadata": {
    "jp-MarkdownHeadingCollapsed": true,
    "tags": []
   },
   "source": [
    "### 6. 4. Documentation"
   ]
  },
  {
   "cell_type": "markdown",
   "id": "277b44f0-2298-49c1-9052-dd18224331d5",
   "metadata": {},
   "source": [
    "On peut retrouver la documentation de la bibliothèque Altair à [cette adresse](https://altair-viz.github.io/). L'onglet de [guide d'utilisation](https://altair-viz.github.io/user_guide/data.html) de la documentation est particulièrement utile et permet de bien saisir la décomposition des éléments entre les méthodes `.mark()`, `.encoding()` en particulier qui animent tout le coeur du travail de représentation des données. "
   ]
  },
  {
   "cell_type": "markdown",
   "id": "2b08d7ea-f19f-4e34-9cab-55a0ca671359",
   "metadata": {
    "jp-MarkdownHeadingCollapsed": true,
    "tags": []
   },
   "source": [
    "### 6. 5. En résumé"
   ]
  },
  {
   "cell_type": "markdown",
   "id": "40651473-8141-4719-9c16-977e98ea0de3",
   "metadata": {},
   "source": [
    "* Une bibliothèque basée sur une approche fonctionnelle qui permet \n",
    "* La possibilité de réaliser des graphiques interactifs assez facilement\n",
    "* Avec néanmoins des limites dans les types possibles d'interactions que l'on peut mettre en place (on en peut pas, par exemple, charger des données dynamiquement)\n",
    "* Une syntaxe assez simple et claire\n",
    "* Une assez bonne documentation (en dehors des éléments liés à la partie interactive des graphiques et de la référence de l'API qui est plutôt indigeste et pas très simple à explorer)\n",
    "* La grammaire descriptive Vega qui permet d'exporter chaque graphique que l'on produit au format JSON (et que l'on peut donc ouvrir dans d'autres outils, notamment à l'aide de JavaScript pour construire des représentations graphiques pour le web)\n",
    "* L'intégration des possibilités d'interaction directement dans les notebooks Jupyter"
   ]
  },
  {
   "cell_type": "markdown",
   "id": "14864c82-45ea-427f-b049-9a08c7a7cb0b",
   "metadata": {
    "tags": []
   },
   "source": [
    "## 7. L'environnement de visualisation de données tout en un : Plotly"
   ]
  },
  {
   "cell_type": "markdown",
   "id": "e88ef9bf-59fe-4062-86f6-1bdd8487130f",
   "metadata": {},
   "source": [
    "### 7. 1. Présentation de Plotly et de son environnement technique"
   ]
  },
  {
   "cell_type": "markdown",
   "id": "0f51fff1-76fa-41fb-b804-944be0e6e5c0",
   "metadata": {},
   "source": [
    "`Plotly` est à la fois le nom d'une bibliothèque de visualisation de données et celui du projet qui l'entoure qui vise, plus largement, à développer des environnements de travail pour faciliter toute une série d'actions routinières encadrant les activités qui touchent à la \"science des données\".\n",
    "\n",
    "Ainsi, `Plotly` (la bibliothèque de visualisation de données) s'inscrit dans un environnement technique qui tend à rapprocher nombre d'outils ou de besoins récurrents dans les communautés intéressées à la \"science des données\". Par exemple, on retrouve la bibliothèque `Plotly` dans de multiples langages et environnements de travail orientés vers les mathématiques et l'analyse de données comme **Python**, **Matlab**, **R**, **Julia**.\n",
    "\n",
    "Associé à `Dash`, `Plotly` permet de produire rapidement des **tableaux de bord** pour résumer un ensemble de données visualisées de différentes manières."
   ]
  },
  {
   "cell_type": "markdown",
   "id": "bfb324a9-52b2-49e4-b310-9d73592807bd",
   "metadata": {},
   "source": [
    "### 7. 2. Prise en main de l'outil"
   ]
  },
  {
   "cell_type": "markdown",
   "id": "268c5735-0d9d-4a72-849c-6e07ec6ceeeb",
   "metadata": {},
   "source": [
    "ok"
   ]
  },
  {
   "cell_type": "markdown",
   "id": "5cac7d55-5a6f-41e6-a5e1-09d4299e22b9",
   "metadata": {},
   "source": [
    "### 7. 3. Produire un tableau de bord avec Plotly et Dash"
   ]
  },
  {
   "cell_type": "markdown",
   "id": "f18a7252-a40b-4071-9a03-820b6b51d8d4",
   "metadata": {},
   "source": [
    "ok"
   ]
  },
  {
   "cell_type": "markdown",
   "id": "29adfaf6-5326-46f9-888b-be13945d3d9d",
   "metadata": {},
   "source": [
    "## 8. Représentations cartographiques avec geoplot"
   ]
  },
  {
   "cell_type": "markdown",
   "id": "ae808bef-c143-407f-9fcd-e8681f791aac",
   "metadata": {},
   "source": [
    "### 8. 1. Produire des cartes avec le socle de Matplotlib"
   ]
  },
  {
   "cell_type": "markdown",
   "id": "96d0f954-11b8-4b09-872a-ccad79daf9be",
   "metadata": {},
   "source": [
    "`geoplot` est une bibliothèque qui s'appuie sur le socle de `Matplotlib` pour permettre de produire facilement des **représentations cartographiques courantes**. En effet, comme toutes les bibliothèques de **haut niveau**, `geoplot` a :\n",
    "* A la fois l'avantage de permettre de produire rapidement un résultat à partir de données bien formées\n",
    "* Mais également l'inconvénient de permettre seulement de construire des graphiques très normés, qui répondent aux \"grands standards\" des représentations cartographiques"
   ]
  },
  {
   "cell_type": "markdown",
   "id": "62fcb6c3-6d03-473e-a688-c9e707bfe9cf",
   "metadata": {
    "tags": []
   },
   "source": [
    "#### 8. 1. 1. Préparer les données pour la représentation cartographique"
   ]
  },
  {
   "cell_type": "markdown",
   "id": "ab4459aa-62a3-432b-9eb3-0ceb30953126",
   "metadata": {},
   "source": [
    "Produire une représentation cartographique nécessite :\n",
    "* D'ajouter aux données quantitatives, des données géographiques qui décrivent un ensemble de mesures de positions à la surface du globe (en fonction d'un référentiel donné)\n",
    "* De transformer les données géographiques et quantitatives de telles sortes à ce qu'elles soient adaptées à la représentation cartographique\n",
    "\n",
    "La première chose que l'on souhaite faire est d'extraire les **coordonnées latitude-longitude** de notre jeu de données descriptif des musées. Ces informations sont contenues dans la colonne `coordonnes_finales` que l'on peut séparer sur la base du caractère `,` qui va nous permettre d'appeler la méthode `.split()` de `pandas`."
   ]
  },
  {
   "cell_type": "code",
   "execution_count": null,
   "id": "fed274e5-9f32-44e8-94d3-2cc815fce818",
   "metadata": {},
   "outputs": [],
   "source": [
    "import geopandas as gpd\n",
    "import mapclassify as mc\n",
    "import geoplot as gplt"
   ]
  },
  {
   "cell_type": "code",
   "execution_count": null,
   "id": "f9dbd29e-2727-4a15-a653-02709a31ab6d",
   "metadata": {},
   "outputs": [],
   "source": [
    "df_coords = df_musees[\"coordonnees_finales\"].str.split(\",\", expand=True)\n",
    "df_coords.head()"
   ]
  },
  {
   "cell_type": "markdown",
   "id": "c2c37aeb-f85d-4074-a48b-3d277b21124e",
   "metadata": {},
   "source": [
    "On peut renommer rapidement les nouvelles colonnes crées avant de les insérer dans le jeu de données originel."
   ]
  },
  {
   "cell_type": "code",
   "execution_count": null,
   "id": "73334dd9-8423-4f49-84a2-40cbea535555",
   "metadata": {},
   "outputs": [],
   "source": [
    "# On renomme simplement les colonnes sur la base de leur nom préalable\n",
    "df_coords.rename({0: \"latitude\", 1: \"longitude\"}, axis=\"columns\", inplace=True)\n",
    "df_coords.head()"
   ]
  },
  {
   "cell_type": "markdown",
   "id": "53db8787-8524-4ba6-8f2e-922d4b11237f",
   "metadata": {},
   "source": [
    "Maintenant que l'on a extrait les **coordonnées latitude-longitude** dans des colonnes indépendantes, on peut fusionner ce nouveau tableau avec le précédent et procéder à un peu de nettoyage..."
   ]
  },
  {
   "cell_type": "code",
   "execution_count": null,
   "id": "ea107b54-5d7b-45ce-afaf-4e7768e12e31",
   "metadata": {},
   "outputs": [],
   "source": [
    "df_coords_musees = df_musees.merge(\n",
    "    df_coords,\n",
    "    left_on=df_musees.index,\n",
    "    right_on=df_coords.index\n",
    ")\n",
    "df_coords_musees.head(2)"
   ]
  },
  {
   "cell_type": "markdown",
   "id": "78c7eff9-71bd-43da-a64e-6ccb0d1e3782",
   "metadata": {},
   "source": [
    "Pour alléger la représentation cartographique, on fait ici le choix de retirer tous les musées qui ne sont pas en France métropolitaine. On peut afficher toutes les différentes régions et sélectionner celles que l'on veut retirer de notre représentation."
   ]
  },
  {
   "cell_type": "code",
   "execution_count": null,
   "id": "22e3f412-2d96-4c8d-a7da-bc89bd7aa13d",
   "metadata": {},
   "outputs": [],
   "source": [
    "df_coords_musees[\"region\"].unique()"
   ]
  },
  {
   "cell_type": "code",
   "execution_count": null,
   "id": "469c0ad9-8fde-4657-a510-0e8451dd3fb3",
   "metadata": {},
   "outputs": [],
   "source": [
    "df_coords_musees = df_coords_musees[~df_coords_musees[\"region\"].isin([\n",
    "    \"LA REUNION\",\n",
    "    \"MARTINIQUE\",\n",
    "    \"GUADELOUPE\",\n",
    "    \"GUYANE\",\n",
    "    \"SAINT-PIERRE ET MIQUELON\"\n",
    "])]"
   ]
  },
  {
   "cell_type": "markdown",
   "id": "8ee611e9-80ab-4db8-9b4e-7508148d2eec",
   "metadata": {},
   "source": [
    "Et on supprime rapidement les colonnes qui ne nous intéressent pas."
   ]
  },
  {
   "cell_type": "code",
   "execution_count": null,
   "id": "aaeb60f9-27df-4ccd-ac20-830abd06b244",
   "metadata": {},
   "outputs": [],
   "source": [
    "df_coords_musees.drop(columns=[\n",
    "    \"adr\",\n",
    "    \"ville\",\n",
    "    \"sitweb\",\n",
    "    \"region\",\n",
    "    \"departement\",\n",
    "    \"coordonnees_finales\"\n",
    "], inplace=True)\n",
    "df_coords_musees.head(2)"
   ]
  },
  {
   "cell_type": "markdown",
   "id": "2320fb40-014f-4d8c-a55d-658917c78f98",
   "metadata": {},
   "source": [
    "On renomme la colonne contenant le numéro de référence de chaque musée et on repasse ladite colonne `ref_musee` en index de notre nouveau tableau."
   ]
  },
  {
   "cell_type": "code",
   "execution_count": null,
   "id": "bc5c49b8-9f00-4012-8c70-576689021c6d",
   "metadata": {},
   "outputs": [],
   "source": [
    "df_coords_musees.rename({\"key_0\": \"ref_musee\"}, axis=\"columns\", inplace=True)\n",
    "df_coords_musees.set_index(\"ref_musee\", inplace=True)\n",
    "df_coords_musees.head()"
   ]
  },
  {
   "cell_type": "markdown",
   "id": "e9db651d-5de0-4afd-841c-3768ad21836a",
   "metadata": {},
   "source": [
    "Maintenant que nous avons des données propres, on peut utiliser la bibliothèque `geopandas` pour transformer les **coordonnées latitude-longitude** en des **données géographiques** qui seront exploitables par `geoplot`."
   ]
  },
  {
   "cell_type": "code",
   "execution_count": null,
   "id": "9e612b5c-42b0-4d24-86b4-1e63648feb41",
   "metadata": {},
   "outputs": [],
   "source": [
    "gpd_musees_france = gpd.GeoDataFrame(\n",
    "    data=df_coords_musees,\n",
    "    geometry=gpd.points_from_xy(\n",
    "        df_coords_musees[\"longitude\"],\n",
    "        df_coords_musees[\"latitude\"]\n",
    "    )\n",
    ")\n",
    "gpd_musees_france.head()"
   ]
  },
  {
   "cell_type": "markdown",
   "id": "20bf95c7-acee-47e8-9a5c-cf8de0733209",
   "metadata": {},
   "source": [
    "Maintenant que notre tableau de données est prêt à être visualisé, on peut charger un fond de carte qui nous permettra d'habiller la représentation graphique. `geopandas` est capable de lire les données géographiques au format `Shapefile`, on peut charger un tel fichier en appelant la méthode de `.read_file()` de `geopandas`."
   ]
  },
  {
   "cell_type": "code",
   "execution_count": null,
   "id": "a207c899-df7d-4a3e-a72d-9bd58b8141af",
   "metadata": {},
   "outputs": [],
   "source": [
    "# On charge les données de fond de carte et on supprime d'emblée les régions que l'on a décidé d'écarter\n",
    "# de notre représentation cartographique\n",
    "gpd_regions = gpd.read_file(\"data/regions/regions-2018.shp\")\n",
    "gpd_regions.drop([0, 2, 7, 11, 13], inplace=True)"
   ]
  },
  {
   "cell_type": "markdown",
   "id": "94914cd8-8995-42d3-a422-bc2704074fbe",
   "metadata": {
    "tags": []
   },
   "source": [
    "#### 8. 1. 2. Réaliser une carte de chaleur"
   ]
  },
  {
   "cell_type": "markdown",
   "id": "115f9a3d-7408-4f0d-ba6a-646dbc11e65c",
   "metadata": {},
   "source": [
    "`geoplot` dispose de différents types de représentations cartographiques prêts à l'emploi. Dans notre cas, nous choisirons de faire une représentation sous la forme de **carte de chaleur** : il s'agira de représenter par des contours de couleurs des zones où la densité des points est plus ou moins importante. La carte visualisera la densité de musées à l'échelle de la France métropolitaine.\n",
    "\n",
    "Pour cela, on peut utiliser la méthode `.kdeplot()` de `geoplot` qui applique une méthode d'***estimation par noyau*** : il ne s'agit pas ici d'entrée dans le détail de la méthode, mais on peut se référer à [cette ressource](https://mathisonian.github.io/kde/).\n",
    "\n",
    "On se reportera à la [documentation](https://mathisonian.github.io/kde/) de la méthode `.kdeplot()` pour explorer l'usage de ses différents paramètres en détail."
   ]
  },
  {
   "cell_type": "code",
   "execution_count": null,
   "id": "27052bfc-1c05-4c56-8b3f-585412d35102",
   "metadata": {},
   "outputs": [],
   "source": [
    "gplt.kdeplot(\n",
    "    df=gpd_musees_france,\n",
    "    n_levels=150,\n",
    "    cmap=\"Oranges\",\n",
    "    shade=True,\n",
    "    clip=gpd_regions,\n",
    "    figsize=(15, 10)\n",
    ");\n",
    "plt.title(\"Répartition des musées en France en 2019\")"
   ]
  },
  {
   "cell_type": "markdown",
   "id": "784759ab-adca-41f1-86d9-7b2556b36719",
   "metadata": {},
   "source": [
    "### 8. 3. En résumé"
   ]
  },
  {
   "cell_type": "markdown",
   "id": "ea6e319b-10f5-47bf-ae94-4a1f62552300",
   "metadata": {},
   "source": []
  },
  {
   "cell_type": "markdown",
   "id": "dcdb2a6f-5044-4908-a83c-39bcfc2e2a85",
   "metadata": {},
   "source": [
    "## 9."
   ]
  },
  {
   "cell_type": "code",
   "execution_count": null,
   "id": "ed26d140-b0d2-45dd-a5cb-d1102b160f13",
   "metadata": {},
   "outputs": [],
   "source": []
  },
  {
   "cell_type": "code",
   "execution_count": null,
   "id": "85539af5-3a7e-454b-aa67-d043a6b4540a",
   "metadata": {},
   "outputs": [],
   "source": []
  },
  {
   "cell_type": "code",
   "execution_count": null,
   "id": "64e76dc3-c5e1-476b-a1ac-609bd675034a",
   "metadata": {},
   "outputs": [],
   "source": []
  },
  {
   "cell_type": "code",
   "execution_count": null,
   "id": "9194f9f9-9d4f-44ce-9f5c-c353a4755808",
   "metadata": {},
   "outputs": [],
   "source": []
  },
  {
   "cell_type": "code",
   "execution_count": null,
   "id": "efec0def-947b-4fd4-a6a4-867de565c8dd",
   "metadata": {},
   "outputs": [],
   "source": []
  },
  {
   "cell_type": "code",
   "execution_count": null,
   "id": "060b28fc-5460-484b-838e-86a18058334e",
   "metadata": {},
   "outputs": [],
   "source": []
  },
  {
   "cell_type": "code",
   "execution_count": null,
   "id": "966b4d6b-2a81-46be-9242-f568eec4ac2d",
   "metadata": {},
   "outputs": [],
   "source": [
    "df_join = pd.merge(\n",
    "    left=df_freq,\n",
    "    right=df_musees,\n",
    "    left_index=True,\n",
    "    right_index=True\n",
    ")\n",
    "df_join.head()"
   ]
  },
  {
   "cell_type": "code",
   "execution_count": null,
   "id": "0e0f240b-5457-4fda-b73c-91ea539ccfa6",
   "metadata": {},
   "outputs": [],
   "source": [
    "df_musees_met = df_join[~df_join[\"region\"].isin([\n",
    "    \"GUADELOUPE\",\n",
    "    \"MARTINIQUE\",\n",
    "    \"GUYANE\",\n",
    "    \"LA REUNION\",\n",
    "    \"SAINT-PIERRE ET MIQUELON\"\n",
    "])]"
   ]
  },
  {
   "cell_type": "code",
   "execution_count": null,
   "id": "05e4063a-d32a-4940-838e-24b838847077",
   "metadata": {},
   "outputs": [],
   "source": [
    "# On effectue la somme des entrées par année par musée\n",
    "df_group_musee = df_musees_met.groupby([df_musees_met.index, \"annee\"]).sum().reset_index()\n",
    "df_group_musee.head()"
   ]
  },
  {
   "cell_type": "code",
   "execution_count": null,
   "id": "cc838e3d-87ce-4efa-9690-10817198771a",
   "metadata": {},
   "outputs": [],
   "source": [
    "df_split_coords = df_musees[\"coordonnees_finales\"].str.split(\",\", expand=True)\n",
    "df_split_coords.head()"
   ]
  },
  {
   "cell_type": "code",
   "execution_count": null,
   "id": "3b81694b-4211-497c-bb9e-0858298a3a76",
   "metadata": {},
   "outputs": [],
   "source": [
    "df_coords_group_musee = df_group_musee.merge(df_split_coords, left_on=df_group_musee[\"ref_musee\"], right_on=df_split_coords.index)\n",
    "df_coords_group_musee.head()"
   ]
  },
  {
   "cell_type": "code",
   "execution_count": null,
   "id": "008f0638-e59a-406c-aa82-7b1baee35f29",
   "metadata": {},
   "outputs": [],
   "source": [
    "gdf_coords_group_musee = gpd.GeoDataFrame(\n",
    "    df_coords_group_musee,\n",
    "    geometry=gpd.points_from_xy(\n",
    "        df_coords_group_musee[1],\n",
    "        df_coords_group_musee[0]\n",
    "    )\n",
    ")"
   ]
  },
  {
   "cell_type": "code",
   "execution_count": null,
   "id": "8c3c1b14-153f-4acb-bc34-ace29af4d628",
   "metadata": {},
   "outputs": [],
   "source": [
    "gdf_2019 = gdf_coords_group_musee[gdf_coords_group_musee[\"annee\"] == 2019]\n",
    "gdf_2019.head()"
   ]
  },
  {
   "cell_type": "code",
   "execution_count": null,
   "id": "4ca4f9ae-e9aa-45af-be08-f19a8471c1f7",
   "metadata": {},
   "outputs": [],
   "source": [
    "import geoplot as gplt\n",
    "import geoplot.crs as gcrs\n",
    "import mapclassify as mc"
   ]
  },
  {
   "cell_type": "code",
   "execution_count": null,
   "id": "31d78c79-53f3-4cd5-9eb8-2bd144905392",
   "metadata": {},
   "outputs": [],
   "source": [
    "disc = mc.FisherJenks(gdf_2019[\"total\"], k=5)"
   ]
  },
  {
   "cell_type": "code",
   "execution_count": null,
   "id": "0e2afc8a-7ca2-4c1d-817a-151710b56b8e",
   "metadata": {},
   "outputs": [],
   "source": [
    "gpd_regions = gpd.read_file(\"data/regions/regions-2018.shp\")\n",
    "gpd_regions.head()"
   ]
  },
  {
   "cell_type": "code",
   "execution_count": null,
   "id": "e26c9c8e-0db0-4236-a48b-425c0478f9a4",
   "metadata": {},
   "outputs": [],
   "source": [
    "gpd_france_met = gpd_regions.drop([0, 2, 7, 11, 13])"
   ]
  },
  {
   "cell_type": "code",
   "execution_count": null,
   "id": "49a58eb5-d9a4-489a-b0de-6f54715e94f0",
   "metadata": {},
   "outputs": [],
   "source": [
    "# ax = gplt.polyplot(gpd_france_met)\n",
    "gplt.kdeplot(\n",
    "    gdf_2019,\n",
    "    n_levels=50,\n",
    "    cmap=\"Oranges\",\n",
    "    shade=True,\n",
    "    clip=gpd_france_met\n",
    ")"
   ]
  },
  {
   "cell_type": "code",
   "execution_count": null,
   "id": "f5f0df77-10d4-4c9a-b8ce-7d6839493d99",
   "metadata": {},
   "outputs": [],
   "source": []
  }
 ],
 "metadata": {
  "kernelspec": {
   "display_name": "Python 3 (ipykernel)",
   "language": "python",
   "name": "python3"
  },
  "language_info": {
   "codemirror_mode": {
    "name": "ipython",
    "version": 3
   },
   "file_extension": ".py",
   "mimetype": "text/x-python",
   "name": "python",
   "nbconvert_exporter": "python",
   "pygments_lexer": "ipython3",
   "version": "3.9.6"
  }
 },
 "nbformat": 4,
 "nbformat_minor": 5
}
