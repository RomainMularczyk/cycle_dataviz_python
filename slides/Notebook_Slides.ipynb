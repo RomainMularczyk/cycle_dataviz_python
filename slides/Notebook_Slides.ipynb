{
 "cells": [
  {
   "cell_type": "markdown",
   "id": "331a6faf",
   "metadata": {
    "slideshow": {
     "slide_type": "slide"
    }
   },
   "source": [
    "# Panorama des bibliothèques Python pour la visualisation de données"
   ]
  },
  {
   "cell_type": "markdown",
   "id": "802fe29f",
   "metadata": {
    "slideshow": {
     "slide_type": "slide"
    }
   },
   "source": [
    "## 1. Remarques préalables"
   ]
  },
  {
   "cell_type": "markdown",
   "id": "cdda1605",
   "metadata": {
    "slideshow": {
     "slide_type": "subslide"
    }
   },
   "source": [
    "## 1. Remarques préalables\n",
    "\n",
    "\n",
    "* Présentation sous forme de \"liste de course\" :\n",
    "    * Explorer des cas d'usage propres à chaque bibliothèque\n",
    "    * Identifier certaines qui sortent du lot\n",
    "* Quelques **prérequis**. Python 3 et bibliothèques \"classiques\" pour l'**analyse de données** :\n",
    "    * `pandas`\n",
    "    * `numpy`"
   ]
  },
  {
   "cell_type": "markdown",
   "id": "22294cb9",
   "metadata": {
    "slideshow": {
     "slide_type": "subslide"
    }
   },
   "source": [
    "## 1. Remarques préalables\n",
    "\n",
    "\n",
    "* Format **atelier**/**démonstration**. Possible de récupérer les supports et d'expérimenter avec :\n",
    "    * Force des notebooks `Jupyter`\n",
    "    * Lien vers les supports : https://github.com/RomainMularczyk/cycle_dataviz_python\n",
    "    * Lancer directement le notebook avec **MyBinder** en cliquant sur le bouton suivant :\n",
    "    <img src=\"https://mybinder.org/badge_logo.svg\"/>"
   ]
  },
  {
   "cell_type": "markdown",
   "id": "11580888",
   "metadata": {
    "slideshow": {
     "slide_type": "slide"
    }
   },
   "source": [
    "## 2. Jeux de données support"
   ]
  },
  {
   "cell_type": "markdown",
   "id": "b0aae404",
   "metadata": {
    "slideshow": {
     "slide_type": "subslide"
    }
   },
   "source": [
    "## 2. Jeux de données support\n",
    "\n",
    "\n",
    "* Travail à partir de **trois jeux de données** :\n",
    "    * [Fréquentation des musées en France (2001-2019)](https://www.data.gouv.fr/fr/datasets/frequentation-des-musees-de-france-1/), au format CSV\n",
    "    * [Localisation des musées de France](https://www.data.gouv.fr/fr/datasets/liste-et-localisation-des-musees-de-france/), au format CSV\n",
    "    * [Contours des régions françaises sur OpenStreetMap](https://www.data.gouv.fr/fr/datasets/contours-des-regions-francaises-sur-openstreetmap/), au format SHP\n",
    "* Pour travailler avec **MyBinder**, il n'est pas nécessaire de les télécharger, elles sont incluses dans le dépôt GitHub"
   ]
  },
  {
   "cell_type": "markdown",
   "id": "7f280243",
   "metadata": {
    "slideshow": {
     "slide_type": "slide"
    }
   },
   "source": [
    "## 3. Eléments méthodologiques et pratiques"
   ]
  },
  {
   "cell_type": "markdown",
   "id": "db8a5214",
   "metadata": {
    "slideshow": {
     "slide_type": "subslide"
    }
   },
   "source": [
    "## 3. Eléments méthodologiques et pratiques\n",
    "\n",
    "\n",
    "* Objectif n'est pas d'explorer les **règles de sémiologie graphique** (J. Bertin)\n",
    "* Partir du point de vue du praticien et des façons de faire en travaillant avec des bibliothèques de code pour la visualisation de données\n",
    "* Pour cela, une référence socle : Nicolas Rougier, [*Ten simple rules for better figures* (2014)](https://journals.plos.org/ploscompbiol/article?id=10.1371/journal.pcbi.1003833)"
   ]
  },
  {
   "cell_type": "markdown",
   "id": "755df67e",
   "metadata": {
    "slideshow": {
     "slide_type": "subslide"
    }
   },
   "source": [
    "## 3. Eléments méthdologiques et pratiques\n",
    "\n",
    "\n",
    "* Quelques principes dans notre boîte à outils :\n",
    "    * Quel est notre message ?\n",
    "    * Quel est notre public ?\n",
    "    * Adapter le graphique à son support\n",
    "    * Ne pas se limiter aux paramètres par défaut de l'outil"
   ]
  },
  {
   "cell_type": "markdown",
   "id": "6c726b6d",
   "metadata": {
    "slideshow": {
     "slide_type": "slide"
    }
   },
   "source": [
    "## 4. Les bibliothèques Python pour la visualisation de données"
   ]
  },
  {
   "cell_type": "markdown",
   "id": "dce2f4a7",
   "metadata": {
    "slideshow": {
     "slide_type": "subslide"
    }
   },
   "source": [
    "## 4. Les bibliothèques Python pour la visualisation de données\n",
    "\n",
    "\n",
    "* Classiques :\n",
    "    * `Matplotlib`\n",
    "    * `Seaborn` (sur-couche de la précédente)\n",
    "* Sur du JavaScript (pour le web) :\n",
    "    * `Altair`\n",
    "    * `Plotly`\n",
    "    * `Bokeh`\n",
    "* Pour la cartographie :\n",
    "    * `geoplot`\n",
    "    * `Folium`"
   ]
  },
  {
   "cell_type": "markdown",
   "id": "f02c9e5c",
   "metadata": {
    "slideshow": {
     "slide_type": "subslide"
    }
   },
   "source": [
    "## 4. Les bibliothèques Python pour la visualisation de données\n",
    "\n",
    "\n",
    "* `Matplotlib` :\n",
    "    * Beaucoup de documentation, beaucoup de ressources et une communauté active très précieuse\n",
    "    * On peut, presque, tout faire avec\n",
    "    * Par défaut, c'est moche\n",
    "    * Difficile à prendre en main, avec quelques tours de main à intégrer\n",
    "    * Une bonne documentation mais pas forcément facile à manier\n",
    "    * Adapté pour produire des graphiques pour des documents (slides, articles, etc.)"
   ]
  },
  {
   "cell_type": "markdown",
   "id": "460cfcd4",
   "metadata": {
    "slideshow": {
     "slide_type": "subslide"
    }
   },
   "source": [
    "## 4. Les bibliothèques Python pour la visualisation de données\n",
    "\n",
    "* `Altair`/`Plotly` :\n",
    "    * Syntaxe déclarative : permet d'exporter le graphique sous forme d'objet JSON\n",
    "    * Découle de cela que tous les paramètres sont imbriqués et s'explorent assez bien avec la documentation\n",
    "    * Bonne documentation et énormément d'exemples bien utiles comme *template* de base\n",
    "    * Les meilleures pour des graphiques destiné au web\n",
    "    * Les meilleures pour des graphiques interactifs\n",
    "    * Bonne intégration avec `Jupyter`\n",
    "    * `Plotly`, en particulier, permet globalement de tout faire (même de la cartographie)\n",
    "    * `Plotly` permet aussi de produire des visualisations avec des données qualitatives\n",
    "    * Coût d'apprentissage lié à la complexité de l'approche déclarative et de l'imbrication parfois complexe des options de paramétrage\n",
    "    * Inconvénient aussi de produire du code parfois difficile à lire"
   ]
  },
  {
   "cell_type": "markdown",
   "id": "4ccacab4",
   "metadata": {
    "slideshow": {
     "slide_type": "subslide"
    }
   },
   "source": [
    "## 4. Les bibliothèques Python pour la visualisation de données\n",
    "\n",
    "* `geoplot` :\n",
    "    * Suppose de travailler avec `geopandas` et `shapely` pour formater les données géographiques\n",
    "    * API de haut-niveau avec la \"zoologie\" standard des cartes les plus courantes\n",
    "    * Sur la base de `Matplotlib` (ce qui permet donc d'appeler ses méthodes)\n",
    "    * Bonne documentation avec beaucoup d'exemples utiles comme *template* de base\n",
    "    * Outil très simple à prendre en main\n",
    "    \n",
    "* `Folium` :\n",
    "    * Sur la base de **Leaflet**, outil pour la cartographie interactive pour le web\n",
    "    * Uniquement pour du web\n",
    "    * Ne permet que de produire ce type de visualisation\n",
    "    * Ne permet donc pas de contrôler pleinement le rendu visuelle et interactif\n",
    "    * Très facile d'utilisation\n",
    "    * Peu de paramétrage possible"
   ]
  }
 ],
 "metadata": {
  "celltoolbar": "Slideshow",
  "kernelspec": {
   "display_name": "Python 3 (ipykernel)",
   "language": "python",
   "name": "python3"
  },
  "language_info": {
   "codemirror_mode": {
    "name": "ipython",
    "version": 3
   },
   "file_extension": ".py",
   "mimetype": "text/x-python",
   "name": "python",
   "nbconvert_exporter": "python",
   "pygments_lexer": "ipython3",
   "version": "3.9.6"
  }
 },
 "nbformat": 4,
 "nbformat_minor": 5
}
